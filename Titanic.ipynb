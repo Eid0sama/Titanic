{
 "cells": [
  {
   "cell_type": "code",
   "execution_count": 135,
   "id": "da3803e0",
   "metadata": {},
   "outputs": [],
   "source": [
    "import pandas as pd\n",
    "import numpy as np\n",
    "import seaborn as sns\n",
    "import matplotlib.pyplot as plt\n",
    "import plotly.express as px\n",
    "from sklearn.preprocessing import LabelEncoder"
   ]
  },
  {
   "cell_type": "code",
   "execution_count": 136,
   "id": "ff17cbf1",
   "metadata": {},
   "outputs": [],
   "source": [
    "df = pd.read_csv(r\"C:\\Users\\eid\\Downloads\\train.csv\")"
   ]
  },
  {
   "cell_type": "code",
   "execution_count": 137,
   "id": "2a5900a7",
   "metadata": {},
   "outputs": [
    {
     "data": {
      "text/html": [
       "<div>\n",
       "<style scoped>\n",
       "    .dataframe tbody tr th:only-of-type {\n",
       "        vertical-align: middle;\n",
       "    }\n",
       "\n",
       "    .dataframe tbody tr th {\n",
       "        vertical-align: top;\n",
       "    }\n",
       "\n",
       "    .dataframe thead th {\n",
       "        text-align: right;\n",
       "    }\n",
       "</style>\n",
       "<table border=\"1\" class=\"dataframe\">\n",
       "  <thead>\n",
       "    <tr style=\"text-align: right;\">\n",
       "      <th></th>\n",
       "      <th>PassengerId</th>\n",
       "      <th>Survived</th>\n",
       "      <th>Pclass</th>\n",
       "      <th>Name</th>\n",
       "      <th>Sex</th>\n",
       "      <th>Age</th>\n",
       "      <th>SibSp</th>\n",
       "      <th>Parch</th>\n",
       "      <th>Ticket</th>\n",
       "      <th>Fare</th>\n",
       "      <th>Cabin</th>\n",
       "      <th>Embarked</th>\n",
       "    </tr>\n",
       "  </thead>\n",
       "  <tbody>\n",
       "    <tr>\n",
       "      <th>0</th>\n",
       "      <td>1</td>\n",
       "      <td>0</td>\n",
       "      <td>3</td>\n",
       "      <td>Braund, Mr. Owen Harris</td>\n",
       "      <td>male</td>\n",
       "      <td>22.0</td>\n",
       "      <td>1</td>\n",
       "      <td>0</td>\n",
       "      <td>A/5 21171</td>\n",
       "      <td>7.2500</td>\n",
       "      <td>NaN</td>\n",
       "      <td>S</td>\n",
       "    </tr>\n",
       "    <tr>\n",
       "      <th>1</th>\n",
       "      <td>2</td>\n",
       "      <td>1</td>\n",
       "      <td>1</td>\n",
       "      <td>Cumings, Mrs. John Bradley (Florence Briggs Th...</td>\n",
       "      <td>female</td>\n",
       "      <td>38.0</td>\n",
       "      <td>1</td>\n",
       "      <td>0</td>\n",
       "      <td>PC 17599</td>\n",
       "      <td>71.2833</td>\n",
       "      <td>C85</td>\n",
       "      <td>C</td>\n",
       "    </tr>\n",
       "    <tr>\n",
       "      <th>2</th>\n",
       "      <td>3</td>\n",
       "      <td>1</td>\n",
       "      <td>3</td>\n",
       "      <td>Heikkinen, Miss. Laina</td>\n",
       "      <td>female</td>\n",
       "      <td>26.0</td>\n",
       "      <td>0</td>\n",
       "      <td>0</td>\n",
       "      <td>STON/O2. 3101282</td>\n",
       "      <td>7.9250</td>\n",
       "      <td>NaN</td>\n",
       "      <td>S</td>\n",
       "    </tr>\n",
       "    <tr>\n",
       "      <th>3</th>\n",
       "      <td>4</td>\n",
       "      <td>1</td>\n",
       "      <td>1</td>\n",
       "      <td>Futrelle, Mrs. Jacques Heath (Lily May Peel)</td>\n",
       "      <td>female</td>\n",
       "      <td>35.0</td>\n",
       "      <td>1</td>\n",
       "      <td>0</td>\n",
       "      <td>113803</td>\n",
       "      <td>53.1000</td>\n",
       "      <td>C123</td>\n",
       "      <td>S</td>\n",
       "    </tr>\n",
       "    <tr>\n",
       "      <th>4</th>\n",
       "      <td>5</td>\n",
       "      <td>0</td>\n",
       "      <td>3</td>\n",
       "      <td>Allen, Mr. William Henry</td>\n",
       "      <td>male</td>\n",
       "      <td>35.0</td>\n",
       "      <td>0</td>\n",
       "      <td>0</td>\n",
       "      <td>373450</td>\n",
       "      <td>8.0500</td>\n",
       "      <td>NaN</td>\n",
       "      <td>S</td>\n",
       "    </tr>\n",
       "    <tr>\n",
       "      <th>...</th>\n",
       "      <td>...</td>\n",
       "      <td>...</td>\n",
       "      <td>...</td>\n",
       "      <td>...</td>\n",
       "      <td>...</td>\n",
       "      <td>...</td>\n",
       "      <td>...</td>\n",
       "      <td>...</td>\n",
       "      <td>...</td>\n",
       "      <td>...</td>\n",
       "      <td>...</td>\n",
       "      <td>...</td>\n",
       "    </tr>\n",
       "    <tr>\n",
       "      <th>886</th>\n",
       "      <td>887</td>\n",
       "      <td>0</td>\n",
       "      <td>2</td>\n",
       "      <td>Montvila, Rev. Juozas</td>\n",
       "      <td>male</td>\n",
       "      <td>27.0</td>\n",
       "      <td>0</td>\n",
       "      <td>0</td>\n",
       "      <td>211536</td>\n",
       "      <td>13.0000</td>\n",
       "      <td>NaN</td>\n",
       "      <td>S</td>\n",
       "    </tr>\n",
       "    <tr>\n",
       "      <th>887</th>\n",
       "      <td>888</td>\n",
       "      <td>1</td>\n",
       "      <td>1</td>\n",
       "      <td>Graham, Miss. Margaret Edith</td>\n",
       "      <td>female</td>\n",
       "      <td>19.0</td>\n",
       "      <td>0</td>\n",
       "      <td>0</td>\n",
       "      <td>112053</td>\n",
       "      <td>30.0000</td>\n",
       "      <td>B42</td>\n",
       "      <td>S</td>\n",
       "    </tr>\n",
       "    <tr>\n",
       "      <th>888</th>\n",
       "      <td>889</td>\n",
       "      <td>0</td>\n",
       "      <td>3</td>\n",
       "      <td>Johnston, Miss. Catherine Helen \"Carrie\"</td>\n",
       "      <td>female</td>\n",
       "      <td>NaN</td>\n",
       "      <td>1</td>\n",
       "      <td>2</td>\n",
       "      <td>W./C. 6607</td>\n",
       "      <td>23.4500</td>\n",
       "      <td>NaN</td>\n",
       "      <td>S</td>\n",
       "    </tr>\n",
       "    <tr>\n",
       "      <th>889</th>\n",
       "      <td>890</td>\n",
       "      <td>1</td>\n",
       "      <td>1</td>\n",
       "      <td>Behr, Mr. Karl Howell</td>\n",
       "      <td>male</td>\n",
       "      <td>26.0</td>\n",
       "      <td>0</td>\n",
       "      <td>0</td>\n",
       "      <td>111369</td>\n",
       "      <td>30.0000</td>\n",
       "      <td>C148</td>\n",
       "      <td>C</td>\n",
       "    </tr>\n",
       "    <tr>\n",
       "      <th>890</th>\n",
       "      <td>891</td>\n",
       "      <td>0</td>\n",
       "      <td>3</td>\n",
       "      <td>Dooley, Mr. Patrick</td>\n",
       "      <td>male</td>\n",
       "      <td>32.0</td>\n",
       "      <td>0</td>\n",
       "      <td>0</td>\n",
       "      <td>370376</td>\n",
       "      <td>7.7500</td>\n",
       "      <td>NaN</td>\n",
       "      <td>Q</td>\n",
       "    </tr>\n",
       "  </tbody>\n",
       "</table>\n",
       "<p>891 rows × 12 columns</p>\n",
       "</div>"
      ],
      "text/plain": [
       "     PassengerId  Survived  Pclass  \\\n",
       "0              1         0       3   \n",
       "1              2         1       1   \n",
       "2              3         1       3   \n",
       "3              4         1       1   \n",
       "4              5         0       3   \n",
       "..           ...       ...     ...   \n",
       "886          887         0       2   \n",
       "887          888         1       1   \n",
       "888          889         0       3   \n",
       "889          890         1       1   \n",
       "890          891         0       3   \n",
       "\n",
       "                                                  Name     Sex   Age  SibSp  \\\n",
       "0                              Braund, Mr. Owen Harris    male  22.0      1   \n",
       "1    Cumings, Mrs. John Bradley (Florence Briggs Th...  female  38.0      1   \n",
       "2                               Heikkinen, Miss. Laina  female  26.0      0   \n",
       "3         Futrelle, Mrs. Jacques Heath (Lily May Peel)  female  35.0      1   \n",
       "4                             Allen, Mr. William Henry    male  35.0      0   \n",
       "..                                                 ...     ...   ...    ...   \n",
       "886                              Montvila, Rev. Juozas    male  27.0      0   \n",
       "887                       Graham, Miss. Margaret Edith  female  19.0      0   \n",
       "888           Johnston, Miss. Catherine Helen \"Carrie\"  female   NaN      1   \n",
       "889                              Behr, Mr. Karl Howell    male  26.0      0   \n",
       "890                                Dooley, Mr. Patrick    male  32.0      0   \n",
       "\n",
       "     Parch            Ticket     Fare Cabin Embarked  \n",
       "0        0         A/5 21171   7.2500   NaN        S  \n",
       "1        0          PC 17599  71.2833   C85        C  \n",
       "2        0  STON/O2. 3101282   7.9250   NaN        S  \n",
       "3        0            113803  53.1000  C123        S  \n",
       "4        0            373450   8.0500   NaN        S  \n",
       "..     ...               ...      ...   ...      ...  \n",
       "886      0            211536  13.0000   NaN        S  \n",
       "887      0            112053  30.0000   B42        S  \n",
       "888      2        W./C. 6607  23.4500   NaN        S  \n",
       "889      0            111369  30.0000  C148        C  \n",
       "890      0            370376   7.7500   NaN        Q  \n",
       "\n",
       "[891 rows x 12 columns]"
      ]
     },
     "execution_count": 137,
     "metadata": {},
     "output_type": "execute_result"
    }
   ],
   "source": [
    "df"
   ]
  },
  {
   "cell_type": "code",
   "execution_count": 138,
   "id": "ed390514",
   "metadata": {},
   "outputs": [],
   "source": [
    "df = df.drop(\"PassengerId\" , axis=1)"
   ]
  },
  {
   "cell_type": "code",
   "execution_count": 139,
   "id": "a010cb47",
   "metadata": {},
   "outputs": [
    {
     "name": "stdout",
     "output_type": "stream",
     "text": [
      "<class 'pandas.core.frame.DataFrame'>\n",
      "RangeIndex: 891 entries, 0 to 890\n",
      "Data columns (total 11 columns):\n",
      " #   Column    Non-Null Count  Dtype  \n",
      "---  ------    --------------  -----  \n",
      " 0   Survived  891 non-null    int64  \n",
      " 1   Pclass    891 non-null    int64  \n",
      " 2   Name      891 non-null    object \n",
      " 3   Sex       891 non-null    object \n",
      " 4   Age       714 non-null    float64\n",
      " 5   SibSp     891 non-null    int64  \n",
      " 6   Parch     891 non-null    int64  \n",
      " 7   Ticket    891 non-null    object \n",
      " 8   Fare      891 non-null    float64\n",
      " 9   Cabin     204 non-null    object \n",
      " 10  Embarked  889 non-null    object \n",
      "dtypes: float64(2), int64(4), object(5)\n",
      "memory usage: 76.7+ KB\n"
     ]
    }
   ],
   "source": [
    "df.info()"
   ]
  },
  {
   "cell_type": "code",
   "execution_count": 140,
   "id": "2eeeada4",
   "metadata": {},
   "outputs": [
    {
     "data": {
      "text/html": [
       "<div>\n",
       "<style scoped>\n",
       "    .dataframe tbody tr th:only-of-type {\n",
       "        vertical-align: middle;\n",
       "    }\n",
       "\n",
       "    .dataframe tbody tr th {\n",
       "        vertical-align: top;\n",
       "    }\n",
       "\n",
       "    .dataframe thead th {\n",
       "        text-align: right;\n",
       "    }\n",
       "</style>\n",
       "<table border=\"1\" class=\"dataframe\">\n",
       "  <thead>\n",
       "    <tr style=\"text-align: right;\">\n",
       "      <th></th>\n",
       "      <th>Survived</th>\n",
       "      <th>Pclass</th>\n",
       "      <th>Age</th>\n",
       "      <th>SibSp</th>\n",
       "      <th>Parch</th>\n",
       "      <th>Fare</th>\n",
       "    </tr>\n",
       "  </thead>\n",
       "  <tbody>\n",
       "    <tr>\n",
       "      <th>count</th>\n",
       "      <td>891.000000</td>\n",
       "      <td>891.000000</td>\n",
       "      <td>714.000000</td>\n",
       "      <td>891.000000</td>\n",
       "      <td>891.000000</td>\n",
       "      <td>891.000000</td>\n",
       "    </tr>\n",
       "    <tr>\n",
       "      <th>mean</th>\n",
       "      <td>0.383838</td>\n",
       "      <td>2.308642</td>\n",
       "      <td>29.699118</td>\n",
       "      <td>0.523008</td>\n",
       "      <td>0.381594</td>\n",
       "      <td>32.204208</td>\n",
       "    </tr>\n",
       "    <tr>\n",
       "      <th>std</th>\n",
       "      <td>0.486592</td>\n",
       "      <td>0.836071</td>\n",
       "      <td>14.526497</td>\n",
       "      <td>1.102743</td>\n",
       "      <td>0.806057</td>\n",
       "      <td>49.693429</td>\n",
       "    </tr>\n",
       "    <tr>\n",
       "      <th>min</th>\n",
       "      <td>0.000000</td>\n",
       "      <td>1.000000</td>\n",
       "      <td>0.420000</td>\n",
       "      <td>0.000000</td>\n",
       "      <td>0.000000</td>\n",
       "      <td>0.000000</td>\n",
       "    </tr>\n",
       "    <tr>\n",
       "      <th>25%</th>\n",
       "      <td>0.000000</td>\n",
       "      <td>2.000000</td>\n",
       "      <td>20.125000</td>\n",
       "      <td>0.000000</td>\n",
       "      <td>0.000000</td>\n",
       "      <td>7.910400</td>\n",
       "    </tr>\n",
       "    <tr>\n",
       "      <th>50%</th>\n",
       "      <td>0.000000</td>\n",
       "      <td>3.000000</td>\n",
       "      <td>28.000000</td>\n",
       "      <td>0.000000</td>\n",
       "      <td>0.000000</td>\n",
       "      <td>14.454200</td>\n",
       "    </tr>\n",
       "    <tr>\n",
       "      <th>75%</th>\n",
       "      <td>1.000000</td>\n",
       "      <td>3.000000</td>\n",
       "      <td>38.000000</td>\n",
       "      <td>1.000000</td>\n",
       "      <td>0.000000</td>\n",
       "      <td>31.000000</td>\n",
       "    </tr>\n",
       "    <tr>\n",
       "      <th>max</th>\n",
       "      <td>1.000000</td>\n",
       "      <td>3.000000</td>\n",
       "      <td>80.000000</td>\n",
       "      <td>8.000000</td>\n",
       "      <td>6.000000</td>\n",
       "      <td>512.329200</td>\n",
       "    </tr>\n",
       "  </tbody>\n",
       "</table>\n",
       "</div>"
      ],
      "text/plain": [
       "         Survived      Pclass         Age       SibSp       Parch        Fare\n",
       "count  891.000000  891.000000  714.000000  891.000000  891.000000  891.000000\n",
       "mean     0.383838    2.308642   29.699118    0.523008    0.381594   32.204208\n",
       "std      0.486592    0.836071   14.526497    1.102743    0.806057   49.693429\n",
       "min      0.000000    1.000000    0.420000    0.000000    0.000000    0.000000\n",
       "25%      0.000000    2.000000   20.125000    0.000000    0.000000    7.910400\n",
       "50%      0.000000    3.000000   28.000000    0.000000    0.000000   14.454200\n",
       "75%      1.000000    3.000000   38.000000    1.000000    0.000000   31.000000\n",
       "max      1.000000    3.000000   80.000000    8.000000    6.000000  512.329200"
      ]
     },
     "execution_count": 140,
     "metadata": {},
     "output_type": "execute_result"
    }
   ],
   "source": [
    "df.describe()"
   ]
  },
  {
   "cell_type": "code",
   "execution_count": 141,
   "id": "2017678b",
   "metadata": {},
   "outputs": [
    {
     "data": {
      "text/plain": [
       "Survived     0.000000\n",
       "Pclass       0.000000\n",
       "Name         0.000000\n",
       "Sex          0.000000\n",
       "Age         19.865320\n",
       "SibSp        0.000000\n",
       "Parch        0.000000\n",
       "Ticket       0.000000\n",
       "Fare         0.000000\n",
       "Cabin       77.104377\n",
       "Embarked     0.224467\n",
       "dtype: float64"
      ]
     },
     "execution_count": 141,
     "metadata": {},
     "output_type": "execute_result"
    }
   ],
   "source": [
    "df.isnull().sum()/891 *100"
   ]
  },
  {
   "cell_type": "code",
   "execution_count": 142,
   "id": "a6032701",
   "metadata": {},
   "outputs": [
    {
     "data": {
      "image/png": "[encoded data removed]",
      "text/plain": [
       "<Figure size 640x480 with 2 Axes>"
      ]
     },
     "metadata": {},
     "output_type": "display_data"
    }
   ],
   "source": [
    "sns.heatmap(df.isnull())\n",
    "plt.show()"
   ]
  },
  {
   "cell_type": "markdown",
   "id": "4c14b0d5",
   "metadata": {},
   "source": [
    "### 77% of the cabin coulmn is missing so we gonna drop the column"
   ]
  },
  {
   "cell_type": "code",
   "execution_count": 143,
   "id": "ceeb54ee",
   "metadata": {},
   "outputs": [],
   "source": [
    "df = df.drop(\"Cabin\" , axis=1)"
   ]
  },
  {
   "cell_type": "markdown",
   "id": "077671b5",
   "metadata": {},
   "source": [
    "### only 0.2 of the embarked is missing, so i am filling it with mode"
   ]
  },
  {
   "cell_type": "code",
   "execution_count": 144,
   "id": "5fdd3c27",
   "metadata": {},
   "outputs": [
    {
     "data": {
      "text/plain": [
       "0    S\n",
       "Name: Embarked, dtype: object"
      ]
     },
     "execution_count": 144,
     "metadata": {},
     "output_type": "execute_result"
    }
   ],
   "source": [
    "df['Embarked'].mode()"
   ]
  },
  {
   "cell_type": "code",
   "execution_count": 145,
   "id": "ed7e772b",
   "metadata": {},
   "outputs": [],
   "source": [
    "df['Embarked'].fillna(\"S\",inplace =True)"
   ]
  },
  {
   "cell_type": "markdown",
   "id": "4acc2f72",
   "metadata": {},
   "source": [
    "###  i am gonna use salutation(like mr , mrs) in the name feature assign the mean age of each salutation to the respective groups "
   ]
  },
  {
   "cell_type": "code",
   "execution_count": 146,
   "id": "badf05af",
   "metadata": {},
   "outputs": [],
   "source": [
    "df['Initial']=0\n",
    "for i in df:\n",
    "    df['Initial']=df.Name.str.extract('([A-Za-z]+)\\.')"
   ]
  },
  {
   "cell_type": "code",
   "execution_count": 147,
   "id": "76afda17",
   "metadata": {},
   "outputs": [
    {
     "data": {
      "text/plain": [
       "Sex     Initial \n",
       "female  Countess      1\n",
       "        Dr            1\n",
       "        Lady          1\n",
       "        Miss        182\n",
       "        Mlle          2\n",
       "        Mme           1\n",
       "        Mrs         125\n",
       "        Ms            1\n",
       "male    Capt          1\n",
       "        Col           2\n",
       "        Don           1\n",
       "        Dr            6\n",
       "        Jonkheer      1\n",
       "        Major         2\n",
       "        Master       40\n",
       "        Mr          517\n",
       "        Rev           6\n",
       "        Sir           1\n",
       "Name: Initial, dtype: int64"
      ]
     },
     "execution_count": 147,
     "metadata": {},
     "output_type": "execute_result"
    }
   ],
   "source": [
    "df.groupby([\"Sex\",\"Initial\"])[\"Initial\"].count()"
   ]
  },
  {
   "cell_type": "code",
   "execution_count": 148,
   "id": "524a4207",
   "metadata": {},
   "outputs": [],
   "source": [
    "# replacing ['Mlle','Mme','Ms'] with miss becuase of misspell\n",
    "# replacing ['Dr','Major','Capt','Sir','Don'] with mr\n",
    "# replacing ['Jonkheer','Col','Rev',] with other\n",
    "df['Initial'].replace(['Mlle','Mme','Ms','Dr','Major','Lady','Countess','Jonkheer'\n",
    "                         ,'Col','Rev','Capt','Sir','Don'],\n",
    "['Miss','Miss','Miss','Mr','Mr','Mrs','Mrs','Other','Other','Other','Mr','Mr','Mr'],inplace=True)"
   ]
  },
  {
   "cell_type": "code",
   "execution_count": 149,
   "id": "b14dc00f",
   "metadata": {},
   "outputs": [
    {
     "data": {
      "text/plain": [
       "Initial\n",
       "Master     4.574167\n",
       "Miss      21.860000\n",
       "Mr        32.739609\n",
       "Mrs       35.981818\n",
       "Other     45.888889\n",
       "Name: Age, dtype: float64"
      ]
     },
     "execution_count": 149,
     "metadata": {},
     "output_type": "execute_result"
    }
   ],
   "source": [
    "df.groupby('Initial')['Age'].mean()"
   ]
  },
  {
   "cell_type": "code",
   "execution_count": 150,
   "id": "418331df",
   "metadata": {},
   "outputs": [],
   "source": [
    "df.loc[(df.Age.isnull())&(df[\"Initial\"]=='Master'),'Age'] = 5\n",
    "df.loc[(df.Age.isnull())&(df[\"Initial\"]=='Miss'),'Age'] = 22\n",
    "df.loc[(df.Age.isnull()&(df[\"Initial\"]=='Mr')),'Age'] = 33\n",
    "df.loc[(df.Age.isnull()&(df[\"Initial\"]=='Mrs')),'Age'] = 36\n",
    "df.loc[(df.Age.isnull()&(df[\"Initial\"]=='Other')),'Age'] = 46"
   ]
  },
  {
   "cell_type": "code",
   "execution_count": 151,
   "id": "be1bab96",
   "metadata": {},
   "outputs": [
    {
     "data": {
      "text/plain": [
       "Survived    0\n",
       "Pclass      0\n",
       "Name        0\n",
       "Sex         0\n",
       "Age         0\n",
       "SibSp       0\n",
       "Parch       0\n",
       "Ticket      0\n",
       "Fare        0\n",
       "Embarked    0\n",
       "Initial     0\n",
       "dtype: int64"
      ]
     },
     "execution_count": 151,
     "metadata": {},
     "output_type": "execute_result"
    }
   ],
   "source": [
    "df.isnull().sum()"
   ]
  },
  {
   "cell_type": "markdown",
   "id": "49ee6838",
   "metadata": {},
   "source": [
    "### replacing 1,0 with survived and dead for better visualization"
   ]
  },
  {
   "cell_type": "code",
   "execution_count": 152,
   "id": "fe546c2c",
   "metadata": {},
   "outputs": [
    {
     "data": {
      "text/html": [
       "<div>\n",
       "<style scoped>\n",
       "    .dataframe tbody tr th:only-of-type {\n",
       "        vertical-align: middle;\n",
       "    }\n",
       "\n",
       "    .dataframe tbody tr th {\n",
       "        vertical-align: top;\n",
       "    }\n",
       "\n",
       "    .dataframe thead th {\n",
       "        text-align: right;\n",
       "    }\n",
       "</style>\n",
       "<table border=\"1\" class=\"dataframe\">\n",
       "  <thead>\n",
       "    <tr style=\"text-align: right;\">\n",
       "      <th></th>\n",
       "      <th>Survived</th>\n",
       "      <th>Pclass</th>\n",
       "      <th>Name</th>\n",
       "      <th>Sex</th>\n",
       "      <th>Age</th>\n",
       "      <th>SibSp</th>\n",
       "      <th>Parch</th>\n",
       "      <th>Ticket</th>\n",
       "      <th>Fare</th>\n",
       "      <th>Embarked</th>\n",
       "      <th>Initial</th>\n",
       "    </tr>\n",
       "  </thead>\n",
       "  <tbody>\n",
       "    <tr>\n",
       "      <th>0</th>\n",
       "      <td>dead</td>\n",
       "      <td>3</td>\n",
       "      <td>Braund, Mr. Owen Harris</td>\n",
       "      <td>male</td>\n",
       "      <td>22.0</td>\n",
       "      <td>1</td>\n",
       "      <td>0</td>\n",
       "      <td>A/5 21171</td>\n",
       "      <td>7.2500</td>\n",
       "      <td>S</td>\n",
       "      <td>Mr</td>\n",
       "    </tr>\n",
       "    <tr>\n",
       "      <th>1</th>\n",
       "      <td>survived</td>\n",
       "      <td>1</td>\n",
       "      <td>Cumings, Mrs. John Bradley (Florence Briggs Th...</td>\n",
       "      <td>female</td>\n",
       "      <td>38.0</td>\n",
       "      <td>1</td>\n",
       "      <td>0</td>\n",
       "      <td>PC 17599</td>\n",
       "      <td>71.2833</td>\n",
       "      <td>C</td>\n",
       "      <td>Mrs</td>\n",
       "    </tr>\n",
       "    <tr>\n",
       "      <th>2</th>\n",
       "      <td>survived</td>\n",
       "      <td>3</td>\n",
       "      <td>Heikkinen, Miss. Laina</td>\n",
       "      <td>female</td>\n",
       "      <td>26.0</td>\n",
       "      <td>0</td>\n",
       "      <td>0</td>\n",
       "      <td>STON/O2. 3101282</td>\n",
       "      <td>7.9250</td>\n",
       "      <td>S</td>\n",
       "      <td>Miss</td>\n",
       "    </tr>\n",
       "    <tr>\n",
       "      <th>3</th>\n",
       "      <td>survived</td>\n",
       "      <td>1</td>\n",
       "      <td>Futrelle, Mrs. Jacques Heath (Lily May Peel)</td>\n",
       "      <td>female</td>\n",
       "      <td>35.0</td>\n",
       "      <td>1</td>\n",
       "      <td>0</td>\n",
       "      <td>113803</td>\n",
       "      <td>53.1000</td>\n",
       "      <td>S</td>\n",
       "      <td>Mrs</td>\n",
       "    </tr>\n",
       "    <tr>\n",
       "      <th>4</th>\n",
       "      <td>dead</td>\n",
       "      <td>3</td>\n",
       "      <td>Allen, Mr. William Henry</td>\n",
       "      <td>male</td>\n",
       "      <td>35.0</td>\n",
       "      <td>0</td>\n",
       "      <td>0</td>\n",
       "      <td>373450</td>\n",
       "      <td>8.0500</td>\n",
       "      <td>S</td>\n",
       "      <td>Mr</td>\n",
       "    </tr>\n",
       "    <tr>\n",
       "      <th>...</th>\n",
       "      <td>...</td>\n",
       "      <td>...</td>\n",
       "      <td>...</td>\n",
       "      <td>...</td>\n",
       "      <td>...</td>\n",
       "      <td>...</td>\n",
       "      <td>...</td>\n",
       "      <td>...</td>\n",
       "      <td>...</td>\n",
       "      <td>...</td>\n",
       "      <td>...</td>\n",
       "    </tr>\n",
       "    <tr>\n",
       "      <th>886</th>\n",
       "      <td>dead</td>\n",
       "      <td>2</td>\n",
       "      <td>Montvila, Rev. Juozas</td>\n",
       "      <td>male</td>\n",
       "      <td>27.0</td>\n",
       "      <td>0</td>\n",
       "      <td>0</td>\n",
       "      <td>211536</td>\n",
       "      <td>13.0000</td>\n",
       "      <td>S</td>\n",
       "      <td>Other</td>\n",
       "    </tr>\n",
       "    <tr>\n",
       "      <th>887</th>\n",
       "      <td>survived</td>\n",
       "      <td>1</td>\n",
       "      <td>Graham, Miss. Margaret Edith</td>\n",
       "      <td>female</td>\n",
       "      <td>19.0</td>\n",
       "      <td>0</td>\n",
       "      <td>0</td>\n",
       "      <td>112053</td>\n",
       "      <td>30.0000</td>\n",
       "      <td>S</td>\n",
       "      <td>Miss</td>\n",
       "    </tr>\n",
       "    <tr>\n",
       "      <th>888</th>\n",
       "      <td>dead</td>\n",
       "      <td>3</td>\n",
       "      <td>Johnston, Miss. Catherine Helen \"Carrie\"</td>\n",
       "      <td>female</td>\n",
       "      <td>22.0</td>\n",
       "      <td>1</td>\n",
       "      <td>2</td>\n",
       "      <td>W./C. 6607</td>\n",
       "      <td>23.4500</td>\n",
       "      <td>S</td>\n",
       "      <td>Miss</td>\n",
       "    </tr>\n",
       "    <tr>\n",
       "      <th>889</th>\n",
       "      <td>survived</td>\n",
       "      <td>1</td>\n",
       "      <td>Behr, Mr. Karl Howell</td>\n",
       "      <td>male</td>\n",
       "      <td>26.0</td>\n",
       "      <td>0</td>\n",
       "      <td>0</td>\n",
       "      <td>111369</td>\n",
       "      <td>30.0000</td>\n",
       "      <td>C</td>\n",
       "      <td>Mr</td>\n",
       "    </tr>\n",
       "    <tr>\n",
       "      <th>890</th>\n",
       "      <td>dead</td>\n",
       "      <td>3</td>\n",
       "      <td>Dooley, Mr. Patrick</td>\n",
       "      <td>male</td>\n",
       "      <td>32.0</td>\n",
       "      <td>0</td>\n",
       "      <td>0</td>\n",
       "      <td>370376</td>\n",
       "      <td>7.7500</td>\n",
       "      <td>Q</td>\n",
       "      <td>Mr</td>\n",
       "    </tr>\n",
       "  </tbody>\n",
       "</table>\n",
       "<p>891 rows × 11 columns</p>\n",
       "</div>"
      ],
      "text/plain": [
       "     Survived  Pclass                                               Name  \\\n",
       "0        dead       3                            Braund, Mr. Owen Harris   \n",
       "1    survived       1  Cumings, Mrs. John Bradley (Florence Briggs Th...   \n",
       "2    survived       3                             Heikkinen, Miss. Laina   \n",
       "3    survived       1       Futrelle, Mrs. Jacques Heath (Lily May Peel)   \n",
       "4        dead       3                           Allen, Mr. William Henry   \n",
       "..        ...     ...                                                ...   \n",
       "886      dead       2                              Montvila, Rev. Juozas   \n",
       "887  survived       1                       Graham, Miss. Margaret Edith   \n",
       "888      dead       3           Johnston, Miss. Catherine Helen \"Carrie\"   \n",
       "889  survived       1                              Behr, Mr. Karl Howell   \n",
       "890      dead       3                                Dooley, Mr. Patrick   \n",
       "\n",
       "        Sex   Age  SibSp  Parch            Ticket     Fare Embarked Initial  \n",
       "0      male  22.0      1      0         A/5 21171   7.2500        S      Mr  \n",
       "1    female  38.0      1      0          PC 17599  71.2833        C     Mrs  \n",
       "2    female  26.0      0      0  STON/O2. 3101282   7.9250        S    Miss  \n",
       "3    female  35.0      1      0            113803  53.1000        S     Mrs  \n",
       "4      male  35.0      0      0            373450   8.0500        S      Mr  \n",
       "..      ...   ...    ...    ...               ...      ...      ...     ...  \n",
       "886    male  27.0      0      0            211536  13.0000        S   Other  \n",
       "887  female  19.0      0      0            112053  30.0000        S    Miss  \n",
       "888  female  22.0      1      2        W./C. 6607  23.4500        S    Miss  \n",
       "889    male  26.0      0      0            111369  30.0000        C      Mr  \n",
       "890    male  32.0      0      0            370376   7.7500        Q      Mr  \n",
       "\n",
       "[891 rows x 11 columns]"
      ]
     },
     "execution_count": 152,
     "metadata": {},
     "output_type": "execute_result"
    }
   ],
   "source": [
    "df2 = df.copy()\n",
    "df2[\"Survived\"].replace([1,0],[\"survived\",'dead'], inplace=True)\n",
    "df2"
   ]
  },
  {
   "cell_type": "code",
   "execution_count": 153,
   "id": "4b8a1eb5",
   "metadata": {},
   "outputs": [
    {
     "data": {
      "text/plain": [
       "Survived\n",
       "dead        549\n",
       "survived    342\n",
       "Name: Survived, dtype: int64"
      ]
     },
     "execution_count": 153,
     "metadata": {},
     "output_type": "execute_result"
    }
   ],
   "source": [
    "df2.groupby(\"Survived\")[\"Survived\"].count()"
   ]
  },
  {
   "cell_type": "markdown",
   "id": "1d159ac0",
   "metadata": {},
   "source": [
    "### how many survived ?"
   ]
  },
  {
   "cell_type": "code",
   "execution_count": 193,
   "id": "18770df1",
   "metadata": {},
   "outputs": [
    {
     "data": {
      "application/vnd.plotly.v1+json": {
       "config": {
        "plotlyServerURL": "https://plot.ly"
       },
       "data": [
        {
         "customdata": [
          [
           "dead"
          ],
          [
           "survived"
          ],
          [
           "survived"
          ],
          [
           "survived"
          ],
          [
           "dead"
          ],
          [
           "dead"
          ],
          [
           "dead"
          ],
          [
           "dead"
          ],
          [
           "survived"
          ],
          [
           "survived"
          ],
          [
           "survived"
          ],
          [
           "survived"
          ],
          [
           "dead"
          ],
          [
           "dead"
          ],
          [
           "dead"
          ],
          [
           "survived"
          ],
          [
           "dead"
          ],
          [
           "survived"
          ],
          [
           "dead"
          ],
          [
           "survived"
          ],
          [
           "dead"
          ],
          [
           "survived"
          ],
          [
           "survived"
          ],
          [
           "survived"
          ],
          [
           "dead"
          ],
          [
           "survived"
          ],
          [
           "dead"
          ],
          [
           "dead"
          ],
          [
           "survived"
          ],
          [
           "dead"
          ],
          [
           "dead"
          ],
          [
           "survived"
          ],
          [
           "survived"
          ],
          [
           "dead"
          ],
          [
           "dead"
          ],
          [
           "dead"
          ],
          [
           "survived"
          ],
          [
           "dead"
          ],
          [
           "dead"
          ],
          [
           "survived"
          ],
          [
           "dead"
          ],
          [
           "dead"
          ],
          [
           "dead"
          ],
          [
           "survived"
          ],
          [
           "survived"
          ],
          [
           "dead"
          ],
          [
           "dead"
          ],
          [
           "survived"
          ],
          [
           "dead"
          ],
          [
           "dead"
          ],
          [
           "dead"
          ],
          [
           "dead"
          ],
          [
           "survived"
          ],
          [
           "survived"
          ],
          [
           "dead"
          ],
          [
           "survived"
          ],
          [
           "survived"
          ],
          [
           "dead"
          ],
          [
           "survived"
          ],
          [
           "dead"
          ],
          [
           "dead"
          ],
          [
           "survived"
          ],
          [
           "dead"
          ],
          [
           "dead"
          ],
          [
           "dead"
          ],
          [
           "survived"
          ],
          [
           "survived"
          ],
          [
           "dead"
          ],
          [
           "survived"
          ],
          [
           "dead"
          ],
          [
           "dead"
          ],
          [
           "dead"
          ],
          [
           "dead"
          ],
          [
           "dead"
          ],
          [
           "survived"
          ],
          [
           "dead"
          ],
          [
           "dead"
          ],
          [
           "dead"
          ],
          [
           "survived"
          ],
          [
           "survived"
          ],
          [
           "dead"
          ],
          [
           "survived"
          ],
          [
           "survived"
          ],
          [
           "dead"
          ],
          [
           "survived"
          ],
          [
           "survived"
          ],
          [
           "dead"
          ],
          [
           "dead"
          ],
          [
           "survived"
          ],
          [
           "dead"
          ],
          [
           "dead"
          ],
          [
           "dead"
          ],
          [
           "dead"
          ],
          [
           "dead"
          ],
          [
           "dead"
          ],
          [
           "dead"
          ],
          [
           "dead"
          ],
          [
           "survived"
          ],
          [
           "survived"
          ],
          [
           "dead"
          ],
          [
           "dead"
          ],
          [
           "dead"
          ],
          [
           "dead"
          ],
          [
           "dead"
          ],
          [
           "dead"
          ],
          [
           "dead"
          ],
          [
           "survived"
          ],
          [
           "survived"
          ],
          [
           "dead"
          ],
          [
           "survived"
          ],
          [
           "dead"
          ],
          [
           "dead"
          ],
          [
           "dead"
          ],
          [
           "dead"
          ],
          [
           "dead"
          ],
          [
           "dead"
          ],
          [
           "dead"
          ],
          [
           "dead"
          ],
          [
           "dead"
          ],
          [
           "dead"
          ],
          [
           "dead"
          ],
          [
           "dead"
          ],
          [
           "dead"
          ],
          [
           "survived"
          ],
          [
           "dead"
          ],
          [
           "survived"
          ],
          [
           "dead"
          ],
          [
           "survived"
          ],
          [
           "survived"
          ],
          [
           "dead"
          ],
          [
           "dead"
          ],
          [
           "dead"
          ],
          [
           "dead"
          ],
          [
           "survived"
          ],
          [
           "dead"
          ],
          [
           "dead"
          ],
          [
           "survived"
          ],
          [
           "dead"
          ],
          [
           "dead"
          ],
          [
           "dead"
          ],
          [
           "dead"
          ],
          [
           "survived"
          ],
          [
           "survived"
          ],
          [
           "dead"
          ],
          [
           "dead"
          ],
          [
           "dead"
          ],
          [
           "survived"
          ],
          [
           "dead"
          ],
          [
           "dead"
          ],
          [
           "dead"
          ],
          [
           "dead"
          ],
          [
           "survived"
          ],
          [
           "dead"
          ],
          [
           "dead"
          ],
          [
           "dead"
          ],
          [
           "dead"
          ],
          [
           "survived"
          ],
          [
           "dead"
          ],
          [
           "dead"
          ],
          [
           "dead"
          ],
          [
           "dead"
          ],
          [
           "survived"
          ],
          [
           "dead"
          ],
          [
           "dead"
          ],
          [
           "dead"
          ],
          [
           "survived"
          ],
          [
           "survived"
          ],
          [
           "dead"
          ],
          [
           "dead"
          ],
          [
           "dead"
          ],
          [
           "dead"
          ],
          [
           "dead"
          ],
          [
           "survived"
          ],
          [
           "dead"
          ],
          [
           "dead"
          ],
          [
           "dead"
          ],
          [
           "dead"
          ],
          [
           "dead"
          ],
          [
           "dead"
          ],
          [
           "dead"
          ],
          [
           "dead"
          ],
          [
           "dead"
          ],
          [
           "dead"
          ],
          [
           "survived"
          ],
          [
           "survived"
          ],
          [
           "dead"
          ],
          [
           "survived"
          ],
          [
           "survived"
          ],
          [
           "dead"
          ],
          [
           "dead"
          ],
          [
           "survived"
          ],
          [
           "dead"
          ],
          [
           "survived"
          ],
          [
           "survived"
          ],
          [
           "survived"
          ],
          [
           "survived"
          ],
          [
           "dead"
          ],
          [
           "dead"
          ],
          [
           "survived"
          ],
          [
           "dead"
          ],
          [
           "dead"
          ],
          [
           "dead"
          ],
          [
           "dead"
          ],
          [
           "dead"
          ],
          [
           "survived"
          ],
          [
           "dead"
          ],
          [
           "dead"
          ],
          [
           "survived"
          ],
          [
           "survived"
          ],
          [
           "survived"
          ],
          [
           "dead"
          ],
          [
           "survived"
          ],
          [
           "dead"
          ],
          [
           "dead"
          ],
          [
           "dead"
          ],
          [
           "survived"
          ],
          [
           "survived"
          ],
          [
           "dead"
          ],
          [
           "survived"
          ],
          [
           "dead"
          ],
          [
           "survived"
          ],
          [
           "dead"
          ],
          [
           "dead"
          ],
          [
           "dead"
          ],
          [
           "survived"
          ],
          [
           "dead"
          ],
          [
           "survived"
          ],
          [
           "dead"
          ],
          [
           "dead"
          ],
          [
           "dead"
          ],
          [
           "survived"
          ],
          [
           "dead"
          ],
          [
           "dead"
          ],
          [
           "survived"
          ],
          [
           "dead"
          ],
          [
           "dead"
          ],
          [
           "dead"
          ],
          [
           "survived"
          ],
          [
           "dead"
          ],
          [
           "dead"
          ],
          [
           "dead"
          ],
          [
           "survived"
          ],
          [
           "dead"
          ],
          [
           "dead"
          ],
          [
           "dead"
          ],
          [
           "dead"
          ],
          [
           "dead"
          ],
          [
           "survived"
          ],
          [
           "survived"
          ],
          [
           "dead"
          ],
          [
           "dead"
          ],
          [
           "dead"
          ],
          [
           "dead"
          ],
          [
           "dead"
          ],
          [
           "dead"
          ],
          [
           "survived"
          ],
          [
           "survived"
          ],
          [
           "survived"
          ],
          [
           "survived"
          ],
          [
           "survived"
          ],
          [
           "dead"
          ],
          [
           "survived"
          ],
          [
           "dead"
          ],
          [
           "dead"
          ],
          [
           "dead"
          ],
          [
           "dead"
          ],
          [
           "dead"
          ],
          [
           "survived"
          ],
          [
           "survived"
          ],
          [
           "survived"
          ],
          [
           "dead"
          ],
          [
           "survived"
          ],
          [
           "survived"
          ],
          [
           "dead"
          ],
          [
           "survived"
          ],
          [
           "survived"
          ],
          [
           "dead"
          ],
          [
           "dead"
          ],
          [
           "dead"
          ],
          [
           "survived"
          ],
          [
           "dead"
          ],
          [
           "dead"
          ],
          [
           "dead"
          ],
          [
           "survived"
          ],
          [
           "dead"
          ],
          [
           "dead"
          ],
          [
           "survived"
          ],
          [
           "dead"
          ],
          [
           "survived"
          ],
          [
           "survived"
          ],
          [
           "survived"
          ],
          [
           "survived"
          ],
          [
           "dead"
          ],
          [
           "dead"
          ],
          [
           "dead"
          ],
          [
           "dead"
          ],
          [
           "dead"
          ],
          [
           "dead"
          ],
          [
           "survived"
          ],
          [
           "survived"
          ],
          [
           "survived"
          ],
          [
           "survived"
          ],
          [
           "dead"
          ],
          [
           "survived"
          ],
          [
           "dead"
          ],
          [
           "survived"
          ],
          [
           "survived"
          ],
          [
           "survived"
          ],
          [
           "dead"
          ],
          [
           "survived"
          ],
          [
           "survived"
          ],
          [
           "survived"
          ],
          [
           "dead"
          ],
          [
           "dead"
          ],
          [
           "dead"
          ],
          [
           "survived"
          ],
          [
           "survived"
          ],
          [
           "dead"
          ],
          [
           "survived"
          ],
          [
           "survived"
          ],
          [
           "dead"
          ],
          [
           "dead"
          ],
          [
           "survived"
          ],
          [
           "survived"
          ],
          [
           "dead"
          ],
          [
           "survived"
          ],
          [
           "dead"
          ],
          [
           "survived"
          ],
          [
           "survived"
          ],
          [
           "survived"
          ],
          [
           "survived"
          ],
          [
           "dead"
          ],
          [
           "dead"
          ],
          [
           "dead"
          ],
          [
           "survived"
          ],
          [
           "dead"
          ],
          [
           "dead"
          ],
          [
           "survived"
          ],
          [
           "survived"
          ],
          [
           "dead"
          ],
          [
           "survived"
          ],
          [
           "survived"
          ],
          [
           "dead"
          ],
          [
           "dead"
          ],
          [
           "dead"
          ],
          [
           "survived"
          ],
          [
           "survived"
          ],
          [
           "survived"
          ],
          [
           "survived"
          ],
          [
           "dead"
          ],
          [
           "dead"
          ],
          [
           "dead"
          ],
          [
           "dead"
          ],
          [
           "dead"
          ],
          [
           "dead"
          ],
          [
           "dead"
          ],
          [
           "survived"
          ],
          [
           "dead"
          ],
          [
           "survived"
          ],
          [
           "survived"
          ],
          [
           "dead"
          ],
          [
           "dead"
          ],
          [
           "dead"
          ],
          [
           "dead"
          ],
          [
           "dead"
          ],
          [
           "dead"
          ],
          [
           "survived"
          ],
          [
           "survived"
          ],
          [
           "survived"
          ],
          [
           "survived"
          ],
          [
           "survived"
          ],
          [
           "dead"
          ],
          [
           "dead"
          ],
          [
           "dead"
          ],
          [
           "dead"
          ],
          [
           "survived"
          ],
          [
           "survived"
          ],
          [
           "dead"
          ],
          [
           "dead"
          ],
          [
           "dead"
          ],
          [
           "survived"
          ],
          [
           "survived"
          ],
          [
           "dead"
          ],
          [
           "survived"
          ],
          [
           "dead"
          ],
          [
           "dead"
          ],
          [
           "dead"
          ],
          [
           "survived"
          ],
          [
           "dead"
          ],
          [
           "survived"
          ],
          [
           "survived"
          ],
          [
           "survived"
          ],
          [
           "dead"
          ],
          [
           "survived"
          ],
          [
           "survived"
          ],
          [
           "dead"
          ],
          [
           "dead"
          ],
          [
           "dead"
          ],
          [
           "dead"
          ],
          [
           "survived"
          ],
          [
           "survived"
          ],
          [
           "dead"
          ],
          [
           "dead"
          ],
          [
           "dead"
          ],
          [
           "dead"
          ],
          [
           "dead"
          ],
          [
           "dead"
          ],
          [
           "survived"
          ],
          [
           "dead"
          ],
          [
           "dead"
          ],
          [
           "dead"
          ],
          [
           "dead"
          ],
          [
           "survived"
          ],
          [
           "dead"
          ],
          [
           "survived"
          ],
          [
           "dead"
          ],
          [
           "survived"
          ],
          [
           "survived"
          ],
          [
           "dead"
          ],
          [
           "dead"
          ],
          [
           "dead"
          ],
          [
           "dead"
          ],
          [
           "dead"
          ],
          [
           "dead"
          ],
          [
           "dead"
          ],
          [
           "dead"
          ],
          [
           "survived"
          ],
          [
           "survived"
          ],
          [
           "dead"
          ],
          [
           "survived"
          ],
          [
           "survived"
          ],
          [
           "survived"
          ],
          [
           "survived"
          ],
          [
           "dead"
          ],
          [
           "dead"
          ],
          [
           "survived"
          ],
          [
           "dead"
          ],
          [
           "survived"
          ],
          [
           "dead"
          ],
          [
           "dead"
          ],
          [
           "survived"
          ],
          [
           "dead"
          ],
          [
           "dead"
          ],
          [
           "survived"
          ],
          [
           "survived"
          ],
          [
           "survived"
          ],
          [
           "survived"
          ],
          [
           "survived"
          ],
          [
           "survived"
          ],
          [
           "survived"
          ],
          [
           "dead"
          ],
          [
           "dead"
          ],
          [
           "dead"
          ],
          [
           "survived"
          ],
          [
           "dead"
          ],
          [
           "survived"
          ],
          [
           "dead"
          ],
          [
           "survived"
          ],
          [
           "survived"
          ],
          [
           "dead"
          ],
          [
           "survived"
          ],
          [
           "dead"
          ],
          [
           "dead"
          ],
          [
           "dead"
          ],
          [
           "dead"
          ],
          [
           "dead"
          ],
          [
           "dead"
          ],
          [
           "dead"
          ],
          [
           "dead"
          ],
          [
           "survived"
          ],
          [
           "dead"
          ],
          [
           "dead"
          ],
          [
           "survived"
          ],
          [
           "survived"
          ],
          [
           "dead"
          ],
          [
           "dead"
          ],
          [
           "dead"
          ],
          [
           "dead"
          ],
          [
           "dead"
          ],
          [
           "survived"
          ],
          [
           "dead"
          ],
          [
           "dead"
          ],
          [
           "dead"
          ],
          [
           "survived"
          ],
          [
           "survived"
          ],
          [
           "dead"
          ],
          [
           "survived"
          ],
          [
           "dead"
          ],
          [
           "dead"
          ],
          [
           "survived"
          ],
          [
           "dead"
          ],
          [
           "dead"
          ],
          [
           "dead"
          ],
          [
           "dead"
          ],
          [
           "dead"
          ],
          [
           "dead"
          ],
          [
           "survived"
          ],
          [
           "dead"
          ],
          [
           "dead"
          ],
          [
           "dead"
          ],
          [
           "dead"
          ],
          [
           "dead"
          ],
          [
           "dead"
          ],
          [
           "dead"
          ],
          [
           "survived"
          ],
          [
           "dead"
          ],
          [
           "survived"
          ],
          [
           "survived"
          ],
          [
           "dead"
          ],
          [
           "survived"
          ],
          [
           "survived"
          ],
          [
           "dead"
          ],
          [
           "survived"
          ],
          [
           "survived"
          ],
          [
           "dead"
          ],
          [
           "dead"
          ],
          [
           "survived"
          ],
          [
           "dead"
          ],
          [
           "survived"
          ],
          [
           "dead"
          ],
          [
           "survived"
          ],
          [
           "dead"
          ],
          [
           "dead"
          ],
          [
           "survived"
          ],
          [
           "dead"
          ],
          [
           "dead"
          ],
          [
           "survived"
          ],
          [
           "dead"
          ],
          [
           "dead"
          ],
          [
           "dead"
          ],
          [
           "survived"
          ],
          [
           "dead"
          ],
          [
           "dead"
          ],
          [
           "survived"
          ],
          [
           "dead"
          ],
          [
           "survived"
          ],
          [
           "dead"
          ],
          [
           "survived"
          ],
          [
           "dead"
          ],
          [
           "survived"
          ],
          [
           "survived"
          ],
          [
           "dead"
          ],
          [
           "dead"
          ],
          [
           "survived"
          ],
          [
           "dead"
          ],
          [
           "dead"
          ],
          [
           "survived"
          ],
          [
           "survived"
          ],
          [
           "dead"
          ],
          [
           "survived"
          ],
          [
           "survived"
          ],
          [
           "dead"
          ],
          [
           "dead"
          ],
          [
           "survived"
          ],
          [
           "survived"
          ],
          [
           "dead"
          ],
          [
           "survived"
          ],
          [
           "dead"
          ],
          [
           "survived"
          ],
          [
           "survived"
          ],
          [
           "dead"
          ],
          [
           "dead"
          ],
          [
           "dead"
          ],
          [
           "dead"
          ],
          [
           "dead"
          ],
          [
           "dead"
          ],
          [
           "dead"
          ],
          [
           "dead"
          ],
          [
           "dead"
          ],
          [
           "survived"
          ],
          [
           "survived"
          ],
          [
           "survived"
          ],
          [
           "survived"
          ],
          [
           "survived"
          ],
          [
           "dead"
          ],
          [
           "dead"
          ],
          [
           "survived"
          ],
          [
           "survived"
          ],
          [
           "dead"
          ],
          [
           "survived"
          ],
          [
           "survived"
          ],
          [
           "survived"
          ],
          [
           "dead"
          ],
          [
           "dead"
          ],
          [
           "dead"
          ],
          [
           "survived"
          ],
          [
           "dead"
          ],
          [
           "survived"
          ],
          [
           "dead"
          ],
          [
           "dead"
          ],
          [
           "dead"
          ],
          [
           "survived"
          ],
          [
           "dead"
          ],
          [
           "dead"
          ],
          [
           "dead"
          ],
          [
           "dead"
          ],
          [
           "survived"
          ],
          [
           "dead"
          ],
          [
           "dead"
          ],
          [
           "survived"
          ],
          [
           "survived"
          ],
          [
           "dead"
          ],
          [
           "dead"
          ],
          [
           "dead"
          ],
          [
           "survived"
          ],
          [
           "dead"
          ],
          [
           "dead"
          ],
          [
           "survived"
          ],
          [
           "survived"
          ],
          [
           "survived"
          ],
          [
           "dead"
          ],
          [
           "dead"
          ],
          [
           "survived"
          ],
          [
           "dead"
          ],
          [
           "dead"
          ],
          [
           "survived"
          ],
          [
           "dead"
          ],
          [
           "dead"
          ],
          [
           "survived"
          ],
          [
           "dead"
          ],
          [
           "dead"
          ],
          [
           "survived"
          ],
          [
           "survived"
          ],
          [
           "dead"
          ],
          [
           "dead"
          ],
          [
           "dead"
          ],
          [
           "dead"
          ],
          [
           "survived"
          ],
          [
           "dead"
          ],
          [
           "dead"
          ],
          [
           "survived"
          ],
          [
           "dead"
          ],
          [
           "survived"
          ],
          [
           "dead"
          ],
          [
           "dead"
          ],
          [
           "survived"
          ],
          [
           "dead"
          ],
          [
           "dead"
          ],
          [
           "dead"
          ],
          [
           "dead"
          ],
          [
           "dead"
          ],
          [
           "survived"
          ],
          [
           "dead"
          ],
          [
           "survived"
          ],
          [
           "survived"
          ],
          [
           "survived"
          ],
          [
           "dead"
          ],
          [
           "survived"
          ],
          [
           "dead"
          ],
          [
           "survived"
          ],
          [
           "dead"
          ],
          [
           "survived"
          ],
          [
           "dead"
          ],
          [
           "survived"
          ],
          [
           "dead"
          ],
          [
           "dead"
          ],
          [
           "dead"
          ],
          [
           "dead"
          ],
          [
           "dead"
          ],
          [
           "dead"
          ],
          [
           "survived"
          ],
          [
           "dead"
          ],
          [
           "dead"
          ],
          [
           "dead"
          ],
          [
           "survived"
          ],
          [
           "dead"
          ],
          [
           "dead"
          ],
          [
           "dead"
          ],
          [
           "dead"
          ],
          [
           "survived"
          ],
          [
           "survived"
          ],
          [
           "dead"
          ],
          [
           "dead"
          ],
          [
           "survived"
          ],
          [
           "dead"
          ],
          [
           "dead"
          ],
          [
           "dead"
          ],
          [
           "survived"
          ],
          [
           "dead"
          ],
          [
           "survived"
          ],
          [
           "dead"
          ],
          [
           "survived"
          ],
          [
           "dead"
          ],
          [
           "dead"
          ],
          [
           "dead"
          ],
          [
           "dead"
          ],
          [
           "dead"
          ],
          [
           "dead"
          ],
          [
           "dead"
          ],
          [
           "survived"
          ],
          [
           "survived"
          ],
          [
           "survived"
          ],
          [
           "survived"
          ],
          [
           "dead"
          ],
          [
           "dead"
          ],
          [
           "dead"
          ],
          [
           "dead"
          ],
          [
           "survived"
          ],
          [
           "dead"
          ],
          [
           "dead"
          ],
          [
           "survived"
          ],
          [
           "survived"
          ],
          [
           "dead"
          ],
          [
           "dead"
          ],
          [
           "dead"
          ],
          [
           "dead"
          ],
          [
           "survived"
          ],
          [
           "survived"
          ],
          [
           "survived"
          ],
          [
           "survived"
          ],
          [
           "survived"
          ],
          [
           "dead"
          ],
          [
           "survived"
          ],
          [
           "dead"
          ],
          [
           "dead"
          ],
          [
           "dead"
          ],
          [
           "survived"
          ],
          [
           "survived"
          ],
          [
           "dead"
          ],
          [
           "dead"
          ],
          [
           "survived"
          ],
          [
           "dead"
          ],
          [
           "dead"
          ],
          [
           "dead"
          ],
          [
           "survived"
          ],
          [
           "dead"
          ],
          [
           "survived"
          ],
          [
           "survived"
          ],
          [
           "dead"
          ],
          [
           "dead"
          ],
          [
           "survived"
          ],
          [
           "dead"
          ],
          [
           "dead"
          ],
          [
           "dead"
          ],
          [
           "dead"
          ],
          [
           "dead"
          ],
          [
           "dead"
          ],
          [
           "survived"
          ],
          [
           "dead"
          ],
          [
           "dead"
          ],
          [
           "survived"
          ],
          [
           "dead"
          ],
          [
           "survived"
          ],
          [
           "dead"
          ],
          [
           "survived"
          ],
          [
           "dead"
          ],
          [
           "dead"
          ],
          [
           "survived"
          ],
          [
           "dead"
          ],
          [
           "dead"
          ],
          [
           "survived"
          ],
          [
           "survived"
          ],
          [
           "dead"
          ],
          [
           "dead"
          ],
          [
           "survived"
          ],
          [
           "survived"
          ],
          [
           "dead"
          ],
          [
           "dead"
          ],
          [
           "dead"
          ],
          [
           "survived"
          ],
          [
           "dead"
          ],
          [
           "dead"
          ],
          [
           "survived"
          ],
          [
           "survived"
          ],
          [
           "dead"
          ],
          [
           "survived"
          ],
          [
           "dead"
          ],
          [
           "dead"
          ],
          [
           "dead"
          ],
          [
           "dead"
          ],
          [
           "dead"
          ],
          [
           "dead"
          ],
          [
           "dead"
          ],
          [
           "dead"
          ],
          [
           "survived"
          ],
          [
           "dead"
          ],
          [
           "dead"
          ],
          [
           "survived"
          ],
          [
           "dead"
          ],
          [
           "survived"
          ],
          [
           "survived"
          ],
          [
           "survived"
          ],
          [
           "dead"
          ],
          [
           "dead"
          ],
          [
           "dead"
          ],
          [
           "dead"
          ],
          [
           "survived"
          ],
          [
           "dead"
          ],
          [
           "survived"
          ],
          [
           "dead"
          ],
          [
           "dead"
          ],
          [
           "dead"
          ],
          [
           "dead"
          ],
          [
           "dead"
          ],
          [
           "dead"
          ],
          [
           "dead"
          ],
          [
           "survived"
          ],
          [
           "survived"
          ],
          [
           "dead"
          ],
          [
           "dead"
          ],
          [
           "dead"
          ],
          [
           "survived"
          ],
          [
           "survived"
          ],
          [
           "survived"
          ],
          [
           "survived"
          ],
          [
           "dead"
          ],
          [
           "dead"
          ],
          [
           "dead"
          ],
          [
           "dead"
          ],
          [
           "survived"
          ],
          [
           "dead"
          ],
          [
           "dead"
          ],
          [
           "dead"
          ],
          [
           "dead"
          ],
          [
           "dead"
          ],
          [
           "dead"
          ],
          [
           "dead"
          ],
          [
           "dead"
          ],
          [
           "dead"
          ],
          [
           "dead"
          ],
          [
           "survived"
          ],
          [
           "survived"
          ],
          [
           "dead"
          ],
          [
           "survived"
          ],
          [
           "dead"
          ],
          [
           "dead"
          ],
          [
           "dead"
          ],
          [
           "survived"
          ],
          [
           "survived"
          ],
          [
           "survived"
          ],
          [
           "survived"
          ],
          [
           "survived"
          ],
          [
           "dead"
          ],
          [
           "dead"
          ],
          [
           "dead"
          ],
          [
           "survived"
          ],
          [
           "dead"
          ],
          [
           "dead"
          ],
          [
           "survived"
          ],
          [
           "survived"
          ],
          [
           "dead"
          ],
          [
           "dead"
          ],
          [
           "survived"
          ],
          [
           "dead"
          ],
          [
           "dead"
          ],
          [
           "dead"
          ],
          [
           "dead"
          ],
          [
           "dead"
          ],
          [
           "dead"
          ],
          [
           "survived"
          ],
          [
           "dead"
          ],
          [
           "dead"
          ],
          [
           "dead"
          ],
          [
           "survived"
          ],
          [
           "dead"
          ],
          [
           "survived"
          ],
          [
           "survived"
          ],
          [
           "survived"
          ],
          [
           "survived"
          ],
          [
           "dead"
          ],
          [
           "dead"
          ],
          [
           "dead"
          ],
          [
           "survived"
          ],
          [
           "dead"
          ],
          [
           "dead"
          ],
          [
           "survived"
          ],
          [
           "survived"
          ],
          [
           "dead"
          ],
          [
           "dead"
          ],
          [
           "survived"
          ],
          [
           "dead"
          ],
          [
           "survived"
          ],
          [
           "dead"
          ],
          [
           "dead"
          ],
          [
           "survived"
          ],
          [
           "survived"
          ],
          [
           "dead"
          ],
          [
           "dead"
          ],
          [
           "dead"
          ],
          [
           "survived"
          ],
          [
           "survived"
          ],
          [
           "dead"
          ],
          [
           "dead"
          ],
          [
           "dead"
          ],
          [
           "dead"
          ],
          [
           "dead"
          ],
          [
           "dead"
          ],
          [
           "survived"
          ],
          [
           "dead"
          ],
          [
           "survived"
          ],
          [
           "dead"
          ]
         ],
         "domain": {
          "x": [
           0,
           1
          ],
          "y": [
           0,
           1
          ]
         },
         "hovertemplate": "Survived=%{customdata[0]}<extra></extra>",
         "labels": [
          "dead",
          "survived",
          "survived",
          "survived",
          "dead",
          "dead",
          "dead",
          "dead",
          "survived",
          "survived",
          "survived",
          "survived",
          "dead",
          "dead",
          "dead",
          "survived",
          "dead",
          "survived",
          "dead",
          "survived",
          "dead",
          "survived",
          "survived",
          "survived",
          "dead",
          "survived",
          "dead",
          "dead",
          "survived",
          "dead",
          "dead",
          "survived",
          "survived",
          "dead",
          "dead",
          "dead",
          "survived",
          "dead",
          "dead",
          "survived",
          "dead",
          "dead",
          "dead",
          "survived",
          "survived",
          "dead",
          "dead",
          "survived",
          "dead",
          "dead",
          "dead",
          "dead",
          "survived",
          "survived",
          "dead",
          "survived",
          "survived",
          "dead",
          "survived",
          "dead",
          "dead",
          "survived",
          "dead",
          "dead",
          "dead",
          "survived",
          "survived",
          "dead",
          "survived",
          "dead",
          "dead",
          "dead",
          "dead",
          "dead",
          "survived",
          "dead",
          "dead",
          "dead",
          "survived",
          "survived",
          "dead",
          "survived",
          "survived",
          "dead",
          "survived",
          "survived",
          "dead",
          "dead",
          "survived",
          "dead",
          "dead",
          "dead",
          "dead",
          "dead",
          "dead",
          "dead",
          "dead",
          "survived",
          "survived",
          "dead",
          "dead",
          "dead",
          "dead",
          "dead",
          "dead",
          "dead",
          "survived",
          "survived",
          "dead",
          "survived",
          "dead",
          "dead",
          "dead",
          "dead",
          "dead",
          "dead",
          "dead",
          "dead",
          "dead",
          "dead",
          "dead",
          "dead",
          "dead",
          "survived",
          "dead",
          "survived",
          "dead",
          "survived",
          "survived",
          "dead",
          "dead",
          "dead",
          "dead",
          "survived",
          "dead",
          "dead",
          "survived",
          "dead",
          "dead",
          "dead",
          "dead",
          "survived",
          "survived",
          "dead",
          "dead",
          "dead",
          "survived",
          "dead",
          "dead",
          "dead",
          "dead",
          "survived",
          "dead",
          "dead",
          "dead",
          "dead",
          "survived",
          "dead",
          "dead",
          "dead",
          "dead",
          "survived",
          "dead",
          "dead",
          "dead",
          "survived",
          "survived",
          "dead",
          "dead",
          "dead",
          "dead",
          "dead",
          "survived",
          "dead",
          "dead",
          "dead",
          "dead",
          "dead",
          "dead",
          "dead",
          "dead",
          "dead",
          "dead",
          "survived",
          "survived",
          "dead",
          "survived",
          "survived",
          "dead",
          "dead",
          "survived",
          "dead",
          "survived",
          "survived",
          "survived",
          "survived",
          "dead",
          "dead",
          "survived",
          "dead",
          "dead",
          "dead",
          "dead",
          "dead",
          "survived",
          "dead",
          "dead",
          "survived",
          "survived",
          "survived",
          "dead",
          "survived",
          "dead",
          "dead",
          "dead",
          "survived",
          "survived",
          "dead",
          "survived",
          "dead",
          "survived",
          "dead",
          "dead",
          "dead",
          "survived",
          "dead",
          "survived",
          "dead",
          "dead",
          "dead",
          "survived",
          "dead",
          "dead",
          "survived",
          "dead",
          "dead",
          "dead",
          "survived",
          "dead",
          "dead",
          "dead",
          "survived",
          "dead",
          "dead",
          "dead",
          "dead",
          "dead",
          "survived",
          "survived",
          "dead",
          "dead",
          "dead",
          "dead",
          "dead",
          "dead",
          "survived",
          "survived",
          "survived",
          "survived",
          "survived",
          "dead",
          "survived",
          "dead",
          "dead",
          "dead",
          "dead",
          "dead",
          "survived",
          "survived",
          "survived",
          "dead",
          "survived",
          "survived",
          "dead",
          "survived",
          "survived",
          "dead",
          "dead",
          "dead",
          "survived",
          "dead",
          "dead",
          "dead",
          "survived",
          "dead",
          "dead",
          "survived",
          "dead",
          "survived",
          "survived",
          "survived",
          "survived",
          "dead",
          "dead",
          "dead",
          "dead",
          "dead",
          "dead",
          "survived",
          "survived",
          "survived",
          "survived",
          "dead",
          "survived",
          "dead",
          "survived",
          "survived",
          "survived",
          "dead",
          "survived",
          "survived",
          "survived",
          "dead",
          "dead",
          "dead",
          "survived",
          "survived",
          "dead",
          "survived",
          "survived",
          "dead",
          "dead",
          "survived",
          "survived",
          "dead",
          "survived",
          "dead",
          "survived",
          "survived",
          "survived",
          "survived",
          "dead",
          "dead",
          "dead",
          "survived",
          "dead",
          "dead",
          "survived",
          "survived",
          "dead",
          "survived",
          "survived",
          "dead",
          "dead",
          "dead",
          "survived",
          "survived",
          "survived",
          "survived",
          "dead",
          "dead",
          "dead",
          "dead",
          "dead",
          "dead",
          "dead",
          "survived",
          "dead",
          "survived",
          "survived",
          "dead",
          "dead",
          "dead",
          "dead",
          "dead",
          "dead",
          "survived",
          "survived",
          "survived",
          "survived",
          "survived",
          "dead",
          "dead",
          "dead",
          "dead",
          "survived",
          "survived",
          "dead",
          "dead",
          "dead",
          "survived",
          "survived",
          "dead",
          "survived",
          "dead",
          "dead",
          "dead",
          "survived",
          "dead",
          "survived",
          "survived",
          "survived",
          "dead",
          "survived",
          "survived",
          "dead",
          "dead",
          "dead",
          "dead",
          "survived",
          "survived",
          "dead",
          "dead",
          "dead",
          "dead",
          "dead",
          "dead",
          "survived",
          "dead",
          "dead",
          "dead",
          "dead",
          "survived",
          "dead",
          "survived",
          "dead",
          "survived",
          "survived",
          "dead",
          "dead",
          "dead",
          "dead",
          "dead",
          "dead",
          "dead",
          "dead",
          "survived",
          "survived",
          "dead",
          "survived",
          "survived",
          "survived",
          "survived",
          "dead",
          "dead",
          "survived",
          "dead",
          "survived",
          "dead",
          "dead",
          "survived",
          "dead",
          "dead",
          "survived",
          "survived",
          "survived",
          "survived",
          "survived",
          "survived",
          "survived",
          "dead",
          "dead",
          "dead",
          "survived",
          "dead",
          "survived",
          "dead",
          "survived",
          "survived",
          "dead",
          "survived",
          "dead",
          "dead",
          "dead",
          "dead",
          "dead",
          "dead",
          "dead",
          "dead",
          "survived",
          "dead",
          "dead",
          "survived",
          "survived",
          "dead",
          "dead",
          "dead",
          "dead",
          "dead",
          "survived",
          "dead",
          "dead",
          "dead",
          "survived",
          "survived",
          "dead",
          "survived",
          "dead",
          "dead",
          "survived",
          "dead",
          "dead",
          "dead",
          "dead",
          "dead",
          "dead",
          "survived",
          "dead",
          "dead",
          "dead",
          "dead",
          "dead",
          "dead",
          "dead",
          "survived",
          "dead",
          "survived",
          "survived",
          "dead",
          "survived",
          "survived",
          "dead",
          "survived",
          "survived",
          "dead",
          "dead",
          "survived",
          "dead",
          "survived",
          "dead",
          "survived",
          "dead",
          "dead",
          "survived",
          "dead",
          "dead",
          "survived",
          "dead",
          "dead",
          "dead",
          "survived",
          "dead",
          "dead",
          "survived",
          "dead",
          "survived",
          "dead",
          "survived",
          "dead",
          "survived",
          "survived",
          "dead",
          "dead",
          "survived",
          "dead",
          "dead",
          "survived",
          "survived",
          "dead",
          "survived",
          "survived",
          "dead",
          "dead",
          "survived",
          "survived",
          "dead",
          "survived",
          "dead",
          "survived",
          "survived",
          "dead",
          "dead",
          "dead",
          "dead",
          "dead",
          "dead",
          "dead",
          "dead",
          "dead",
          "survived",
          "survived",
          "survived",
          "survived",
          "survived",
          "dead",
          "dead",
          "survived",
          "survived",
          "dead",
          "survived",
          "survived",
          "survived",
          "dead",
          "dead",
          "dead",
          "survived",
          "dead",
          "survived",
          "dead",
          "dead",
          "dead",
          "survived",
          "dead",
          "dead",
          "dead",
          "dead",
          "survived",
          "dead",
          "dead",
          "survived",
          "survived",
          "dead",
          "dead",
          "dead",
          "survived",
          "dead",
          "dead",
          "survived",
          "survived",
          "survived",
          "dead",
          "dead",
          "survived",
          "dead",
          "dead",
          "survived",
          "dead",
          "dead",
          "survived",
          "dead",
          "dead",
          "survived",
          "survived",
          "dead",
          "dead",
          "dead",
          "dead",
          "survived",
          "dead",
          "dead",
          "survived",
          "dead",
          "survived",
          "dead",
          "dead",
          "survived",
          "dead",
          "dead",
          "dead",
          "dead",
          "dead",
          "survived",
          "dead",
          "survived",
          "survived",
          "survived",
          "dead",
          "survived",
          "dead",
          "survived",
          "dead",
          "survived",
          "dead",
          "survived",
          "dead",
          "dead",
          "dead",
          "dead",
          "dead",
          "dead",
          "survived",
          "dead",
          "dead",
          "dead",
          "survived",
          "dead",
          "dead",
          "dead",
          "dead",
          "survived",
          "survived",
          "dead",
          "dead",
          "survived",
          "dead",
          "dead",
          "dead",
          "survived",
          "dead",
          "survived",
          "dead",
          "survived",
          "dead",
          "dead",
          "dead",
          "dead",
          "dead",
          "dead",
          "dead",
          "survived",
          "survived",
          "survived",
          "survived",
          "dead",
          "dead",
          "dead",
          "dead",
          "survived",
          "dead",
          "dead",
          "survived",
          "survived",
          "dead",
          "dead",
          "dead",
          "dead",
          "survived",
          "survived",
          "survived",
          "survived",
          "survived",
          "dead",
          "survived",
          "dead",
          "dead",
          "dead",
          "survived",
          "survived",
          "dead",
          "dead",
          "survived",
          "dead",
          "dead",
          "dead",
          "survived",
          "dead",
          "survived",
          "survived",
          "dead",
          "dead",
          "survived",
          "dead",
          "dead",
          "dead",
          "dead",
          "dead",
          "dead",
          "survived",
          "dead",
          "dead",
          "survived",
          "dead",
          "survived",
          "dead",
          "survived",
          "dead",
          "dead",
          "survived",
          "dead",
          "dead",
          "survived",
          "survived",
          "dead",
          "dead",
          "survived",
          "survived",
          "dead",
          "dead",
          "dead",
          "survived",
          "dead",
          "dead",
          "survived",
          "survived",
          "dead",
          "survived",
          "dead",
          "dead",
          "dead",
          "dead",
          "dead",
          "dead",
          "dead",
          "dead",
          "survived",
          "dead",
          "dead",
          "survived",
          "dead",
          "survived",
          "survived",
          "survived",
          "dead",
          "dead",
          "dead",
          "dead",
          "survived",
          "dead",
          "survived",
          "dead",
          "dead",
          "dead",
          "dead",
          "dead",
          "dead",
          "dead",
          "survived",
          "survived",
          "dead",
          "dead",
          "dead",
          "survived",
          "survived",
          "survived",
          "survived",
          "dead",
          "dead",
          "dead",
          "dead",
          "survived",
          "dead",
          "dead",
          "dead",
          "dead",
          "dead",
          "dead",
          "dead",
          "dead",
          "dead",
          "dead",
          "survived",
          "survived",
          "dead",
          "survived",
          "dead",
          "dead",
          "dead",
          "survived",
          "survived",
          "survived",
          "survived",
          "survived",
          "dead",
          "dead",
          "dead",
          "survived",
          "dead",
          "dead",
          "survived",
          "survived",
          "dead",
          "dead",
          "survived",
          "dead",
          "dead",
          "dead",
          "dead",
          "dead",
          "dead",
          "survived",
          "dead",
          "dead",
          "dead",
          "survived",
          "dead",
          "survived",
          "survived",
          "survived",
          "survived",
          "dead",
          "dead",
          "dead",
          "survived",
          "dead",
          "dead",
          "survived",
          "survived",
          "dead",
          "dead",
          "survived",
          "dead",
          "survived",
          "dead",
          "dead",
          "survived",
          "survived",
          "dead",
          "dead",
          "dead",
          "survived",
          "survived",
          "dead",
          "dead",
          "dead",
          "dead",
          "dead",
          "dead",
          "survived",
          "dead",
          "survived",
          "dead"
         ],
         "legendgroup": "",
         "marker": {
          "colors": [
           "#fc8317",
           "#2596be",
           "#2596be",
           "#2596be",
           "#fc8317",
           "#fc8317",
           "#fc8317",
           "#fc8317",
           "#2596be",
           "#2596be",
           "#2596be",
           "#2596be",
           "#fc8317",
           "#fc8317",
           "#fc8317",
           "#2596be",
           "#fc8317",
           "#2596be",
           "#fc8317",
           "#2596be",
           "#fc8317",
           "#2596be",
           "#2596be",
           "#2596be",
           "#fc8317",
           "#2596be",
           "#fc8317",
           "#fc8317",
           "#2596be",
           "#fc8317",
           "#fc8317",
           "#2596be",
           "#2596be",
           "#fc8317",
           "#fc8317",
           "#fc8317",
           "#2596be",
           "#fc8317",
           "#fc8317",
           "#2596be",
           "#fc8317",
           "#fc8317",
           "#fc8317",
           "#2596be",
           "#2596be",
           "#fc8317",
           "#fc8317",
           "#2596be",
           "#fc8317",
           "#fc8317",
           "#fc8317",
           "#fc8317",
           "#2596be",
           "#2596be",
           "#fc8317",
           "#2596be",
           "#2596be",
           "#fc8317",
           "#2596be",
           "#fc8317",
           "#fc8317",
           "#2596be",
           "#fc8317",
           "#fc8317",
           "#fc8317",
           "#2596be",
           "#2596be",
           "#fc8317",
           "#2596be",
           "#fc8317",
           "#fc8317",
           "#fc8317",
           "#fc8317",
           "#fc8317",
           "#2596be",
           "#fc8317",
           "#fc8317",
           "#fc8317",
           "#2596be",
           "#2596be",
           "#fc8317",
           "#2596be",
           "#2596be",
           "#fc8317",
           "#2596be",
           "#2596be",
           "#fc8317",
           "#fc8317",
           "#2596be",
           "#fc8317",
           "#fc8317",
           "#fc8317",
           "#fc8317",
           "#fc8317",
           "#fc8317",
           "#fc8317",
           "#fc8317",
           "#2596be",
           "#2596be",
           "#fc8317",
           "#fc8317",
           "#fc8317",
           "#fc8317",
           "#fc8317",
           "#fc8317",
           "#fc8317",
           "#2596be",
           "#2596be",
           "#fc8317",
           "#2596be",
           "#fc8317",
           "#fc8317",
           "#fc8317",
           "#fc8317",
           "#fc8317",
           "#fc8317",
           "#fc8317",
           "#fc8317",
           "#fc8317",
           "#fc8317",
           "#fc8317",
           "#fc8317",
           "#fc8317",
           "#2596be",
           "#fc8317",
           "#2596be",
           "#fc8317",
           "#2596be",
           "#2596be",
           "#fc8317",
           "#fc8317",
           "#fc8317",
           "#fc8317",
           "#2596be",
           "#fc8317",
           "#fc8317",
           "#2596be",
           "#fc8317",
           "#fc8317",
           "#fc8317",
           "#fc8317",
           "#2596be",
           "#2596be",
           "#fc8317",
           "#fc8317",
           "#fc8317",
           "#2596be",
           "#fc8317",
           "#fc8317",
           "#fc8317",
           "#fc8317",
           "#2596be",
           "#fc8317",
           "#fc8317",
           "#fc8317",
           "#fc8317",
           "#2596be",
           "#fc8317",
           "#fc8317",
           "#fc8317",
           "#fc8317",
           "#2596be",
           "#fc8317",
           "#fc8317",
           "#fc8317",
           "#2596be",
           "#2596be",
           "#fc8317",
           "#fc8317",
           "#fc8317",
           "#fc8317",
           "#fc8317",
           "#2596be",
           "#fc8317",
           "#fc8317",
           "#fc8317",
           "#fc8317",
           "#fc8317",
           "#fc8317",
           "#fc8317",
           "#fc8317",
           "#fc8317",
           "#fc8317",
           "#2596be",
           "#2596be",
           "#fc8317",
           "#2596be",
           "#2596be",
           "#fc8317",
           "#fc8317",
           "#2596be",
           "#fc8317",
           "#2596be",
           "#2596be",
           "#2596be",
           "#2596be",
           "#fc8317",
           "#fc8317",
           "#2596be",
           "#fc8317",
           "#fc8317",
           "#fc8317",
           "#fc8317",
           "#fc8317",
           "#2596be",
           "#fc8317",
           "#fc8317",
           "#2596be",
           "#2596be",
           "#2596be",
           "#fc8317",
           "#2596be",
           "#fc8317",
           "#fc8317",
           "#fc8317",
           "#2596be",
           "#2596be",
           "#fc8317",
           "#2596be",
           "#fc8317",
           "#2596be",
           "#fc8317",
           "#fc8317",
           "#fc8317",
           "#2596be",
           "#fc8317",
           "#2596be",
           "#fc8317",
           "#fc8317",
           "#fc8317",
           "#2596be",
           "#fc8317",
           "#fc8317",
           "#2596be",
           "#fc8317",
           "#fc8317",
           "#fc8317",
           "#2596be",
           "#fc8317",
           "#fc8317",
           "#fc8317",
           "#2596be",
           "#fc8317",
           "#fc8317",
           "#fc8317",
           "#fc8317",
           "#fc8317",
           "#2596be",
           "#2596be",
           "#fc8317",
           "#fc8317",
           "#fc8317",
           "#fc8317",
           "#fc8317",
           "#fc8317",
           "#2596be",
           "#2596be",
           "#2596be",
           "#2596be",
           "#2596be",
           "#fc8317",
           "#2596be",
           "#fc8317",
           "#fc8317",
           "#fc8317",
           "#fc8317",
           "#fc8317",
           "#2596be",
           "#2596be",
           "#2596be",
           "#fc8317",
           "#2596be",
           "#2596be",
           "#fc8317",
           "#2596be",
           "#2596be",
           "#fc8317",
           "#fc8317",
           "#fc8317",
           "#2596be",
           "#fc8317",
           "#fc8317",
           "#fc8317",
           "#2596be",
           "#fc8317",
           "#fc8317",
           "#2596be",
           "#fc8317",
           "#2596be",
           "#2596be",
           "#2596be",
           "#2596be",
           "#fc8317",
           "#fc8317",
           "#fc8317",
           "#fc8317",
           "#fc8317",
           "#fc8317",
           "#2596be",
           "#2596be",
           "#2596be",
           "#2596be",
           "#fc8317",
           "#2596be",
           "#fc8317",
           "#2596be",
           "#2596be",
           "#2596be",
           "#fc8317",
           "#2596be",
           "#2596be",
           "#2596be",
           "#fc8317",
           "#fc8317",
           "#fc8317",
           "#2596be",
           "#2596be",
           "#fc8317",
           "#2596be",
           "#2596be",
           "#fc8317",
           "#fc8317",
           "#2596be",
           "#2596be",
           "#fc8317",
           "#2596be",
           "#fc8317",
           "#2596be",
           "#2596be",
           "#2596be",
           "#2596be",
           "#fc8317",
           "#fc8317",
           "#fc8317",
           "#2596be",
           "#fc8317",
           "#fc8317",
           "#2596be",
           "#2596be",
           "#fc8317",
           "#2596be",
           "#2596be",
           "#fc8317",
           "#fc8317",
           "#fc8317",
           "#2596be",
           "#2596be",
           "#2596be",
           "#2596be",
           "#fc8317",
           "#fc8317",
           "#fc8317",
           "#fc8317",
           "#fc8317",
           "#fc8317",
           "#fc8317",
           "#2596be",
           "#fc8317",
           "#2596be",
           "#2596be",
           "#fc8317",
           "#fc8317",
           "#fc8317",
           "#fc8317",
           "#fc8317",
           "#fc8317",
           "#2596be",
           "#2596be",
           "#2596be",
           "#2596be",
           "#2596be",
           "#fc8317",
           "#fc8317",
           "#fc8317",
           "#fc8317",
           "#2596be",
           "#2596be",
           "#fc8317",
           "#fc8317",
           "#fc8317",
           "#2596be",
           "#2596be",
           "#fc8317",
           "#2596be",
           "#fc8317",
           "#fc8317",
           "#fc8317",
           "#2596be",
           "#fc8317",
           "#2596be",
           "#2596be",
           "#2596be",
           "#fc8317",
           "#2596be",
           "#2596be",
           "#fc8317",
           "#fc8317",
           "#fc8317",
           "#fc8317",
           "#2596be",
           "#2596be",
           "#fc8317",
           "#fc8317",
           "#fc8317",
           "#fc8317",
           "#fc8317",
           "#fc8317",
           "#2596be",
           "#fc8317",
           "#fc8317",
           "#fc8317",
           "#fc8317",
           "#2596be",
           "#fc8317",
           "#2596be",
           "#fc8317",
           "#2596be",
           "#2596be",
           "#fc8317",
           "#fc8317",
           "#fc8317",
           "#fc8317",
           "#fc8317",
           "#fc8317",
           "#fc8317",
           "#fc8317",
           "#2596be",
           "#2596be",
           "#fc8317",
           "#2596be",
           "#2596be",
           "#2596be",
           "#2596be",
           "#fc8317",
           "#fc8317",
           "#2596be",
           "#fc8317",
           "#2596be",
           "#fc8317",
           "#fc8317",
           "#2596be",
           "#fc8317",
           "#fc8317",
           "#2596be",
           "#2596be",
           "#2596be",
           "#2596be",
           "#2596be",
           "#2596be",
           "#2596be",
           "#fc8317",
           "#fc8317",
           "#fc8317",
           "#2596be",
           "#fc8317",
           "#2596be",
           "#fc8317",
           "#2596be",
           "#2596be",
           "#fc8317",
           "#2596be",
           "#fc8317",
           "#fc8317",
           "#fc8317",
           "#fc8317",
           "#fc8317",
           "#fc8317",
           "#fc8317",
           "#fc8317",
           "#2596be",
           "#fc8317",
           "#fc8317",
           "#2596be",
           "#2596be",
           "#fc8317",
           "#fc8317",
           "#fc8317",
           "#fc8317",
           "#fc8317",
           "#2596be",
           "#fc8317",
           "#fc8317",
           "#fc8317",
           "#2596be",
           "#2596be",
           "#fc8317",
           "#2596be",
           "#fc8317",
           "#fc8317",
           "#2596be",
           "#fc8317",
           "#fc8317",
           "#fc8317",
           "#fc8317",
           "#fc8317",
           "#fc8317",
           "#2596be",
           "#fc8317",
           "#fc8317",
           "#fc8317",
           "#fc8317",
           "#fc8317",
           "#fc8317",
           "#fc8317",
           "#2596be",
           "#fc8317",
           "#2596be",
           "#2596be",
           "#fc8317",
           "#2596be",
           "#2596be",
           "#fc8317",
           "#2596be",
           "#2596be",
           "#fc8317",
           "#fc8317",
           "#2596be",
           "#fc8317",
           "#2596be",
           "#fc8317",
           "#2596be",
           "#fc8317",
           "#fc8317",
           "#2596be",
           "#fc8317",
           "#fc8317",
           "#2596be",
           "#fc8317",
           "#fc8317",
           "#fc8317",
           "#2596be",
           "#fc8317",
           "#fc8317",
           "#2596be",
           "#fc8317",
           "#2596be",
           "#fc8317",
           "#2596be",
           "#fc8317",
           "#2596be",
           "#2596be",
           "#fc8317",
           "#fc8317",
           "#2596be",
           "#fc8317",
           "#fc8317",
           "#2596be",
           "#2596be",
           "#fc8317",
           "#2596be",
           "#2596be",
           "#fc8317",
           "#fc8317",
           "#2596be",
           "#2596be",
           "#fc8317",
           "#2596be",
           "#fc8317",
           "#2596be",
           "#2596be",
           "#fc8317",
           "#fc8317",
           "#fc8317",
           "#fc8317",
           "#fc8317",
           "#fc8317",
           "#fc8317",
           "#fc8317",
           "#fc8317",
           "#2596be",
           "#2596be",
           "#2596be",
           "#2596be",
           "#2596be",
           "#fc8317",
           "#fc8317",
           "#2596be",
           "#2596be",
           "#fc8317",
           "#2596be",
           "#2596be",
           "#2596be",
           "#fc8317",
           "#fc8317",
           "#fc8317",
           "#2596be",
           "#fc8317",
           "#2596be",
           "#fc8317",
           "#fc8317",
           "#fc8317",
           "#2596be",
           "#fc8317",
           "#fc8317",
           "#fc8317",
           "#fc8317",
           "#2596be",
           "#fc8317",
           "#fc8317",
           "#2596be",
           "#2596be",
           "#fc8317",
           "#fc8317",
           "#fc8317",
           "#2596be",
           "#fc8317",
           "#fc8317",
           "#2596be",
           "#2596be",
           "#2596be",
           "#fc8317",
           "#fc8317",
           "#2596be",
           "#fc8317",
           "#fc8317",
           "#2596be",
           "#fc8317",
           "#fc8317",
           "#2596be",
           "#fc8317",
           "#fc8317",
           "#2596be",
           "#2596be",
           "#fc8317",
           "#fc8317",
           "#fc8317",
           "#fc8317",
           "#2596be",
           "#fc8317",
           "#fc8317",
           "#2596be",
           "#fc8317",
           "#2596be",
           "#fc8317",
           "#fc8317",
           "#2596be",
           "#fc8317",
           "#fc8317",
           "#fc8317",
           "#fc8317",
           "#fc8317",
           "#2596be",
           "#fc8317",
           "#2596be",
           "#2596be",
           "#2596be",
           "#fc8317",
           "#2596be",
           "#fc8317",
           "#2596be",
           "#fc8317",
           "#2596be",
           "#fc8317",
           "#2596be",
           "#fc8317",
           "#fc8317",
           "#fc8317",
           "#fc8317",
           "#fc8317",
           "#fc8317",
           "#2596be",
           "#fc8317",
           "#fc8317",
           "#fc8317",
           "#2596be",
           "#fc8317",
           "#fc8317",
           "#fc8317",
           "#fc8317",
           "#2596be",
           "#2596be",
           "#fc8317",
           "#fc8317",
           "#2596be",
           "#fc8317",
           "#fc8317",
           "#fc8317",
           "#2596be",
           "#fc8317",
           "#2596be",
           "#fc8317",
           "#2596be",
           "#fc8317",
           "#fc8317",
           "#fc8317",
           "#fc8317",
           "#fc8317",
           "#fc8317",
           "#fc8317",
           "#2596be",
           "#2596be",
           "#2596be",
           "#2596be",
           "#fc8317",
           "#fc8317",
           "#fc8317",
           "#fc8317",
           "#2596be",
           "#fc8317",
           "#fc8317",
           "#2596be",
           "#2596be",
           "#fc8317",
           "#fc8317",
           "#fc8317",
           "#fc8317",
           "#2596be",
           "#2596be",
           "#2596be",
           "#2596be",
           "#2596be",
           "#fc8317",
           "#2596be",
           "#fc8317",
           "#fc8317",
           "#fc8317",
           "#2596be",
           "#2596be",
           "#fc8317",
           "#fc8317",
           "#2596be",
           "#fc8317",
           "#fc8317",
           "#fc8317",
           "#2596be",
           "#fc8317",
           "#2596be",
           "#2596be",
           "#fc8317",
           "#fc8317",
           "#2596be",
           "#fc8317",
           "#fc8317",
           "#fc8317",
           "#fc8317",
           "#fc8317",
           "#fc8317",
           "#2596be",
           "#fc8317",
           "#fc8317",
           "#2596be",
           "#fc8317",
           "#2596be",
           "#fc8317",
           "#2596be",
           "#fc8317",
           "#fc8317",
           "#2596be",
           "#fc8317",
           "#fc8317",
           "#2596be",
           "#2596be",
           "#fc8317",
           "#fc8317",
           "#2596be",
           "#2596be",
           "#fc8317",
           "#fc8317",
           "#fc8317",
           "#2596be",
           "#fc8317",
           "#fc8317",
           "#2596be",
           "#2596be",
           "#fc8317",
           "#2596be",
           "#fc8317",
           "#fc8317",
           "#fc8317",
           "#fc8317",
           "#fc8317",
           "#fc8317",
           "#fc8317",
           "#fc8317",
           "#2596be",
           "#fc8317",
           "#fc8317",
           "#2596be",
           "#fc8317",
           "#2596be",
           "#2596be",
           "#2596be",
           "#fc8317",
           "#fc8317",
           "#fc8317",
           "#fc8317",
           "#2596be",
           "#fc8317",
           "#2596be",
           "#fc8317",
           "#fc8317",
           "#fc8317",
           "#fc8317",
           "#fc8317",
           "#fc8317",
           "#fc8317",
           "#2596be",
           "#2596be",
           "#fc8317",
           "#fc8317",
           "#fc8317",
           "#2596be",
           "#2596be",
           "#2596be",
           "#2596be",
           "#fc8317",
           "#fc8317",
           "#fc8317",
           "#fc8317",
           "#2596be",
           "#fc8317",
           "#fc8317",
           "#fc8317",
           "#fc8317",
           "#fc8317",
           "#fc8317",
           "#fc8317",
           "#fc8317",
           "#fc8317",
           "#fc8317",
           "#2596be",
           "#2596be",
           "#fc8317",
           "#2596be",
           "#fc8317",
           "#fc8317",
           "#fc8317",
           "#2596be",
           "#2596be",
           "#2596be",
           "#2596be",
           "#2596be",
           "#fc8317",
           "#fc8317",
           "#fc8317",
           "#2596be",
           "#fc8317",
           "#fc8317",
           "#2596be",
           "#2596be",
           "#fc8317",
           "#fc8317",
           "#2596be",
           "#fc8317",
           "#fc8317",
           "#fc8317",
           "#fc8317",
           "#fc8317",
           "#fc8317",
           "#2596be",
           "#fc8317",
           "#fc8317",
           "#fc8317",
           "#2596be",
           "#fc8317",
           "#2596be",
           "#2596be",
           "#2596be",
           "#2596be",
           "#fc8317",
           "#fc8317",
           "#fc8317",
           "#2596be",
           "#fc8317",
           "#fc8317",
           "#2596be",
           "#2596be",
           "#fc8317",
           "#fc8317",
           "#2596be",
           "#fc8317",
           "#2596be",
           "#fc8317",
           "#fc8317",
           "#2596be",
           "#2596be",
           "#fc8317",
           "#fc8317",
           "#fc8317",
           "#2596be",
           "#2596be",
           "#fc8317",
           "#fc8317",
           "#fc8317",
           "#fc8317",
           "#fc8317",
           "#fc8317",
           "#2596be",
           "#fc8317",
           "#2596be",
           "#fc8317"
          ]
         },
         "name": "",
         "showlegend": true,
         "type": "pie"
        }
       ],
       "layout": {
        "legend": {
         "tracegroupgap": 0
        },
        "margin": {
         "t": 60
        },
        "template": {
         "data": {
          "bar": [
           {
            "error_x": {
             "color": "#2a3f5f"
            },
            "error_y": {
             "color": "#2a3f5f"
            },
            "marker": {
             "line": {
              "color": "#E5ECF6",
              "width": 0.5
             },
             "pattern": {
              "fillmode": "overlay",
              "size": 10,
              "solidity": 0.2
             }
            },
            "type": "bar"
           }
          ],
          "barpolar": [
           {
            "marker": {
             "line": {
              "color": "#E5ECF6",
              "width": 0.5
             },
             "pattern": {
              "fillmode": "overlay",
              "size": 10,
              "solidity": 0.2
             }
            },
            "type": "barpolar"
           }
          ],
          "carpet": [
           {
            "aaxis": {
             "endlinecolor": "#2a3f5f",
             "gridcolor": "white",
             "linecolor": "white",
             "minorgridcolor": "white",
             "startlinecolor": "#2a3f5f"
            },
            "baxis": {
             "endlinecolor": "#2a3f5f",
             "gridcolor": "white",
             "linecolor": "white",
             "minorgridcolor": "white",
             "startlinecolor": "#2a3f5f"
            },
            "type": "carpet"
           }
          ],
          "choropleth": [
           {
            "colorbar": {
             "outlinewidth": 0,
             "ticks": ""
            },
            "type": "choropleth"
           }
          ],
          "contour": [
           {
            "colorbar": {
             "outlinewidth": 0,
             "ticks": ""
            },
            "colorscale": [
             [
              0,
              "#0d0887"
             ],
             [
              0.1111111111111111,
              "#46039f"
             ],
             [
              0.2222222222222222,
              "#7201a8"
             ],
             [
              0.3333333333333333,
              "#9c179e"
             ],
             [
              0.4444444444444444,
              "#bd3786"
             ],
             [
              0.5555555555555556,
              "#d8576b"
             ],
             [
              0.6666666666666666,
              "#ed7953"
             ],
             [
              0.7777777777777778,
              "#fb9f3a"
             ],
             [
              0.8888888888888888,
              "#fdca26"
             ],
             [
              1,
              "#f0f921"
             ]
            ],
            "type": "contour"
           }
          ],
          "contourcarpet": [
           {
            "colorbar": {
             "outlinewidth": 0,
             "ticks": ""
            },
            "type": "contourcarpet"
           }
          ],
          "heatmap": [
           {
            "colorbar": {
             "outlinewidth": 0,
             "ticks": ""
            },
            "colorscale": [
             [
              0,
              "#0d0887"
             ],
             [
              0.1111111111111111,
              "#46039f"
             ],
             [
              0.2222222222222222,
              "#7201a8"
             ],
             [
              0.3333333333333333,
              "#9c179e"
             ],
             [
              0.4444444444444444,
              "#bd3786"
             ],
             [
              0.5555555555555556,
              "#d8576b"
             ],
             [
              0.6666666666666666,
              "#ed7953"
             ],
             [
              0.7777777777777778,
              "#fb9f3a"
             ],
             [
              0.8888888888888888,
              "#fdca26"
             ],
             [
              1,
              "#f0f921"
             ]
            ],
            "type": "heatmap"
           }
          ],
          "heatmapgl": [
           {
            "colorbar": {
             "outlinewidth": 0,
             "ticks": ""
            },
            "colorscale": [
             [
              0,
              "#0d0887"
             ],
             [
              0.1111111111111111,
              "#46039f"
             ],
             [
              0.2222222222222222,
              "#7201a8"
             ],
             [
              0.3333333333333333,
              "#9c179e"
             ],
             [
              0.4444444444444444,
              "#bd3786"
             ],
             [
              0.5555555555555556,
              "#d8576b"
             ],
             [
              0.6666666666666666,
              "#ed7953"
             ],
             [
              0.7777777777777778,
              "#fb9f3a"
             ],
             [
              0.8888888888888888,
              "#fdca26"
             ],
             [
              1,
              "#f0f921"
             ]
            ],
            "type": "heatmapgl"
           }
          ],
          "histogram": [
           {
            "marker": {
             "pattern": {
              "fillmode": "overlay",
              "size": 10,
              "solidity": 0.2
             }
            },
            "type": "histogram"
           }
          ],
          "histogram2d": [
           {
            "colorbar": {
             "outlinewidth": 0,
             "ticks": ""
            },
            "colorscale": [
             [
              0,
              "#0d0887"
             ],
             [
              0.1111111111111111,
              "#46039f"
             ],
             [
              0.2222222222222222,
              "#7201a8"
             ],
             [
              0.3333333333333333,
              "#9c179e"
             ],
             [
              0.4444444444444444,
              "#bd3786"
             ],
             [
              0.5555555555555556,
              "#d8576b"
             ],
             [
              0.6666666666666666,
              "#ed7953"
             ],
             [
              0.7777777777777778,
              "#fb9f3a"
             ],
             [
              0.8888888888888888,
              "#fdca26"
             ],
             [
              1,
              "#f0f921"
             ]
            ],
            "type": "histogram2d"
           }
          ],
          "histogram2dcontour": [
           {
            "colorbar": {
             "outlinewidth": 0,
             "ticks": ""
            },
            "colorscale": [
             [
              0,
              "#0d0887"
             ],
             [
              0.1111111111111111,
              "#46039f"
             ],
             [
              0.2222222222222222,
              "#7201a8"
             ],
             [
              0.3333333333333333,
              "#9c179e"
             ],
             [
              0.4444444444444444,
              "#bd3786"
             ],
             [
              0.5555555555555556,
              "#d8576b"
             ],
             [
              0.6666666666666666,
              "#ed7953"
             ],
             [
              0.7777777777777778,
              "#fb9f3a"
             ],
             [
              0.8888888888888888,
              "#fdca26"
             ],
             [
              1,
              "#f0f921"
             ]
            ],
            "type": "histogram2dcontour"
           }
          ],
          "mesh3d": [
           {
            "colorbar": {
             "outlinewidth": 0,
             "ticks": ""
            },
            "type": "mesh3d"
           }
          ],
          "parcoords": [
           {
            "line": {
             "colorbar": {
              "outlinewidth": 0,
              "ticks": ""
             }
            },
            "type": "parcoords"
           }
          ],
          "pie": [
           {
            "automargin": true,
            "type": "pie"
           }
          ],
          "scatter": [
           {
            "fillpattern": {
             "fillmode": "overlay",
             "size": 10,
             "solidity": 0.2
            },
            "type": "scatter"
           }
          ],
          "scatter3d": [
           {
            "line": {
             "colorbar": {
              "outlinewidth": 0,
              "ticks": ""
             }
            },
            "marker": {
             "colorbar": {
              "outlinewidth": 0,
              "ticks": ""
             }
            },
            "type": "scatter3d"
           }
          ],
          "scattercarpet": [
           {
            "marker": {
             "colorbar": {
              "outlinewidth": 0,
              "ticks": ""
             }
            },
            "type": "scattercarpet"
           }
          ],
          "scattergeo": [
           {
            "marker": {
             "colorbar": {
              "outlinewidth": 0,
              "ticks": ""
             }
            },
            "type": "scattergeo"
           }
          ],
          "scattergl": [
           {
            "marker": {
             "colorbar": {
              "outlinewidth": 0,
              "ticks": ""
             }
            },
            "type": "scattergl"
           }
          ],
          "scattermapbox": [
           {
            "marker": {
             "colorbar": {
              "outlinewidth": 0,
              "ticks": ""
             }
            },
            "type": "scattermapbox"
           }
          ],
          "scatterpolar": [
           {
            "marker": {
             "colorbar": {
              "outlinewidth": 0,
              "ticks": ""
             }
            },
            "type": "scatterpolar"
           }
          ],
          "scatterpolargl": [
           {
            "marker": {
             "colorbar": {
              "outlinewidth": 0,
              "ticks": ""
             }
            },
            "type": "scatterpolargl"
           }
          ],
          "scatterternary": [
           {
            "marker": {
             "colorbar": {
              "outlinewidth": 0,
              "ticks": ""
             }
            },
            "type": "scatterternary"
           }
          ],
          "surface": [
           {
            "colorbar": {
             "outlinewidth": 0,
             "ticks": ""
            },
            "colorscale": [
             [
              0,
              "#0d0887"
             ],
             [
              0.1111111111111111,
              "#46039f"
             ],
             [
              0.2222222222222222,
              "#7201a8"
             ],
             [
              0.3333333333333333,
              "#9c179e"
             ],
             [
              0.4444444444444444,
              "#bd3786"
             ],
             [
              0.5555555555555556,
              "#d8576b"
             ],
             [
              0.6666666666666666,
              "#ed7953"
             ],
             [
              0.7777777777777778,
              "#fb9f3a"
             ],
             [
              0.8888888888888888,
              "#fdca26"
             ],
             [
              1,
              "#f0f921"
             ]
            ],
            "type": "surface"
           }
          ],
          "table": [
           {
            "cells": {
             "fill": {
              "color": "#EBF0F8"
             },
             "line": {
              "color": "white"
             }
            },
            "header": {
             "fill": {
              "color": "#C8D4E3"
             },
             "line": {
              "color": "white"
             }
            },
            "type": "table"
           }
          ]
         },
         "layout": {
          "annotationdefaults": {
           "arrowcolor": "#2a3f5f",
           "arrowhead": 0,
           "arrowwidth": 1
          },
          "autotypenumbers": "strict",
          "coloraxis": {
           "colorbar": {
            "outlinewidth": 0,
            "ticks": ""
           }
          },
          "colorscale": {
           "diverging": [
            [
             0,
             "#8e0152"
            ],
            [
             0.1,
             "#c51b7d"
            ],
            [
             0.2,
             "#de77ae"
            ],
            [
             0.3,
             "#f1b6da"
            ],
            [
             0.4,
             "#fde0ef"
            ],
            [
             0.5,
             "#f7f7f7"
            ],
            [
             0.6,
             "#e6f5d0"
            ],
            [
             0.7,
             "#b8e186"
            ],
            [
             0.8,
             "#7fbc41"
            ],
            [
             0.9,
             "#4d9221"
            ],
            [
             1,
             "#276419"
            ]
           ],
           "sequential": [
            [
             0,
             "#0d0887"
            ],
            [
             0.1111111111111111,
             "#46039f"
            ],
            [
             0.2222222222222222,
             "#7201a8"
            ],
            [
             0.3333333333333333,
             "#9c179e"
            ],
            [
             0.4444444444444444,
             "#bd3786"
            ],
            [
             0.5555555555555556,
             "#d8576b"
            ],
            [
             0.6666666666666666,
             "#ed7953"
            ],
            [
             0.7777777777777778,
             "#fb9f3a"
            ],
            [
             0.8888888888888888,
             "#fdca26"
            ],
            [
             1,
             "#f0f921"
            ]
           ],
           "sequentialminus": [
            [
             0,
             "#0d0887"
            ],
            [
             0.1111111111111111,
             "#46039f"
            ],
            [
             0.2222222222222222,
             "#7201a8"
            ],
            [
             0.3333333333333333,
             "#9c179e"
            ],
            [
             0.4444444444444444,
             "#bd3786"
            ],
            [
             0.5555555555555556,
             "#d8576b"
            ],
            [
             0.6666666666666666,
             "#ed7953"
            ],
            [
             0.7777777777777778,
             "#fb9f3a"
            ],
            [
             0.8888888888888888,
             "#fdca26"
            ],
            [
             1,
             "#f0f921"
            ]
           ]
          },
          "colorway": [
           "#636efa",
           "#EF553B",
           "#00cc96",
           "#ab63fa",
           "#FFA15A",
           "#19d3f3",
           "#FF6692",
           "#B6E880",
           "#FF97FF",
           "#FECB52"
          ],
          "font": {
           "color": "#2a3f5f"
          },
          "geo": {
           "bgcolor": "white",
           "lakecolor": "white",
           "landcolor": "#E5ECF6",
           "showlakes": true,
           "showland": true,
           "subunitcolor": "white"
          },
          "hoverlabel": {
           "align": "left"
          },
          "hovermode": "closest",
          "mapbox": {
           "style": "light"
          },
          "paper_bgcolor": "white",
          "plot_bgcolor": "#E5ECF6",
          "polar": {
           "angularaxis": {
            "gridcolor": "white",
            "linecolor": "white",
            "ticks": ""
           },
           "bgcolor": "#E5ECF6",
           "radialaxis": {
            "gridcolor": "white",
            "linecolor": "white",
            "ticks": ""
           }
          },
          "scene": {
           "xaxis": {
            "backgroundcolor": "#E5ECF6",
            "gridcolor": "white",
            "gridwidth": 2,
            "linecolor": "white",
            "showbackground": true,
            "ticks": "",
            "zerolinecolor": "white"
           },
           "yaxis": {
            "backgroundcolor": "#E5ECF6",
            "gridcolor": "white",
            "gridwidth": 2,
            "linecolor": "white",
            "showbackground": true,
            "ticks": "",
            "zerolinecolor": "white"
           },
           "zaxis": {
            "backgroundcolor": "#E5ECF6",
            "gridcolor": "white",
            "gridwidth": 2,
            "linecolor": "white",
            "showbackground": true,
            "ticks": "",
            "zerolinecolor": "white"
           }
          },
          "shapedefaults": {
           "line": {
            "color": "#2a3f5f"
           }
          },
          "ternary": {
           "aaxis": {
            "gridcolor": "white",
            "linecolor": "white",
            "ticks": ""
           },
           "baxis": {
            "gridcolor": "white",
            "linecolor": "white",
            "ticks": ""
           },
           "bgcolor": "#E5ECF6",
           "caxis": {
            "gridcolor": "white",
            "linecolor": "white",
            "ticks": ""
           }
          },
          "title": {
           "x": 0.05
          },
          "xaxis": {
           "automargin": true,
           "gridcolor": "white",
           "linecolor": "white",
           "ticks": "",
           "title": {
            "standoff": 15
           },
           "zerolinecolor": "white",
           "zerolinewidth": 2
          },
          "yaxis": {
           "automargin": true,
           "gridcolor": "white",
           "linecolor": "white",
           "ticks": "",
           "title": {
            "standoff": 15
           },
           "zerolinecolor": "white",
           "zerolinewidth": 2
          }
         }
        }
       }
      },
      "text/html": [
       "<div>                            <div id=\"ca75073e-8239-49d6-a758-668be3784b18\" class=\"plotly-graph-div\" style=\"height:525px; width:100%;\"></div>            <script type=\"text/javascript\">                require([\"plotly\"], function(Plotly) {                    window.PLOTLYENV=window.PLOTLYENV || {};                                    if (document.getElementById(\"ca75073e-8239-49d6-a758-668be3784b18\")) {                    Plotly.newPlot(                        \"ca75073e-8239-49d6-a758-668be3784b18\",                        [{\"customdata\":[[\"dead\"],[\"survived\"],[\"survived\"],[\"survived\"],[\"dead\"],[\"dead\"],[\"dead\"],[\"dead\"],[\"survived\"],[\"survived\"],[\"survived\"],[\"survived\"],[\"dead\"],[\"dead\"],[\"dead\"],[\"survived\"],[\"dead\"],[\"survived\"],[\"dead\"],[\"survived\"],[\"dead\"],[\"survived\"],[\"survived\"],[\"survived\"],[\"dead\"],[\"survived\"],[\"dead\"],[\"dead\"],[\"survived\"],[\"dead\"],[\"dead\"],[\"survived\"],[\"survived\"],[\"dead\"],[\"dead\"],[\"dead\"],[\"survived\"],[\"dead\"],[\"dead\"],[\"survived\"],[\"dead\"],[\"dead\"],[\"dead\"],[\"survived\"],[\"survived\"],[\"dead\"],[\"dead\"],[\"survived\"],[\"dead\"],[\"dead\"],[\"dead\"],[\"dead\"],[\"survived\"],[\"survived\"],[\"dead\"],[\"survived\"],[\"survived\"],[\"dead\"],[\"survived\"],[\"dead\"],[\"dead\"],[\"survived\"],[\"dead\"],[\"dead\"],[\"dead\"],[\"survived\"],[\"survived\"],[\"dead\"],[\"survived\"],[\"dead\"],[\"dead\"],[\"dead\"],[\"dead\"],[\"dead\"],[\"survived\"],[\"dead\"],[\"dead\"],[\"dead\"],[\"survived\"],[\"survived\"],[\"dead\"],[\"survived\"],[\"survived\"],[\"dead\"],[\"survived\"],[\"survived\"],[\"dead\"],[\"dead\"],[\"survived\"],[\"dead\"],[\"dead\"],[\"dead\"],[\"dead\"],[\"dead\"],[\"dead\"],[\"dead\"],[\"dead\"],[\"survived\"],[\"survived\"],[\"dead\"],[\"dead\"],[\"dead\"],[\"dead\"],[\"dead\"],[\"dead\"],[\"dead\"],[\"survived\"],[\"survived\"],[\"dead\"],[\"survived\"],[\"dead\"],[\"dead\"],[\"dead\"],[\"dead\"],[\"dead\"],[\"dead\"],[\"dead\"],[\"dead\"],[\"dead\"],[\"dead\"],[\"dead\"],[\"dead\"],[\"dead\"],[\"survived\"],[\"dead\"],[\"survived\"],[\"dead\"],[\"survived\"],[\"survived\"],[\"dead\"],[\"dead\"],[\"dead\"],[\"dead\"],[\"survived\"],[\"dead\"],[\"dead\"],[\"survived\"],[\"dead\"],[\"dead\"],[\"dead\"],[\"dead\"],[\"survived\"],[\"survived\"],[\"dead\"],[\"dead\"],[\"dead\"],[\"survived\"],[\"dead\"],[\"dead\"],[\"dead\"],[\"dead\"],[\"survived\"],[\"dead\"],[\"dead\"],[\"dead\"],[\"dead\"],[\"survived\"],[\"dead\"],[\"dead\"],[\"dead\"],[\"dead\"],[\"survived\"],[\"dead\"],[\"dead\"],[\"dead\"],[\"survived\"],[\"survived\"],[\"dead\"],[\"dead\"],[\"dead\"],[\"dead\"],[\"dead\"],[\"survived\"],[\"dead\"],[\"dead\"],[\"dead\"],[\"dead\"],[\"dead\"],[\"dead\"],[\"dead\"],[\"dead\"],[\"dead\"],[\"dead\"],[\"survived\"],[\"survived\"],[\"dead\"],[\"survived\"],[\"survived\"],[\"dead\"],[\"dead\"],[\"survived\"],[\"dead\"],[\"survived\"],[\"survived\"],[\"survived\"],[\"survived\"],[\"dead\"],[\"dead\"],[\"survived\"],[\"dead\"],[\"dead\"],[\"dead\"],[\"dead\"],[\"dead\"],[\"survived\"],[\"dead\"],[\"dead\"],[\"survived\"],[\"survived\"],[\"survived\"],[\"dead\"],[\"survived\"],[\"dead\"],[\"dead\"],[\"dead\"],[\"survived\"],[\"survived\"],[\"dead\"],[\"survived\"],[\"dead\"],[\"survived\"],[\"dead\"],[\"dead\"],[\"dead\"],[\"survived\"],[\"dead\"],[\"survived\"],[\"dead\"],[\"dead\"],[\"dead\"],[\"survived\"],[\"dead\"],[\"dead\"],[\"survived\"],[\"dead\"],[\"dead\"],[\"dead\"],[\"survived\"],[\"dead\"],[\"dead\"],[\"dead\"],[\"survived\"],[\"dead\"],[\"dead\"],[\"dead\"],[\"dead\"],[\"dead\"],[\"survived\"],[\"survived\"],[\"dead\"],[\"dead\"],[\"dead\"],[\"dead\"],[\"dead\"],[\"dead\"],[\"survived\"],[\"survived\"],[\"survived\"],[\"survived\"],[\"survived\"],[\"dead\"],[\"survived\"],[\"dead\"],[\"dead\"],[\"dead\"],[\"dead\"],[\"dead\"],[\"survived\"],[\"survived\"],[\"survived\"],[\"dead\"],[\"survived\"],[\"survived\"],[\"dead\"],[\"survived\"],[\"survived\"],[\"dead\"],[\"dead\"],[\"dead\"],[\"survived\"],[\"dead\"],[\"dead\"],[\"dead\"],[\"survived\"],[\"dead\"],[\"dead\"],[\"survived\"],[\"dead\"],[\"survived\"],[\"survived\"],[\"survived\"],[\"survived\"],[\"dead\"],[\"dead\"],[\"dead\"],[\"dead\"],[\"dead\"],[\"dead\"],[\"survived\"],[\"survived\"],[\"survived\"],[\"survived\"],[\"dead\"],[\"survived\"],[\"dead\"],[\"survived\"],[\"survived\"],[\"survived\"],[\"dead\"],[\"survived\"],[\"survived\"],[\"survived\"],[\"dead\"],[\"dead\"],[\"dead\"],[\"survived\"],[\"survived\"],[\"dead\"],[\"survived\"],[\"survived\"],[\"dead\"],[\"dead\"],[\"survived\"],[\"survived\"],[\"dead\"],[\"survived\"],[\"dead\"],[\"survived\"],[\"survived\"],[\"survived\"],[\"survived\"],[\"dead\"],[\"dead\"],[\"dead\"],[\"survived\"],[\"dead\"],[\"dead\"],[\"survived\"],[\"survived\"],[\"dead\"],[\"survived\"],[\"survived\"],[\"dead\"],[\"dead\"],[\"dead\"],[\"survived\"],[\"survived\"],[\"survived\"],[\"survived\"],[\"dead\"],[\"dead\"],[\"dead\"],[\"dead\"],[\"dead\"],[\"dead\"],[\"dead\"],[\"survived\"],[\"dead\"],[\"survived\"],[\"survived\"],[\"dead\"],[\"dead\"],[\"dead\"],[\"dead\"],[\"dead\"],[\"dead\"],[\"survived\"],[\"survived\"],[\"survived\"],[\"survived\"],[\"survived\"],[\"dead\"],[\"dead\"],[\"dead\"],[\"dead\"],[\"survived\"],[\"survived\"],[\"dead\"],[\"dead\"],[\"dead\"],[\"survived\"],[\"survived\"],[\"dead\"],[\"survived\"],[\"dead\"],[\"dead\"],[\"dead\"],[\"survived\"],[\"dead\"],[\"survived\"],[\"survived\"],[\"survived\"],[\"dead\"],[\"survived\"],[\"survived\"],[\"dead\"],[\"dead\"],[\"dead\"],[\"dead\"],[\"survived\"],[\"survived\"],[\"dead\"],[\"dead\"],[\"dead\"],[\"dead\"],[\"dead\"],[\"dead\"],[\"survived\"],[\"dead\"],[\"dead\"],[\"dead\"],[\"dead\"],[\"survived\"],[\"dead\"],[\"survived\"],[\"dead\"],[\"survived\"],[\"survived\"],[\"dead\"],[\"dead\"],[\"dead\"],[\"dead\"],[\"dead\"],[\"dead\"],[\"dead\"],[\"dead\"],[\"survived\"],[\"survived\"],[\"dead\"],[\"survived\"],[\"survived\"],[\"survived\"],[\"survived\"],[\"dead\"],[\"dead\"],[\"survived\"],[\"dead\"],[\"survived\"],[\"dead\"],[\"dead\"],[\"survived\"],[\"dead\"],[\"dead\"],[\"survived\"],[\"survived\"],[\"survived\"],[\"survived\"],[\"survived\"],[\"survived\"],[\"survived\"],[\"dead\"],[\"dead\"],[\"dead\"],[\"survived\"],[\"dead\"],[\"survived\"],[\"dead\"],[\"survived\"],[\"survived\"],[\"dead\"],[\"survived\"],[\"dead\"],[\"dead\"],[\"dead\"],[\"dead\"],[\"dead\"],[\"dead\"],[\"dead\"],[\"dead\"],[\"survived\"],[\"dead\"],[\"dead\"],[\"survived\"],[\"survived\"],[\"dead\"],[\"dead\"],[\"dead\"],[\"dead\"],[\"dead\"],[\"survived\"],[\"dead\"],[\"dead\"],[\"dead\"],[\"survived\"],[\"survived\"],[\"dead\"],[\"survived\"],[\"dead\"],[\"dead\"],[\"survived\"],[\"dead\"],[\"dead\"],[\"dead\"],[\"dead\"],[\"dead\"],[\"dead\"],[\"survived\"],[\"dead\"],[\"dead\"],[\"dead\"],[\"dead\"],[\"dead\"],[\"dead\"],[\"dead\"],[\"survived\"],[\"dead\"],[\"survived\"],[\"survived\"],[\"dead\"],[\"survived\"],[\"survived\"],[\"dead\"],[\"survived\"],[\"survived\"],[\"dead\"],[\"dead\"],[\"survived\"],[\"dead\"],[\"survived\"],[\"dead\"],[\"survived\"],[\"dead\"],[\"dead\"],[\"survived\"],[\"dead\"],[\"dead\"],[\"survived\"],[\"dead\"],[\"dead\"],[\"dead\"],[\"survived\"],[\"dead\"],[\"dead\"],[\"survived\"],[\"dead\"],[\"survived\"],[\"dead\"],[\"survived\"],[\"dead\"],[\"survived\"],[\"survived\"],[\"dead\"],[\"dead\"],[\"survived\"],[\"dead\"],[\"dead\"],[\"survived\"],[\"survived\"],[\"dead\"],[\"survived\"],[\"survived\"],[\"dead\"],[\"dead\"],[\"survived\"],[\"survived\"],[\"dead\"],[\"survived\"],[\"dead\"],[\"survived\"],[\"survived\"],[\"dead\"],[\"dead\"],[\"dead\"],[\"dead\"],[\"dead\"],[\"dead\"],[\"dead\"],[\"dead\"],[\"dead\"],[\"survived\"],[\"survived\"],[\"survived\"],[\"survived\"],[\"survived\"],[\"dead\"],[\"dead\"],[\"survived\"],[\"survived\"],[\"dead\"],[\"survived\"],[\"survived\"],[\"survived\"],[\"dead\"],[\"dead\"],[\"dead\"],[\"survived\"],[\"dead\"],[\"survived\"],[\"dead\"],[\"dead\"],[\"dead\"],[\"survived\"],[\"dead\"],[\"dead\"],[\"dead\"],[\"dead\"],[\"survived\"],[\"dead\"],[\"dead\"],[\"survived\"],[\"survived\"],[\"dead\"],[\"dead\"],[\"dead\"],[\"survived\"],[\"dead\"],[\"dead\"],[\"survived\"],[\"survived\"],[\"survived\"],[\"dead\"],[\"dead\"],[\"survived\"],[\"dead\"],[\"dead\"],[\"survived\"],[\"dead\"],[\"dead\"],[\"survived\"],[\"dead\"],[\"dead\"],[\"survived\"],[\"survived\"],[\"dead\"],[\"dead\"],[\"dead\"],[\"dead\"],[\"survived\"],[\"dead\"],[\"dead\"],[\"survived\"],[\"dead\"],[\"survived\"],[\"dead\"],[\"dead\"],[\"survived\"],[\"dead\"],[\"dead\"],[\"dead\"],[\"dead\"],[\"dead\"],[\"survived\"],[\"dead\"],[\"survived\"],[\"survived\"],[\"survived\"],[\"dead\"],[\"survived\"],[\"dead\"],[\"survived\"],[\"dead\"],[\"survived\"],[\"dead\"],[\"survived\"],[\"dead\"],[\"dead\"],[\"dead\"],[\"dead\"],[\"dead\"],[\"dead\"],[\"survived\"],[\"dead\"],[\"dead\"],[\"dead\"],[\"survived\"],[\"dead\"],[\"dead\"],[\"dead\"],[\"dead\"],[\"survived\"],[\"survived\"],[\"dead\"],[\"dead\"],[\"survived\"],[\"dead\"],[\"dead\"],[\"dead\"],[\"survived\"],[\"dead\"],[\"survived\"],[\"dead\"],[\"survived\"],[\"dead\"],[\"dead\"],[\"dead\"],[\"dead\"],[\"dead\"],[\"dead\"],[\"dead\"],[\"survived\"],[\"survived\"],[\"survived\"],[\"survived\"],[\"dead\"],[\"dead\"],[\"dead\"],[\"dead\"],[\"survived\"],[\"dead\"],[\"dead\"],[\"survived\"],[\"survived\"],[\"dead\"],[\"dead\"],[\"dead\"],[\"dead\"],[\"survived\"],[\"survived\"],[\"survived\"],[\"survived\"],[\"survived\"],[\"dead\"],[\"survived\"],[\"dead\"],[\"dead\"],[\"dead\"],[\"survived\"],[\"survived\"],[\"dead\"],[\"dead\"],[\"survived\"],[\"dead\"],[\"dead\"],[\"dead\"],[\"survived\"],[\"dead\"],[\"survived\"],[\"survived\"],[\"dead\"],[\"dead\"],[\"survived\"],[\"dead\"],[\"dead\"],[\"dead\"],[\"dead\"],[\"dead\"],[\"dead\"],[\"survived\"],[\"dead\"],[\"dead\"],[\"survived\"],[\"dead\"],[\"survived\"],[\"dead\"],[\"survived\"],[\"dead\"],[\"dead\"],[\"survived\"],[\"dead\"],[\"dead\"],[\"survived\"],[\"survived\"],[\"dead\"],[\"dead\"],[\"survived\"],[\"survived\"],[\"dead\"],[\"dead\"],[\"dead\"],[\"survived\"],[\"dead\"],[\"dead\"],[\"survived\"],[\"survived\"],[\"dead\"],[\"survived\"],[\"dead\"],[\"dead\"],[\"dead\"],[\"dead\"],[\"dead\"],[\"dead\"],[\"dead\"],[\"dead\"],[\"survived\"],[\"dead\"],[\"dead\"],[\"survived\"],[\"dead\"],[\"survived\"],[\"survived\"],[\"survived\"],[\"dead\"],[\"dead\"],[\"dead\"],[\"dead\"],[\"survived\"],[\"dead\"],[\"survived\"],[\"dead\"],[\"dead\"],[\"dead\"],[\"dead\"],[\"dead\"],[\"dead\"],[\"dead\"],[\"survived\"],[\"survived\"],[\"dead\"],[\"dead\"],[\"dead\"],[\"survived\"],[\"survived\"],[\"survived\"],[\"survived\"],[\"dead\"],[\"dead\"],[\"dead\"],[\"dead\"],[\"survived\"],[\"dead\"],[\"dead\"],[\"dead\"],[\"dead\"],[\"dead\"],[\"dead\"],[\"dead\"],[\"dead\"],[\"dead\"],[\"dead\"],[\"survived\"],[\"survived\"],[\"dead\"],[\"survived\"],[\"dead\"],[\"dead\"],[\"dead\"],[\"survived\"],[\"survived\"],[\"survived\"],[\"survived\"],[\"survived\"],[\"dead\"],[\"dead\"],[\"dead\"],[\"survived\"],[\"dead\"],[\"dead\"],[\"survived\"],[\"survived\"],[\"dead\"],[\"dead\"],[\"survived\"],[\"dead\"],[\"dead\"],[\"dead\"],[\"dead\"],[\"dead\"],[\"dead\"],[\"survived\"],[\"dead\"],[\"dead\"],[\"dead\"],[\"survived\"],[\"dead\"],[\"survived\"],[\"survived\"],[\"survived\"],[\"survived\"],[\"dead\"],[\"dead\"],[\"dead\"],[\"survived\"],[\"dead\"],[\"dead\"],[\"survived\"],[\"survived\"],[\"dead\"],[\"dead\"],[\"survived\"],[\"dead\"],[\"survived\"],[\"dead\"],[\"dead\"],[\"survived\"],[\"survived\"],[\"dead\"],[\"dead\"],[\"dead\"],[\"survived\"],[\"survived\"],[\"dead\"],[\"dead\"],[\"dead\"],[\"dead\"],[\"dead\"],[\"dead\"],[\"survived\"],[\"dead\"],[\"survived\"],[\"dead\"]],\"domain\":{\"x\":[0.0,1.0],\"y\":[0.0,1.0]},\"hovertemplate\":\"Survived=%{customdata[0]}<extra></extra>\",\"labels\":[\"dead\",\"survived\",\"survived\",\"survived\",\"dead\",\"dead\",\"dead\",\"dead\",\"survived\",\"survived\",\"survived\",\"survived\",\"dead\",\"dead\",\"dead\",\"survived\",\"dead\",\"survived\",\"dead\",\"survived\",\"dead\",\"survived\",\"survived\",\"survived\",\"dead\",\"survived\",\"dead\",\"dead\",\"survived\",\"dead\",\"dead\",\"survived\",\"survived\",\"dead\",\"dead\",\"dead\",\"survived\",\"dead\",\"dead\",\"survived\",\"dead\",\"dead\",\"dead\",\"survived\",\"survived\",\"dead\",\"dead\",\"survived\",\"dead\",\"dead\",\"dead\",\"dead\",\"survived\",\"survived\",\"dead\",\"survived\",\"survived\",\"dead\",\"survived\",\"dead\",\"dead\",\"survived\",\"dead\",\"dead\",\"dead\",\"survived\",\"survived\",\"dead\",\"survived\",\"dead\",\"dead\",\"dead\",\"dead\",\"dead\",\"survived\",\"dead\",\"dead\",\"dead\",\"survived\",\"survived\",\"dead\",\"survived\",\"survived\",\"dead\",\"survived\",\"survived\",\"dead\",\"dead\",\"survived\",\"dead\",\"dead\",\"dead\",\"dead\",\"dead\",\"dead\",\"dead\",\"dead\",\"survived\",\"survived\",\"dead\",\"dead\",\"dead\",\"dead\",\"dead\",\"dead\",\"dead\",\"survived\",\"survived\",\"dead\",\"survived\",\"dead\",\"dead\",\"dead\",\"dead\",\"dead\",\"dead\",\"dead\",\"dead\",\"dead\",\"dead\",\"dead\",\"dead\",\"dead\",\"survived\",\"dead\",\"survived\",\"dead\",\"survived\",\"survived\",\"dead\",\"dead\",\"dead\",\"dead\",\"survived\",\"dead\",\"dead\",\"survived\",\"dead\",\"dead\",\"dead\",\"dead\",\"survived\",\"survived\",\"dead\",\"dead\",\"dead\",\"survived\",\"dead\",\"dead\",\"dead\",\"dead\",\"survived\",\"dead\",\"dead\",\"dead\",\"dead\",\"survived\",\"dead\",\"dead\",\"dead\",\"dead\",\"survived\",\"dead\",\"dead\",\"dead\",\"survived\",\"survived\",\"dead\",\"dead\",\"dead\",\"dead\",\"dead\",\"survived\",\"dead\",\"dead\",\"dead\",\"dead\",\"dead\",\"dead\",\"dead\",\"dead\",\"dead\",\"dead\",\"survived\",\"survived\",\"dead\",\"survived\",\"survived\",\"dead\",\"dead\",\"survived\",\"dead\",\"survived\",\"survived\",\"survived\",\"survived\",\"dead\",\"dead\",\"survived\",\"dead\",\"dead\",\"dead\",\"dead\",\"dead\",\"survived\",\"dead\",\"dead\",\"survived\",\"survived\",\"survived\",\"dead\",\"survived\",\"dead\",\"dead\",\"dead\",\"survived\",\"survived\",\"dead\",\"survived\",\"dead\",\"survived\",\"dead\",\"dead\",\"dead\",\"survived\",\"dead\",\"survived\",\"dead\",\"dead\",\"dead\",\"survived\",\"dead\",\"dead\",\"survived\",\"dead\",\"dead\",\"dead\",\"survived\",\"dead\",\"dead\",\"dead\",\"survived\",\"dead\",\"dead\",\"dead\",\"dead\",\"dead\",\"survived\",\"survived\",\"dead\",\"dead\",\"dead\",\"dead\",\"dead\",\"dead\",\"survived\",\"survived\",\"survived\",\"survived\",\"survived\",\"dead\",\"survived\",\"dead\",\"dead\",\"dead\",\"dead\",\"dead\",\"survived\",\"survived\",\"survived\",\"dead\",\"survived\",\"survived\",\"dead\",\"survived\",\"survived\",\"dead\",\"dead\",\"dead\",\"survived\",\"dead\",\"dead\",\"dead\",\"survived\",\"dead\",\"dead\",\"survived\",\"dead\",\"survived\",\"survived\",\"survived\",\"survived\",\"dead\",\"dead\",\"dead\",\"dead\",\"dead\",\"dead\",\"survived\",\"survived\",\"survived\",\"survived\",\"dead\",\"survived\",\"dead\",\"survived\",\"survived\",\"survived\",\"dead\",\"survived\",\"survived\",\"survived\",\"dead\",\"dead\",\"dead\",\"survived\",\"survived\",\"dead\",\"survived\",\"survived\",\"dead\",\"dead\",\"survived\",\"survived\",\"dead\",\"survived\",\"dead\",\"survived\",\"survived\",\"survived\",\"survived\",\"dead\",\"dead\",\"dead\",\"survived\",\"dead\",\"dead\",\"survived\",\"survived\",\"dead\",\"survived\",\"survived\",\"dead\",\"dead\",\"dead\",\"survived\",\"survived\",\"survived\",\"survived\",\"dead\",\"dead\",\"dead\",\"dead\",\"dead\",\"dead\",\"dead\",\"survived\",\"dead\",\"survived\",\"survived\",\"dead\",\"dead\",\"dead\",\"dead\",\"dead\",\"dead\",\"survived\",\"survived\",\"survived\",\"survived\",\"survived\",\"dead\",\"dead\",\"dead\",\"dead\",\"survived\",\"survived\",\"dead\",\"dead\",\"dead\",\"survived\",\"survived\",\"dead\",\"survived\",\"dead\",\"dead\",\"dead\",\"survived\",\"dead\",\"survived\",\"survived\",\"survived\",\"dead\",\"survived\",\"survived\",\"dead\",\"dead\",\"dead\",\"dead\",\"survived\",\"survived\",\"dead\",\"dead\",\"dead\",\"dead\",\"dead\",\"dead\",\"survived\",\"dead\",\"dead\",\"dead\",\"dead\",\"survived\",\"dead\",\"survived\",\"dead\",\"survived\",\"survived\",\"dead\",\"dead\",\"dead\",\"dead\",\"dead\",\"dead\",\"dead\",\"dead\",\"survived\",\"survived\",\"dead\",\"survived\",\"survived\",\"survived\",\"survived\",\"dead\",\"dead\",\"survived\",\"dead\",\"survived\",\"dead\",\"dead\",\"survived\",\"dead\",\"dead\",\"survived\",\"survived\",\"survived\",\"survived\",\"survived\",\"survived\",\"survived\",\"dead\",\"dead\",\"dead\",\"survived\",\"dead\",\"survived\",\"dead\",\"survived\",\"survived\",\"dead\",\"survived\",\"dead\",\"dead\",\"dead\",\"dead\",\"dead\",\"dead\",\"dead\",\"dead\",\"survived\",\"dead\",\"dead\",\"survived\",\"survived\",\"dead\",\"dead\",\"dead\",\"dead\",\"dead\",\"survived\",\"dead\",\"dead\",\"dead\",\"survived\",\"survived\",\"dead\",\"survived\",\"dead\",\"dead\",\"survived\",\"dead\",\"dead\",\"dead\",\"dead\",\"dead\",\"dead\",\"survived\",\"dead\",\"dead\",\"dead\",\"dead\",\"dead\",\"dead\",\"dead\",\"survived\",\"dead\",\"survived\",\"survived\",\"dead\",\"survived\",\"survived\",\"dead\",\"survived\",\"survived\",\"dead\",\"dead\",\"survived\",\"dead\",\"survived\",\"dead\",\"survived\",\"dead\",\"dead\",\"survived\",\"dead\",\"dead\",\"survived\",\"dead\",\"dead\",\"dead\",\"survived\",\"dead\",\"dead\",\"survived\",\"dead\",\"survived\",\"dead\",\"survived\",\"dead\",\"survived\",\"survived\",\"dead\",\"dead\",\"survived\",\"dead\",\"dead\",\"survived\",\"survived\",\"dead\",\"survived\",\"survived\",\"dead\",\"dead\",\"survived\",\"survived\",\"dead\",\"survived\",\"dead\",\"survived\",\"survived\",\"dead\",\"dead\",\"dead\",\"dead\",\"dead\",\"dead\",\"dead\",\"dead\",\"dead\",\"survived\",\"survived\",\"survived\",\"survived\",\"survived\",\"dead\",\"dead\",\"survived\",\"survived\",\"dead\",\"survived\",\"survived\",\"survived\",\"dead\",\"dead\",\"dead\",\"survived\",\"dead\",\"survived\",\"dead\",\"dead\",\"dead\",\"survived\",\"dead\",\"dead\",\"dead\",\"dead\",\"survived\",\"dead\",\"dead\",\"survived\",\"survived\",\"dead\",\"dead\",\"dead\",\"survived\",\"dead\",\"dead\",\"survived\",\"survived\",\"survived\",\"dead\",\"dead\",\"survived\",\"dead\",\"dead\",\"survived\",\"dead\",\"dead\",\"survived\",\"dead\",\"dead\",\"survived\",\"survived\",\"dead\",\"dead\",\"dead\",\"dead\",\"survived\",\"dead\",\"dead\",\"survived\",\"dead\",\"survived\",\"dead\",\"dead\",\"survived\",\"dead\",\"dead\",\"dead\",\"dead\",\"dead\",\"survived\",\"dead\",\"survived\",\"survived\",\"survived\",\"dead\",\"survived\",\"dead\",\"survived\",\"dead\",\"survived\",\"dead\",\"survived\",\"dead\",\"dead\",\"dead\",\"dead\",\"dead\",\"dead\",\"survived\",\"dead\",\"dead\",\"dead\",\"survived\",\"dead\",\"dead\",\"dead\",\"dead\",\"survived\",\"survived\",\"dead\",\"dead\",\"survived\",\"dead\",\"dead\",\"dead\",\"survived\",\"dead\",\"survived\",\"dead\",\"survived\",\"dead\",\"dead\",\"dead\",\"dead\",\"dead\",\"dead\",\"dead\",\"survived\",\"survived\",\"survived\",\"survived\",\"dead\",\"dead\",\"dead\",\"dead\",\"survived\",\"dead\",\"dead\",\"survived\",\"survived\",\"dead\",\"dead\",\"dead\",\"dead\",\"survived\",\"survived\",\"survived\",\"survived\",\"survived\",\"dead\",\"survived\",\"dead\",\"dead\",\"dead\",\"survived\",\"survived\",\"dead\",\"dead\",\"survived\",\"dead\",\"dead\",\"dead\",\"survived\",\"dead\",\"survived\",\"survived\",\"dead\",\"dead\",\"survived\",\"dead\",\"dead\",\"dead\",\"dead\",\"dead\",\"dead\",\"survived\",\"dead\",\"dead\",\"survived\",\"dead\",\"survived\",\"dead\",\"survived\",\"dead\",\"dead\",\"survived\",\"dead\",\"dead\",\"survived\",\"survived\",\"dead\",\"dead\",\"survived\",\"survived\",\"dead\",\"dead\",\"dead\",\"survived\",\"dead\",\"dead\",\"survived\",\"survived\",\"dead\",\"survived\",\"dead\",\"dead\",\"dead\",\"dead\",\"dead\",\"dead\",\"dead\",\"dead\",\"survived\",\"dead\",\"dead\",\"survived\",\"dead\",\"survived\",\"survived\",\"survived\",\"dead\",\"dead\",\"dead\",\"dead\",\"survived\",\"dead\",\"survived\",\"dead\",\"dead\",\"dead\",\"dead\",\"dead\",\"dead\",\"dead\",\"survived\",\"survived\",\"dead\",\"dead\",\"dead\",\"survived\",\"survived\",\"survived\",\"survived\",\"dead\",\"dead\",\"dead\",\"dead\",\"survived\",\"dead\",\"dead\",\"dead\",\"dead\",\"dead\",\"dead\",\"dead\",\"dead\",\"dead\",\"dead\",\"survived\",\"survived\",\"dead\",\"survived\",\"dead\",\"dead\",\"dead\",\"survived\",\"survived\",\"survived\",\"survived\",\"survived\",\"dead\",\"dead\",\"dead\",\"survived\",\"dead\",\"dead\",\"survived\",\"survived\",\"dead\",\"dead\",\"survived\",\"dead\",\"dead\",\"dead\",\"dead\",\"dead\",\"dead\",\"survived\",\"dead\",\"dead\",\"dead\",\"survived\",\"dead\",\"survived\",\"survived\",\"survived\",\"survived\",\"dead\",\"dead\",\"dead\",\"survived\",\"dead\",\"dead\",\"survived\",\"survived\",\"dead\",\"dead\",\"survived\",\"dead\",\"survived\",\"dead\",\"dead\",\"survived\",\"survived\",\"dead\",\"dead\",\"dead\",\"survived\",\"survived\",\"dead\",\"dead\",\"dead\",\"dead\",\"dead\",\"dead\",\"survived\",\"dead\",\"survived\",\"dead\"],\"legendgroup\":\"\",\"marker\":{\"colors\":[\"#fc8317\",\"#2596be\",\"#2596be\",\"#2596be\",\"#fc8317\",\"#fc8317\",\"#fc8317\",\"#fc8317\",\"#2596be\",\"#2596be\",\"#2596be\",\"#2596be\",\"#fc8317\",\"#fc8317\",\"#fc8317\",\"#2596be\",\"#fc8317\",\"#2596be\",\"#fc8317\",\"#2596be\",\"#fc8317\",\"#2596be\",\"#2596be\",\"#2596be\",\"#fc8317\",\"#2596be\",\"#fc8317\",\"#fc8317\",\"#2596be\",\"#fc8317\",\"#fc8317\",\"#2596be\",\"#2596be\",\"#fc8317\",\"#fc8317\",\"#fc8317\",\"#2596be\",\"#fc8317\",\"#fc8317\",\"#2596be\",\"#fc8317\",\"#fc8317\",\"#fc8317\",\"#2596be\",\"#2596be\",\"#fc8317\",\"#fc8317\",\"#2596be\",\"#fc8317\",\"#fc8317\",\"#fc8317\",\"#fc8317\",\"#2596be\",\"#2596be\",\"#fc8317\",\"#2596be\",\"#2596be\",\"#fc8317\",\"#2596be\",\"#fc8317\",\"#fc8317\",\"#2596be\",\"#fc8317\",\"#fc8317\",\"#fc8317\",\"#2596be\",\"#2596be\",\"#fc8317\",\"#2596be\",\"#fc8317\",\"#fc8317\",\"#fc8317\",\"#fc8317\",\"#fc8317\",\"#2596be\",\"#fc8317\",\"#fc8317\",\"#fc8317\",\"#2596be\",\"#2596be\",\"#fc8317\",\"#2596be\",\"#2596be\",\"#fc8317\",\"#2596be\",\"#2596be\",\"#fc8317\",\"#fc8317\",\"#2596be\",\"#fc8317\",\"#fc8317\",\"#fc8317\",\"#fc8317\",\"#fc8317\",\"#fc8317\",\"#fc8317\",\"#fc8317\",\"#2596be\",\"#2596be\",\"#fc8317\",\"#fc8317\",\"#fc8317\",\"#fc8317\",\"#fc8317\",\"#fc8317\",\"#fc8317\",\"#2596be\",\"#2596be\",\"#fc8317\",\"#2596be\",\"#fc8317\",\"#fc8317\",\"#fc8317\",\"#fc8317\",\"#fc8317\",\"#fc8317\",\"#fc8317\",\"#fc8317\",\"#fc8317\",\"#fc8317\",\"#fc8317\",\"#fc8317\",\"#fc8317\",\"#2596be\",\"#fc8317\",\"#2596be\",\"#fc8317\",\"#2596be\",\"#2596be\",\"#fc8317\",\"#fc8317\",\"#fc8317\",\"#fc8317\",\"#2596be\",\"#fc8317\",\"#fc8317\",\"#2596be\",\"#fc8317\",\"#fc8317\",\"#fc8317\",\"#fc8317\",\"#2596be\",\"#2596be\",\"#fc8317\",\"#fc8317\",\"#fc8317\",\"#2596be\",\"#fc8317\",\"#fc8317\",\"#fc8317\",\"#fc8317\",\"#2596be\",\"#fc8317\",\"#fc8317\",\"#fc8317\",\"#fc8317\",\"#2596be\",\"#fc8317\",\"#fc8317\",\"#fc8317\",\"#fc8317\",\"#2596be\",\"#fc8317\",\"#fc8317\",\"#fc8317\",\"#2596be\",\"#2596be\",\"#fc8317\",\"#fc8317\",\"#fc8317\",\"#fc8317\",\"#fc8317\",\"#2596be\",\"#fc8317\",\"#fc8317\",\"#fc8317\",\"#fc8317\",\"#fc8317\",\"#fc8317\",\"#fc8317\",\"#fc8317\",\"#fc8317\",\"#fc8317\",\"#2596be\",\"#2596be\",\"#fc8317\",\"#2596be\",\"#2596be\",\"#fc8317\",\"#fc8317\",\"#2596be\",\"#fc8317\",\"#2596be\",\"#2596be\",\"#2596be\",\"#2596be\",\"#fc8317\",\"#fc8317\",\"#2596be\",\"#fc8317\",\"#fc8317\",\"#fc8317\",\"#fc8317\",\"#fc8317\",\"#2596be\",\"#fc8317\",\"#fc8317\",\"#2596be\",\"#2596be\",\"#2596be\",\"#fc8317\",\"#2596be\",\"#fc8317\",\"#fc8317\",\"#fc8317\",\"#2596be\",\"#2596be\",\"#fc8317\",\"#2596be\",\"#fc8317\",\"#2596be\",\"#fc8317\",\"#fc8317\",\"#fc8317\",\"#2596be\",\"#fc8317\",\"#2596be\",\"#fc8317\",\"#fc8317\",\"#fc8317\",\"#2596be\",\"#fc8317\",\"#fc8317\",\"#2596be\",\"#fc8317\",\"#fc8317\",\"#fc8317\",\"#2596be\",\"#fc8317\",\"#fc8317\",\"#fc8317\",\"#2596be\",\"#fc8317\",\"#fc8317\",\"#fc8317\",\"#fc8317\",\"#fc8317\",\"#2596be\",\"#2596be\",\"#fc8317\",\"#fc8317\",\"#fc8317\",\"#fc8317\",\"#fc8317\",\"#fc8317\",\"#2596be\",\"#2596be\",\"#2596be\",\"#2596be\",\"#2596be\",\"#fc8317\",\"#2596be\",\"#fc8317\",\"#fc8317\",\"#fc8317\",\"#fc8317\",\"#fc8317\",\"#2596be\",\"#2596be\",\"#2596be\",\"#fc8317\",\"#2596be\",\"#2596be\",\"#fc8317\",\"#2596be\",\"#2596be\",\"#fc8317\",\"#fc8317\",\"#fc8317\",\"#2596be\",\"#fc8317\",\"#fc8317\",\"#fc8317\",\"#2596be\",\"#fc8317\",\"#fc8317\",\"#2596be\",\"#fc8317\",\"#2596be\",\"#2596be\",\"#2596be\",\"#2596be\",\"#fc8317\",\"#fc8317\",\"#fc8317\",\"#fc8317\",\"#fc8317\",\"#fc8317\",\"#2596be\",\"#2596be\",\"#2596be\",\"#2596be\",\"#fc8317\",\"#2596be\",\"#fc8317\",\"#2596be\",\"#2596be\",\"#2596be\",\"#fc8317\",\"#2596be\",\"#2596be\",\"#2596be\",\"#fc8317\",\"#fc8317\",\"#fc8317\",\"#2596be\",\"#2596be\",\"#fc8317\",\"#2596be\",\"#2596be\",\"#fc8317\",\"#fc8317\",\"#2596be\",\"#2596be\",\"#fc8317\",\"#2596be\",\"#fc8317\",\"#2596be\",\"#2596be\",\"#2596be\",\"#2596be\",\"#fc8317\",\"#fc8317\",\"#fc8317\",\"#2596be\",\"#fc8317\",\"#fc8317\",\"#2596be\",\"#2596be\",\"#fc8317\",\"#2596be\",\"#2596be\",\"#fc8317\",\"#fc8317\",\"#fc8317\",\"#2596be\",\"#2596be\",\"#2596be\",\"#2596be\",\"#fc8317\",\"#fc8317\",\"#fc8317\",\"#fc8317\",\"#fc8317\",\"#fc8317\",\"#fc8317\",\"#2596be\",\"#fc8317\",\"#2596be\",\"#2596be\",\"#fc8317\",\"#fc8317\",\"#fc8317\",\"#fc8317\",\"#fc8317\",\"#fc8317\",\"#2596be\",\"#2596be\",\"#2596be\",\"#2596be\",\"#2596be\",\"#fc8317\",\"#fc8317\",\"#fc8317\",\"#fc8317\",\"#2596be\",\"#2596be\",\"#fc8317\",\"#fc8317\",\"#fc8317\",\"#2596be\",\"#2596be\",\"#fc8317\",\"#2596be\",\"#fc8317\",\"#fc8317\",\"#fc8317\",\"#2596be\",\"#fc8317\",\"#2596be\",\"#2596be\",\"#2596be\",\"#fc8317\",\"#2596be\",\"#2596be\",\"#fc8317\",\"#fc8317\",\"#fc8317\",\"#fc8317\",\"#2596be\",\"#2596be\",\"#fc8317\",\"#fc8317\",\"#fc8317\",\"#fc8317\",\"#fc8317\",\"#fc8317\",\"#2596be\",\"#fc8317\",\"#fc8317\",\"#fc8317\",\"#fc8317\",\"#2596be\",\"#fc8317\",\"#2596be\",\"#fc8317\",\"#2596be\",\"#2596be\",\"#fc8317\",\"#fc8317\",\"#fc8317\",\"#fc8317\",\"#fc8317\",\"#fc8317\",\"#fc8317\",\"#fc8317\",\"#2596be\",\"#2596be\",\"#fc8317\",\"#2596be\",\"#2596be\",\"#2596be\",\"#2596be\",\"#fc8317\",\"#fc8317\",\"#2596be\",\"#fc8317\",\"#2596be\",\"#fc8317\",\"#fc8317\",\"#2596be\",\"#fc8317\",\"#fc8317\",\"#2596be\",\"#2596be\",\"#2596be\",\"#2596be\",\"#2596be\",\"#2596be\",\"#2596be\",\"#fc8317\",\"#fc8317\",\"#fc8317\",\"#2596be\",\"#fc8317\",\"#2596be\",\"#fc8317\",\"#2596be\",\"#2596be\",\"#fc8317\",\"#2596be\",\"#fc8317\",\"#fc8317\",\"#fc8317\",\"#fc8317\",\"#fc8317\",\"#fc8317\",\"#fc8317\",\"#fc8317\",\"#2596be\",\"#fc8317\",\"#fc8317\",\"#2596be\",\"#2596be\",\"#fc8317\",\"#fc8317\",\"#fc8317\",\"#fc8317\",\"#fc8317\",\"#2596be\",\"#fc8317\",\"#fc8317\",\"#fc8317\",\"#2596be\",\"#2596be\",\"#fc8317\",\"#2596be\",\"#fc8317\",\"#fc8317\",\"#2596be\",\"#fc8317\",\"#fc8317\",\"#fc8317\",\"#fc8317\",\"#fc8317\",\"#fc8317\",\"#2596be\",\"#fc8317\",\"#fc8317\",\"#fc8317\",\"#fc8317\",\"#fc8317\",\"#fc8317\",\"#fc8317\",\"#2596be\",\"#fc8317\",\"#2596be\",\"#2596be\",\"#fc8317\",\"#2596be\",\"#2596be\",\"#fc8317\",\"#2596be\",\"#2596be\",\"#fc8317\",\"#fc8317\",\"#2596be\",\"#fc8317\",\"#2596be\",\"#fc8317\",\"#2596be\",\"#fc8317\",\"#fc8317\",\"#2596be\",\"#fc8317\",\"#fc8317\",\"#2596be\",\"#fc8317\",\"#fc8317\",\"#fc8317\",\"#2596be\",\"#fc8317\",\"#fc8317\",\"#2596be\",\"#fc8317\",\"#2596be\",\"#fc8317\",\"#2596be\",\"#fc8317\",\"#2596be\",\"#2596be\",\"#fc8317\",\"#fc8317\",\"#2596be\",\"#fc8317\",\"#fc8317\",\"#2596be\",\"#2596be\",\"#fc8317\",\"#2596be\",\"#2596be\",\"#fc8317\",\"#fc8317\",\"#2596be\",\"#2596be\",\"#fc8317\",\"#2596be\",\"#fc8317\",\"#2596be\",\"#2596be\",\"#fc8317\",\"#fc8317\",\"#fc8317\",\"#fc8317\",\"#fc8317\",\"#fc8317\",\"#fc8317\",\"#fc8317\",\"#fc8317\",\"#2596be\",\"#2596be\",\"#2596be\",\"#2596be\",\"#2596be\",\"#fc8317\",\"#fc8317\",\"#2596be\",\"#2596be\",\"#fc8317\",\"#2596be\",\"#2596be\",\"#2596be\",\"#fc8317\",\"#fc8317\",\"#fc8317\",\"#2596be\",\"#fc8317\",\"#2596be\",\"#fc8317\",\"#fc8317\",\"#fc8317\",\"#2596be\",\"#fc8317\",\"#fc8317\",\"#fc8317\",\"#fc8317\",\"#2596be\",\"#fc8317\",\"#fc8317\",\"#2596be\",\"#2596be\",\"#fc8317\",\"#fc8317\",\"#fc8317\",\"#2596be\",\"#fc8317\",\"#fc8317\",\"#2596be\",\"#2596be\",\"#2596be\",\"#fc8317\",\"#fc8317\",\"#2596be\",\"#fc8317\",\"#fc8317\",\"#2596be\",\"#fc8317\",\"#fc8317\",\"#2596be\",\"#fc8317\",\"#fc8317\",\"#2596be\",\"#2596be\",\"#fc8317\",\"#fc8317\",\"#fc8317\",\"#fc8317\",\"#2596be\",\"#fc8317\",\"#fc8317\",\"#2596be\",\"#fc8317\",\"#2596be\",\"#fc8317\",\"#fc8317\",\"#2596be\",\"#fc8317\",\"#fc8317\",\"#fc8317\",\"#fc8317\",\"#fc8317\",\"#2596be\",\"#fc8317\",\"#2596be\",\"#2596be\",\"#2596be\",\"#fc8317\",\"#2596be\",\"#fc8317\",\"#2596be\",\"#fc8317\",\"#2596be\",\"#fc8317\",\"#2596be\",\"#fc8317\",\"#fc8317\",\"#fc8317\",\"#fc8317\",\"#fc8317\",\"#fc8317\",\"#2596be\",\"#fc8317\",\"#fc8317\",\"#fc8317\",\"#2596be\",\"#fc8317\",\"#fc8317\",\"#fc8317\",\"#fc8317\",\"#2596be\",\"#2596be\",\"#fc8317\",\"#fc8317\",\"#2596be\",\"#fc8317\",\"#fc8317\",\"#fc8317\",\"#2596be\",\"#fc8317\",\"#2596be\",\"#fc8317\",\"#2596be\",\"#fc8317\",\"#fc8317\",\"#fc8317\",\"#fc8317\",\"#fc8317\",\"#fc8317\",\"#fc8317\",\"#2596be\",\"#2596be\",\"#2596be\",\"#2596be\",\"#fc8317\",\"#fc8317\",\"#fc8317\",\"#fc8317\",\"#2596be\",\"#fc8317\",\"#fc8317\",\"#2596be\",\"#2596be\",\"#fc8317\",\"#fc8317\",\"#fc8317\",\"#fc8317\",\"#2596be\",\"#2596be\",\"#2596be\",\"#2596be\",\"#2596be\",\"#fc8317\",\"#2596be\",\"#fc8317\",\"#fc8317\",\"#fc8317\",\"#2596be\",\"#2596be\",\"#fc8317\",\"#fc8317\",\"#2596be\",\"#fc8317\",\"#fc8317\",\"#fc8317\",\"#2596be\",\"#fc8317\",\"#2596be\",\"#2596be\",\"#fc8317\",\"#fc8317\",\"#2596be\",\"#fc8317\",\"#fc8317\",\"#fc8317\",\"#fc8317\",\"#fc8317\",\"#fc8317\",\"#2596be\",\"#fc8317\",\"#fc8317\",\"#2596be\",\"#fc8317\",\"#2596be\",\"#fc8317\",\"#2596be\",\"#fc8317\",\"#fc8317\",\"#2596be\",\"#fc8317\",\"#fc8317\",\"#2596be\",\"#2596be\",\"#fc8317\",\"#fc8317\",\"#2596be\",\"#2596be\",\"#fc8317\",\"#fc8317\",\"#fc8317\",\"#2596be\",\"#fc8317\",\"#fc8317\",\"#2596be\",\"#2596be\",\"#fc8317\",\"#2596be\",\"#fc8317\",\"#fc8317\",\"#fc8317\",\"#fc8317\",\"#fc8317\",\"#fc8317\",\"#fc8317\",\"#fc8317\",\"#2596be\",\"#fc8317\",\"#fc8317\",\"#2596be\",\"#fc8317\",\"#2596be\",\"#2596be\",\"#2596be\",\"#fc8317\",\"#fc8317\",\"#fc8317\",\"#fc8317\",\"#2596be\",\"#fc8317\",\"#2596be\",\"#fc8317\",\"#fc8317\",\"#fc8317\",\"#fc8317\",\"#fc8317\",\"#fc8317\",\"#fc8317\",\"#2596be\",\"#2596be\",\"#fc8317\",\"#fc8317\",\"#fc8317\",\"#2596be\",\"#2596be\",\"#2596be\",\"#2596be\",\"#fc8317\",\"#fc8317\",\"#fc8317\",\"#fc8317\",\"#2596be\",\"#fc8317\",\"#fc8317\",\"#fc8317\",\"#fc8317\",\"#fc8317\",\"#fc8317\",\"#fc8317\",\"#fc8317\",\"#fc8317\",\"#fc8317\",\"#2596be\",\"#2596be\",\"#fc8317\",\"#2596be\",\"#fc8317\",\"#fc8317\",\"#fc8317\",\"#2596be\",\"#2596be\",\"#2596be\",\"#2596be\",\"#2596be\",\"#fc8317\",\"#fc8317\",\"#fc8317\",\"#2596be\",\"#fc8317\",\"#fc8317\",\"#2596be\",\"#2596be\",\"#fc8317\",\"#fc8317\",\"#2596be\",\"#fc8317\",\"#fc8317\",\"#fc8317\",\"#fc8317\",\"#fc8317\",\"#fc8317\",\"#2596be\",\"#fc8317\",\"#fc8317\",\"#fc8317\",\"#2596be\",\"#fc8317\",\"#2596be\",\"#2596be\",\"#2596be\",\"#2596be\",\"#fc8317\",\"#fc8317\",\"#fc8317\",\"#2596be\",\"#fc8317\",\"#fc8317\",\"#2596be\",\"#2596be\",\"#fc8317\",\"#fc8317\",\"#2596be\",\"#fc8317\",\"#2596be\",\"#fc8317\",\"#fc8317\",\"#2596be\",\"#2596be\",\"#fc8317\",\"#fc8317\",\"#fc8317\",\"#2596be\",\"#2596be\",\"#fc8317\",\"#fc8317\",\"#fc8317\",\"#fc8317\",\"#fc8317\",\"#fc8317\",\"#2596be\",\"#fc8317\",\"#2596be\",\"#fc8317\"]},\"name\":\"\",\"showlegend\":true,\"type\":\"pie\"}],                        {\"template\":{\"data\":{\"histogram2dcontour\":[{\"type\":\"histogram2dcontour\",\"colorbar\":{\"outlinewidth\":0,\"ticks\":\"\"},\"colorscale\":[[0.0,\"#0d0887\"],[0.1111111111111111,\"#46039f\"],[0.2222222222222222,\"#7201a8\"],[0.3333333333333333,\"#9c179e\"],[0.4444444444444444,\"#bd3786\"],[0.5555555555555556,\"#d8576b\"],[0.6666666666666666,\"#ed7953\"],[0.7777777777777778,\"#fb9f3a\"],[0.8888888888888888,\"#fdca26\"],[1.0,\"#f0f921\"]]}],\"choropleth\":[{\"type\":\"choropleth\",\"colorbar\":{\"outlinewidth\":0,\"ticks\":\"\"}}],\"histogram2d\":[{\"type\":\"histogram2d\",\"colorbar\":{\"outlinewidth\":0,\"ticks\":\"\"},\"colorscale\":[[0.0,\"#0d0887\"],[0.1111111111111111,\"#46039f\"],[0.2222222222222222,\"#7201a8\"],[0.3333333333333333,\"#9c179e\"],[0.4444444444444444,\"#bd3786\"],[0.5555555555555556,\"#d8576b\"],[0.6666666666666666,\"#ed7953\"],[0.7777777777777778,\"#fb9f3a\"],[0.8888888888888888,\"#fdca26\"],[1.0,\"#f0f921\"]]}],\"heatmap\":[{\"type\":\"heatmap\",\"colorbar\":{\"outlinewidth\":0,\"ticks\":\"\"},\"colorscale\":[[0.0,\"#0d0887\"],[0.1111111111111111,\"#46039f\"],[0.2222222222222222,\"#7201a8\"],[0.3333333333333333,\"#9c179e\"],[0.4444444444444444,\"#bd3786\"],[0.5555555555555556,\"#d8576b\"],[0.6666666666666666,\"#ed7953\"],[0.7777777777777778,\"#fb9f3a\"],[0.8888888888888888,\"#fdca26\"],[1.0,\"#f0f921\"]]}],\"heatmapgl\":[{\"type\":\"heatmapgl\",\"colorbar\":{\"outlinewidth\":0,\"ticks\":\"\"},\"colorscale\":[[0.0,\"#0d0887\"],[0.1111111111111111,\"#46039f\"],[0.2222222222222222,\"#7201a8\"],[0.3333333333333333,\"#9c179e\"],[0.4444444444444444,\"#bd3786\"],[0.5555555555555556,\"#d8576b\"],[0.6666666666666666,\"#ed7953\"],[0.7777777777777778,\"#fb9f3a\"],[0.8888888888888888,\"#fdca26\"],[1.0,\"#f0f921\"]]}],\"contourcarpet\":[{\"type\":\"contourcarpet\",\"colorbar\":{\"outlinewidth\":0,\"ticks\":\"\"}}],\"contour\":[{\"type\":\"contour\",\"colorbar\":{\"outlinewidth\":0,\"ticks\":\"\"},\"colorscale\":[[0.0,\"#0d0887\"],[0.1111111111111111,\"#46039f\"],[0.2222222222222222,\"#7201a8\"],[0.3333333333333333,\"#9c179e\"],[0.4444444444444444,\"#bd3786\"],[0.5555555555555556,\"#d8576b\"],[0.6666666666666666,\"#ed7953\"],[0.7777777777777778,\"#fb9f3a\"],[0.8888888888888888,\"#fdca26\"],[1.0,\"#f0f921\"]]}],\"surface\":[{\"type\":\"surface\",\"colorbar\":{\"outlinewidth\":0,\"ticks\":\"\"},\"colorscale\":[[0.0,\"#0d0887\"],[0.1111111111111111,\"#46039f\"],[0.2222222222222222,\"#7201a8\"],[0.3333333333333333,\"#9c179e\"],[0.4444444444444444,\"#bd3786\"],[0.5555555555555556,\"#d8576b\"],[0.6666666666666666,\"#ed7953\"],[0.7777777777777778,\"#fb9f3a\"],[0.8888888888888888,\"#fdca26\"],[1.0,\"#f0f921\"]]}],\"mesh3d\":[{\"type\":\"mesh3d\",\"colorbar\":{\"outlinewidth\":0,\"ticks\":\"\"}}],\"scatter\":[{\"fillpattern\":{\"fillmode\":\"overlay\",\"size\":10,\"solidity\":0.2},\"type\":\"scatter\"}],\"parcoords\":[{\"type\":\"parcoords\",\"line\":{\"colorbar\":{\"outlinewidth\":0,\"ticks\":\"\"}}}],\"scatterpolargl\":[{\"type\":\"scatterpolargl\",\"marker\":{\"colorbar\":{\"outlinewidth\":0,\"ticks\":\"\"}}}],\"bar\":[{\"error_x\":{\"color\":\"#2a3f5f\"},\"error_y\":{\"color\":\"#2a3f5f\"},\"marker\":{\"line\":{\"color\":\"#E5ECF6\",\"width\":0.5},\"pattern\":{\"fillmode\":\"overlay\",\"size\":10,\"solidity\":0.2}},\"type\":\"bar\"}],\"scattergeo\":[{\"type\":\"scattergeo\",\"marker\":{\"colorbar\":{\"outlinewidth\":0,\"ticks\":\"\"}}}],\"scatterpolar\":[{\"type\":\"scatterpolar\",\"marker\":{\"colorbar\":{\"outlinewidth\":0,\"ticks\":\"\"}}}],\"histogram\":[{\"marker\":{\"pattern\":{\"fillmode\":\"overlay\",\"size\":10,\"solidity\":0.2}},\"type\":\"histogram\"}],\"scattergl\":[{\"type\":\"scattergl\",\"marker\":{\"colorbar\":{\"outlinewidth\":0,\"ticks\":\"\"}}}],\"scatter3d\":[{\"type\":\"scatter3d\",\"line\":{\"colorbar\":{\"outlinewidth\":0,\"ticks\":\"\"}},\"marker\":{\"colorbar\":{\"outlinewidth\":0,\"ticks\":\"\"}}}],\"scattermapbox\":[{\"type\":\"scattermapbox\",\"marker\":{\"colorbar\":{\"outlinewidth\":0,\"ticks\":\"\"}}}],\"scatterternary\":[{\"type\":\"scatterternary\",\"marker\":{\"colorbar\":{\"outlinewidth\":0,\"ticks\":\"\"}}}],\"scattercarpet\":[{\"type\":\"scattercarpet\",\"marker\":{\"colorbar\":{\"outlinewidth\":0,\"ticks\":\"\"}}}],\"carpet\":[{\"aaxis\":{\"endlinecolor\":\"#2a3f5f\",\"gridcolor\":\"white\",\"linecolor\":\"white\",\"minorgridcolor\":\"white\",\"startlinecolor\":\"#2a3f5f\"},\"baxis\":{\"endlinecolor\":\"#2a3f5f\",\"gridcolor\":\"white\",\"linecolor\":\"white\",\"minorgridcolor\":\"white\",\"startlinecolor\":\"#2a3f5f\"},\"type\":\"carpet\"}],\"table\":[{\"cells\":{\"fill\":{\"color\":\"#EBF0F8\"},\"line\":{\"color\":\"white\"}},\"header\":{\"fill\":{\"color\":\"#C8D4E3\"},\"line\":{\"color\":\"white\"}},\"type\":\"table\"}],\"barpolar\":[{\"marker\":{\"line\":{\"color\":\"#E5ECF6\",\"width\":0.5},\"pattern\":{\"fillmode\":\"overlay\",\"size\":10,\"solidity\":0.2}},\"type\":\"barpolar\"}],\"pie\":[{\"automargin\":true,\"type\":\"pie\"}]},\"layout\":{\"autotypenumbers\":\"strict\",\"colorway\":[\"#636efa\",\"#EF553B\",\"#00cc96\",\"#ab63fa\",\"#FFA15A\",\"#19d3f3\",\"#FF6692\",\"#B6E880\",\"#FF97FF\",\"#FECB52\"],\"font\":{\"color\":\"#2a3f5f\"},\"hovermode\":\"closest\",\"hoverlabel\":{\"align\":\"left\"},\"paper_bgcolor\":\"white\",\"plot_bgcolor\":\"#E5ECF6\",\"polar\":{\"bgcolor\":\"#E5ECF6\",\"angularaxis\":{\"gridcolor\":\"white\",\"linecolor\":\"white\",\"ticks\":\"\"},\"radialaxis\":{\"gridcolor\":\"white\",\"linecolor\":\"white\",\"ticks\":\"\"}},\"ternary\":{\"bgcolor\":\"#E5ECF6\",\"aaxis\":{\"gridcolor\":\"white\",\"linecolor\":\"white\",\"ticks\":\"\"},\"baxis\":{\"gridcolor\":\"white\",\"linecolor\":\"white\",\"ticks\":\"\"},\"caxis\":{\"gridcolor\":\"white\",\"linecolor\":\"white\",\"ticks\":\"\"}},\"coloraxis\":{\"colorbar\":{\"outlinewidth\":0,\"ticks\":\"\"}},\"colorscale\":{\"sequential\":[[0.0,\"#0d0887\"],[0.1111111111111111,\"#46039f\"],[0.2222222222222222,\"#7201a8\"],[0.3333333333333333,\"#9c179e\"],[0.4444444444444444,\"#bd3786\"],[0.5555555555555556,\"#d8576b\"],[0.6666666666666666,\"#ed7953\"],[0.7777777777777778,\"#fb9f3a\"],[0.8888888888888888,\"#fdca26\"],[1.0,\"#f0f921\"]],\"sequentialminus\":[[0.0,\"#0d0887\"],[0.1111111111111111,\"#46039f\"],[0.2222222222222222,\"#7201a8\"],[0.3333333333333333,\"#9c179e\"],[0.4444444444444444,\"#bd3786\"],[0.5555555555555556,\"#d8576b\"],[0.6666666666666666,\"#ed7953\"],[0.7777777777777778,\"#fb9f3a\"],[0.8888888888888888,\"#fdca26\"],[1.0,\"#f0f921\"]],\"diverging\":[[0,\"#8e0152\"],[0.1,\"#c51b7d\"],[0.2,\"#de77ae\"],[0.3,\"#f1b6da\"],[0.4,\"#fde0ef\"],[0.5,\"#f7f7f7\"],[0.6,\"#e6f5d0\"],[0.7,\"#b8e186\"],[0.8,\"#7fbc41\"],[0.9,\"#4d9221\"],[1,\"#276419\"]]},\"xaxis\":{\"gridcolor\":\"white\",\"linecolor\":\"white\",\"ticks\":\"\",\"title\":{\"standoff\":15},\"zerolinecolor\":\"white\",\"automargin\":true,\"zerolinewidth\":2},\"yaxis\":{\"gridcolor\":\"white\",\"linecolor\":\"white\",\"ticks\":\"\",\"title\":{\"standoff\":15},\"zerolinecolor\":\"white\",\"automargin\":true,\"zerolinewidth\":2},\"scene\":{\"xaxis\":{\"backgroundcolor\":\"#E5ECF6\",\"gridcolor\":\"white\",\"linecolor\":\"white\",\"showbackground\":true,\"ticks\":\"\",\"zerolinecolor\":\"white\",\"gridwidth\":2},\"yaxis\":{\"backgroundcolor\":\"#E5ECF6\",\"gridcolor\":\"white\",\"linecolor\":\"white\",\"showbackground\":true,\"ticks\":\"\",\"zerolinecolor\":\"white\",\"gridwidth\":2},\"zaxis\":{\"backgroundcolor\":\"#E5ECF6\",\"gridcolor\":\"white\",\"linecolor\":\"white\",\"showbackground\":true,\"ticks\":\"\",\"zerolinecolor\":\"white\",\"gridwidth\":2}},\"shapedefaults\":{\"line\":{\"color\":\"#2a3f5f\"}},\"annotationdefaults\":{\"arrowcolor\":\"#2a3f5f\",\"arrowhead\":0,\"arrowwidth\":1},\"geo\":{\"bgcolor\":\"white\",\"landcolor\":\"#E5ECF6\",\"subunitcolor\":\"white\",\"showland\":true,\"showlakes\":true,\"lakecolor\":\"white\"},\"title\":{\"x\":0.05},\"mapbox\":{\"style\":\"light\"}}},\"legend\":{\"tracegroupgap\":0},\"margin\":{\"t\":60}},                        {\"responsive\": true}                    ).then(function(){\n",
       "                            \n",
       "var gd = document.getElementById('ca75073e-8239-49d6-a758-668be3784b18');\n",
       "var x = new MutationObserver(function (mutations, observer) {{\n",
       "        var display = window.getComputedStyle(gd).display;\n",
       "        if (!display || display === 'none') {{\n",
       "            console.log([gd, 'removed!']);\n",
       "            Plotly.purge(gd);\n",
       "            observer.disconnect();\n",
       "        }}\n",
       "}});\n",
       "\n",
       "// Listen for the removal of the full notebook cells\n",
       "var notebookContainer = gd.closest('#notebook-container');\n",
       "if (notebookContainer) {{\n",
       "    x.observe(notebookContainer, {childList: true});\n",
       "}}\n",
       "\n",
       "// Listen for the clearing of the current output cell\n",
       "var outputEl = gd.closest('.output');\n",
       "if (outputEl) {{\n",
       "    x.observe(outputEl, {childList: true});\n",
       "}}\n",
       "\n",
       "                        })                };                });            </script>        </div>"
      ]
     },
     "metadata": {},
     "output_type": "display_data"
    }
   ],
   "source": [
    "px.pie(df2 , names=\"Survived\",color='Survived',color_discrete_map={'dead':'#fc8317','survived':'#2596be'})"
   ]
  },
  {
   "cell_type": "markdown",
   "id": "2da5fe71",
   "metadata": {},
   "source": [
    "### only 38.38% of the passengers survived the crash i.e (342 passengers)"
   ]
  },
  {
   "cell_type": "markdown",
   "id": "4cd44dbf",
   "metadata": {},
   "source": [
    "### Gender and servived"
   ]
  },
  {
   "cell_type": "code",
   "execution_count": 155,
   "id": "3c804606",
   "metadata": {},
   "outputs": [
    {
     "data": {
      "text/plain": [
       "Sex     Survived\n",
       "female  dead         81\n",
       "        survived    233\n",
       "male    dead        468\n",
       "        survived    109\n",
       "Name: Survived, dtype: int64"
      ]
     },
     "execution_count": 155,
     "metadata": {},
     "output_type": "execute_result"
    }
   ],
   "source": [
    "df2.groupby([\"Sex\",\"Survived\"])[\"Survived\"].count()"
   ]
  },
  {
   "cell_type": "code",
   "execution_count": 156,
   "id": "d666ffb7",
   "metadata": {},
   "outputs": [
    {
     "data": {
      "image/png": "[encoded data removed]",
      "text/plain": [
       "<Figure size 640x480 with 1 Axes>"
      ]
     },
     "metadata": {},
     "output_type": "display_data"
    }
   ],
   "source": [
    "sns.countplot(data=df2,x=\"Sex\",hue=\"Survived\",palette=['#fc8317',\"#2596be\"]);"
   ]
  },
  {
   "cell_type": "markdown",
   "id": "2519c11c",
   "metadata": {},
   "source": [
    "### although the number of men is nearly twice the number of women, the survival rates of women is 74.2% while men is only 18.9%"
   ]
  },
  {
   "cell_type": "code",
   "execution_count": 157,
   "id": "ce2e5657",
   "metadata": {},
   "outputs": [
    {
     "data": {
      "text/plain": [
       "Pclass  Survived\n",
       "1       dead         80\n",
       "        survived    136\n",
       "2       dead         97\n",
       "        survived     87\n",
       "3       dead        372\n",
       "        survived    119\n",
       "Name: Survived, dtype: int64"
      ]
     },
     "execution_count": 157,
     "metadata": {},
     "output_type": "execute_result"
    }
   ],
   "source": [
    "df2.groupby([\"Pclass\",\"Survived\"])[\"Survived\"].count()"
   ]
  },
  {
   "cell_type": "markdown",
   "id": "aca5cd1f",
   "metadata": {},
   "source": [
    "### pclass and survived"
   ]
  },
  {
   "cell_type": "code",
   "execution_count": 158,
   "id": "d76c52c3",
   "metadata": {},
   "outputs": [
    {
     "data": {
      "image/png": "[encoded data removed]",
      "text/plain": [
       "<Figure size 640x480 with 1 Axes>"
      ]
     },
     "metadata": {},
     "output_type": "display_data"
    }
   ],
   "source": [
    "sns.countplot(data=df2,x=\"Pclass\",hue=\"Survived\",palette=['#fc8317',\"#2596be\"]);"
   ]
  },
  {
   "cell_type": "markdown",
   "id": "ac17844d",
   "metadata": {},
   "source": [
    "### the survival rates of Pclass 1 is 63% , Pclass 2 is 47.2% ,Pclass 3 is 24.23% while Pclass 3 have a large number of passengers , the priorty while rescue was given to Pclass1"
   ]
  },
  {
   "cell_type": "markdown",
   "id": "bf52bbb2",
   "metadata": {},
   "source": [
    "### age and survived"
   ]
  },
  {
   "cell_type": "code",
   "execution_count": 159,
   "id": "54921f8d",
   "metadata": {},
   "outputs": [
    {
     "data": {
      "image/png": "[encoded data removed]",
      "text/plain": [
       "<Figure size 640x480 with 1 Axes>"
      ]
     },
     "metadata": {},
     "output_type": "display_data"
    }
   ],
   "source": [
    "sns.kdeplot(data=df2 , x = \"Age\",fill=True, hue= 'Survived' );"
   ]
  },
  {
   "cell_type": "markdown",
   "id": "237ae168",
   "metadata": {},
   "source": [
    "### survived by pclass and age"
   ]
  },
  {
   "cell_type": "code",
   "execution_count": 160,
   "id": "61507745",
   "metadata": {},
   "outputs": [
    {
     "data": {
      "image/png": "[encoded data removed]",
      "text/plain": [
       "<Figure size 640x480 with 1 Axes>"
      ]
     },
     "metadata": {},
     "output_type": "display_data"
    }
   ],
   "source": [
    "sns.stripplot(x='Pclass', y='Age', hue='Survived', data=df2)\n",
    "plt.title('Pclass and Age vs Survived')\n",
    "plt.legend(loc='upper right')\n",
    "plt.show()"
   ]
  },
  {
   "cell_type": "code",
   "execution_count": 161,
   "id": "035dc98d",
   "metadata": {},
   "outputs": [
    {
     "data": {
      "text/plain": [
       "Pclass  Survived  Age  \n",
       "1       dead      False     79\n",
       "                  True       1\n",
       "        survived  False    134\n",
       "                  True       2\n",
       "2       dead      False     97\n",
       "        survived  False     70\n",
       "                  True      17\n",
       "3       dead      False    345\n",
       "                  True      27\n",
       "        survived  False     98\n",
       "                  True      21\n",
       "Name: Survived, dtype: int64"
      ]
     },
     "execution_count": 161,
     "metadata": {},
     "output_type": "execute_result"
    }
   ],
   "source": [
    "df2.groupby([\"Pclass\",\"Survived\",(df2[\"Age\"] <= 10)])[\"Survived\"].count()"
   ]
  },
  {
   "cell_type": "markdown",
   "id": "17c457f5",
   "metadata": {},
   "source": [
    "### the number of passengers below 10 increase with Pclass and their survival rates are high irrespective of the Pclass"
   ]
  },
  {
   "cell_type": "markdown",
   "id": "a1c4e1ae",
   "metadata": {},
   "source": [
    "### survived by age and gender"
   ]
  },
  {
   "cell_type": "code",
   "execution_count": 162,
   "id": "35b7ecf2",
   "metadata": {},
   "outputs": [
    {
     "data": {
      "image/png": "[encoded data removed]",
      "text/plain": [
       "<Figure size 2200x1000 with 1 Axes>"
      ]
     },
     "metadata": {},
     "output_type": "display_data"
    }
   ],
   "source": [
    "fig, ax = plt.subplots (figsize= (22, 10))\n",
    "palette =['#fc8317','#2596be']\n",
    "sns.histplot(data=df2.loc[ (df2['Survived'] =='survived')] , x =\"Age\" ,hue = \"Sex\" , stat=\"percent\",\n",
    "             palette=palette);"
   ]
  },
  {
   "cell_type": "markdown",
   "id": "cb38b00b",
   "metadata": {},
   "source": [
    "### the survival rates for men decrease with an increase in Age\n",
    "### the highest survival rates is for women in Pclass1"
   ]
  },
  {
   "cell_type": "markdown",
   "id": "057d474f",
   "metadata": {},
   "source": [
    "### Embarked and survived"
   ]
  },
  {
   "cell_type": "code",
   "execution_count": 163,
   "id": "672d03fb",
   "metadata": {},
   "outputs": [
    {
     "data": {
      "text/plain": [
       "Embarked  Survived\n",
       "C         survived    55.357143\n",
       "          dead        44.642857\n",
       "Q         dead        61.038961\n",
       "          survived    38.961039\n",
       "S         dead        66.099071\n",
       "          survived    33.900929\n",
       "Name: Survived, dtype: float64"
      ]
     },
     "execution_count": 163,
     "metadata": {},
     "output_type": "execute_result"
    }
   ],
   "source": [
    "df2.groupby(\"Embarked\")[\"Survived\"].value_counts(normalize = True) *100"
   ]
  },
  {
   "cell_type": "code",
   "execution_count": 164,
   "id": "8c4f36db",
   "metadata": {},
   "outputs": [
    {
     "data": {
      "image/png": "[encoded data removed]",
      "text/plain": [
       "<Figure size 640x480 with 1 Axes>"
      ]
     },
     "metadata": {},
     "output_type": "display_data"
    }
   ],
   "source": [
    "sns.countplot(data=df2,x=\"Embarked\", hue=\"Survived\",palette=['#fc8317',\"#2596be\"]);"
   ]
  },
  {
   "cell_type": "code",
   "execution_count": 165,
   "id": "d8e228f3",
   "metadata": {},
   "outputs": [
    {
     "data": {
      "image/png": "[encoded data removed]",
      "text/plain": [
       "<Figure size 640x480 with 1 Axes>"
      ]
     },
     "metadata": {},
     "output_type": "display_data"
    }
   ],
   "source": [
    "sns.countplot(data=df2,x=\"Embarked\", hue=\"Pclass\");"
   ]
  },
  {
   "cell_type": "markdown",
   "id": "34ec2b46",
   "metadata": {},
   "source": [
    "### sipsp and survived"
   ]
  },
  {
   "cell_type": "code",
   "execution_count": 166,
   "id": "00e9ac23",
   "metadata": {},
   "outputs": [
    {
     "data": {
      "text/plain": [
       "SibSp  Survived\n",
       "0      dead        398\n",
       "       survived    210\n",
       "1      dead         97\n",
       "       survived    112\n",
       "2      dead         15\n",
       "       survived     13\n",
       "3      dead         12\n",
       "       survived      4\n",
       "4      dead         15\n",
       "       survived      3\n",
       "5      dead          5\n",
       "8      dead          7\n",
       "Name: Survived, dtype: int64"
      ]
     },
     "execution_count": 166,
     "metadata": {},
     "output_type": "execute_result"
    }
   ],
   "source": [
    "df2.groupby([\"SibSp\",\"Survived\"])[\"Survived\"].count()"
   ]
  },
  {
   "cell_type": "code",
   "execution_count": 167,
   "id": "d5e51d4f",
   "metadata": {},
   "outputs": [
    {
     "data": {
      "image/png": "[encoded data removed]",
      "text/plain": [
       "<Figure size 640x480 with 1 Axes>"
      ]
     },
     "metadata": {},
     "output_type": "display_data"
    }
   ],
   "source": [
    "sns.countplot(data=df2,x=\"SibSp\",hue=\"Survived\",palette=['#fc8317',\"#2596be\"]);"
   ]
  },
  {
   "cell_type": "code",
   "execution_count": 168,
   "id": "ffbb766e",
   "metadata": {},
   "outputs": [
    {
     "data": {
      "text/plain": [
       "SibSp  Pclass\n",
       "0      1         137\n",
       "       2         120\n",
       "       3         351\n",
       "1      1          71\n",
       "       2          55\n",
       "       3          83\n",
       "2      1           5\n",
       "       2           8\n",
       "       3          15\n",
       "3      1           3\n",
       "       2           1\n",
       "       3          12\n",
       "4      3          18\n",
       "5      3           5\n",
       "8      3           7\n",
       "Name: Survived, dtype: int64"
      ]
     },
     "execution_count": 168,
     "metadata": {},
     "output_type": "execute_result"
    }
   ],
   "source": [
    "df2.groupby([\"SibSp\",\"Pclass\"])[\"Survived\"].count()"
   ]
  },
  {
   "cell_type": "markdown",
   "id": "a9334910",
   "metadata": {},
   "source": [
    "### the survival rates for passenger with no siblings is 34.5% and the number decrease with the increase of the number of siblings increase.\n",
    "### All the families that have more siblings than 3 were all in Pclass3 , that's why survival rates for families more than 4 is 0%. "
   ]
  },
  {
   "cell_type": "markdown",
   "id": "a67f4d5f",
   "metadata": {},
   "source": [
    "### Parch and survived"
   ]
  },
  {
   "cell_type": "code",
   "execution_count": 169,
   "id": "5789be85",
   "metadata": {},
   "outputs": [
    {
     "data": {
      "text/plain": [
       "Parch  Survived\n",
       "0      dead        445\n",
       "       survived    233\n",
       "1      dead         53\n",
       "       survived     65\n",
       "2      dead         40\n",
       "       survived     40\n",
       "3      dead          2\n",
       "       survived      3\n",
       "4      dead          4\n",
       "5      dead          4\n",
       "       survived      1\n",
       "6      dead          1\n",
       "Name: Survived, dtype: int64"
      ]
     },
     "execution_count": 169,
     "metadata": {},
     "output_type": "execute_result"
    }
   ],
   "source": [
    "df2.groupby([\"Parch\",\"Survived\"])[\"Survived\"].count()"
   ]
  },
  {
   "cell_type": "code",
   "execution_count": 170,
   "id": "673f5601",
   "metadata": {},
   "outputs": [
    {
     "data": {
      "image/png": "[encoded data removed]",
      "text/plain": [
       "<Figure size 640x480 with 1 Axes>"
      ]
     },
     "metadata": {},
     "output_type": "display_data"
    }
   ],
   "source": [
    "sns.countplot(data=df2,x=\"Parch\",hue=\"Survived\",palette=['#fc8317',\"#2596be\"]);"
   ]
  },
  {
   "cell_type": "code",
   "execution_count": 171,
   "id": "2bd99f64",
   "metadata": {},
   "outputs": [
    {
     "data": {
      "text/plain": [
       "Parch  Pclass\n",
       "0      1         163\n",
       "       2         134\n",
       "       3         381\n",
       "1      1          31\n",
       "       2          32\n",
       "       3          55\n",
       "2      1          21\n",
       "       2          16\n",
       "       3          43\n",
       "3      2           2\n",
       "       3           3\n",
       "4      1           1\n",
       "       3           3\n",
       "5      3           5\n",
       "6      3           1\n",
       "Name: Survived, dtype: int64"
      ]
     },
     "execution_count": 171,
     "metadata": {},
     "output_type": "execute_result"
    }
   ],
   "source": [
    "df2.groupby([\"Parch\",\"Pclass\"])[\"Survived\"].count()"
   ]
  },
  {
   "cell_type": "markdown",
   "id": "d3bd0c2e",
   "metadata": {},
   "source": [
    "### the results similar to sipsp"
   ]
  },
  {
   "cell_type": "markdown",
   "id": "e8206aa0",
   "metadata": {},
   "source": [
    "### Correlation"
   ]
  },
  {
   "cell_type": "code",
   "execution_count": 172,
   "id": "308ec8c5",
   "metadata": {},
   "outputs": [
    {
     "data": {
      "text/plain": [
       "Index(['Survived', 'Pclass', 'Name', 'Sex', 'Age', 'SibSp', 'Parch', 'Ticket',\n",
       "       'Fare', 'Embarked', 'Initial'],\n",
       "      dtype='object')"
      ]
     },
     "execution_count": 172,
     "metadata": {},
     "output_type": "execute_result"
    }
   ],
   "source": [
    "df.columns"
   ]
  },
  {
   "cell_type": "code",
   "execution_count": 173,
   "id": "dc499ac9",
   "metadata": {},
   "outputs": [],
   "source": [
    "cols = ['Pclass', 'Sex',\n",
    "        'Embarked']\n",
    "df[cols] = df[cols].apply(LabelEncoder().fit_transform)\n",
    "cols = ['Pclass', 'Sex',\n",
    "        'Embarked']\n",
    "df2[cols] = df2[cols].apply(LabelEncoder().fit_transform)"
   ]
  },
  {
   "cell_type": "code",
   "execution_count": 174,
   "id": "300cc22d",
   "metadata": {},
   "outputs": [
    {
     "data": {
      "image/png": "[encoded data removed]",
      "text/plain": [
       "<Figure size 640x480 with 2 Axes>"
      ]
     },
     "metadata": {},
     "output_type": "display_data"
    }
   ],
   "source": [
    "sns.heatmap(df.corr(), annot = True ,fmt='0.2f')\n",
    "plt.show()"
   ]
  },
  {
   "cell_type": "code",
   "execution_count": 181,
   "id": "80349796",
   "metadata": {},
   "outputs": [],
   "source": [
    "from sklearn.model_selection import train_test_split\n",
    "x=df.drop(['Survived',\"Name\",\"Initial\",\"Ticket\"],axis=1).values\n",
    "y=df['Survived'].values\n",
    "coulmns = ['Pclass', 'Sex', 'Age', 'SibSp', 'Parch',\n",
    "       'Fare', 'Embarked']"
   ]
  },
  {
   "cell_type": "code",
   "execution_count": 182,
   "id": "a17d12e2",
   "metadata": {},
   "outputs": [],
   "source": [
    "x_train,x_test,y_train,y_test = train_test_split(x,y,test_size=0.30,random_state=42)"
   ]
  },
  {
   "cell_type": "code",
   "execution_count": 183,
   "id": "a2fc4a0a",
   "metadata": {},
   "outputs": [],
   "source": [
    "from sklearn.metrics import accuracy_score\n",
    "from tpot import TPOTClassifier"
   ]
  },
  {
   "cell_type": "code",
   "execution_count": 184,
   "id": "dc49ceb4",
   "metadata": {},
   "outputs": [],
   "source": [
    "tpot = TPOTClassifier(generations=15 , verbosity=2 )"
   ]
  },
  {
   "cell_type": "code",
   "execution_count": 185,
   "id": "25200fd4",
   "metadata": {},
   "outputs": [
    {
     "data": {
      "application/vnd.jupyter.widget-view+json": {
       "model_id": "",
       "version_major": 2,
       "version_minor": 0
      },
      "text/plain": [
       "Optimization Progress:   0%|          | 0/1600 [00:00<?, ?pipeline/s]"
      ]
     },
     "metadata": {},
     "output_type": "display_data"
    },
    {
     "name": "stdout",
     "output_type": "stream",
     "text": [
      "\n",
      "Generation 1 - Current best internal CV score: 0.8281935483870967\n",
      "\n",
      "Generation 2 - Current best internal CV score: 0.8282064516129033\n",
      "\n",
      "Generation 3 - Current best internal CV score: 0.8298064516129031\n",
      "\n",
      "Generation 4 - Current best internal CV score: 0.8298064516129031\n",
      "\n",
      "Generation 5 - Current best internal CV score: 0.8298193548387098\n",
      "\n",
      "Generation 6 - Current best internal CV score: 0.8330322580645161\n",
      "\n",
      "Generation 7 - Current best internal CV score: 0.8330322580645161\n",
      "\n",
      "Generation 8 - Current best internal CV score: 0.8330322580645161\n",
      "\n",
      "Generation 9 - Current best internal CV score: 0.8346451612903225\n",
      "\n",
      "Generation 10 - Current best internal CV score: 0.8346451612903225\n",
      "\n",
      "Generation 11 - Current best internal CV score: 0.8346451612903225\n",
      "\n",
      "Generation 12 - Current best internal CV score: 0.836258064516129\n",
      "\n",
      "Generation 13 - Current best internal CV score: 0.836258064516129\n",
      "\n",
      "Generation 14 - Current best internal CV score: 0.836258064516129\n",
      "\n",
      "Generation 15 - Current best internal CV score: 0.836258064516129\n",
      "\n",
      "Best pipeline: ExtraTreesClassifier(OneHotEncoder(BernoulliNB(input_matrix, alpha=100.0, fit_prior=True), minimum_fraction=0.15, sparse=False, threshold=10), bootstrap=False, criterion=gini, max_features=0.9500000000000001, min_samples_leaf=9, min_samples_split=17, n_estimators=100)\n"
     ]
    },
    {
     "data": {
      "text/html": [
       "<style>#sk-container-id-5 {color: black;background-color: white;}#sk-container-id-5 pre{padding: 0;}#sk-container-id-5 div.sk-toggleable {background-color: white;}#sk-container-id-5 label.sk-toggleable__label {cursor: pointer;display: block;width: 100%;margin-bottom: 0;padding: 0.3em;box-sizing: border-box;text-align: center;}#sk-container-id-5 label.sk-toggleable__label-arrow:before {content: \"▸\";float: left;margin-right: 0.25em;color: #696969;}#sk-container-id-5 label.sk-toggleable__label-arrow:hover:before {color: black;}#sk-container-id-5 div.sk-estimator:hover label.sk-toggleable__label-arrow:before {color: black;}#sk-container-id-5 div.sk-toggleable__content {max-height: 0;max-width: 0;overflow: hidden;text-align: left;background-color: #f0f8ff;}#sk-container-id-5 div.sk-toggleable__content pre {margin: 0.2em;color: black;border-radius: 0.25em;background-color: #f0f8ff;}#sk-container-id-5 input.sk-toggleable__control:checked~div.sk-toggleable__content {max-height: 200px;max-width: 100%;overflow: auto;}#sk-container-id-5 input.sk-toggleable__control:checked~label.sk-toggleable__label-arrow:before {content: \"▾\";}#sk-container-id-5 div.sk-estimator input.sk-toggleable__control:checked~label.sk-toggleable__label {background-color: #d4ebff;}#sk-container-id-5 div.sk-label input.sk-toggleable__control:checked~label.sk-toggleable__label {background-color: #d4ebff;}#sk-container-id-5 input.sk-hidden--visually {border: 0;clip: rect(1px 1px 1px 1px);clip: rect(1px, 1px, 1px, 1px);height: 1px;margin: -1px;overflow: hidden;padding: 0;position: absolute;width: 1px;}#sk-container-id-5 div.sk-estimator {font-family: monospace;background-color: #f0f8ff;border: 1px dotted black;border-radius: 0.25em;box-sizing: border-box;margin-bottom: 0.5em;}#sk-container-id-5 div.sk-estimator:hover {background-color: #d4ebff;}#sk-container-id-5 div.sk-parallel-item::after {content: \"\";width: 100%;border-bottom: 1px solid gray;flex-grow: 1;}#sk-container-id-5 div.sk-label:hover label.sk-toggleable__label {background-color: #d4ebff;}#sk-container-id-5 div.sk-serial::before {content: \"\";position: absolute;border-left: 1px solid gray;box-sizing: border-box;top: 0;bottom: 0;left: 50%;z-index: 0;}#sk-container-id-5 div.sk-serial {display: flex;flex-direction: column;align-items: center;background-color: white;padding-right: 0.2em;padding-left: 0.2em;position: relative;}#sk-container-id-5 div.sk-item {position: relative;z-index: 1;}#sk-container-id-5 div.sk-parallel {display: flex;align-items: stretch;justify-content: center;background-color: white;position: relative;}#sk-container-id-5 div.sk-item::before, #sk-container-id-5 div.sk-parallel-item::before {content: \"\";position: absolute;border-left: 1px solid gray;box-sizing: border-box;top: 0;bottom: 0;left: 50%;z-index: -1;}#sk-container-id-5 div.sk-parallel-item {display: flex;flex-direction: column;z-index: 1;position: relative;background-color: white;}#sk-container-id-5 div.sk-parallel-item:first-child::after {align-self: flex-end;width: 50%;}#sk-container-id-5 div.sk-parallel-item:last-child::after {align-self: flex-start;width: 50%;}#sk-container-id-5 div.sk-parallel-item:only-child::after {width: 0;}#sk-container-id-5 div.sk-dashed-wrapped {border: 1px dashed gray;margin: 0 0.4em 0.5em 0.4em;box-sizing: border-box;padding-bottom: 0.4em;background-color: white;}#sk-container-id-5 div.sk-label label {font-family: monospace;font-weight: bold;display: inline-block;line-height: 1.2em;}#sk-container-id-5 div.sk-label-container {text-align: center;}#sk-container-id-5 div.sk-container {/* jupyter's `normalize.less` sets `[hidden] { display: none; }` but bootstrap.min.css set `[hidden] { display: none !important; }` so we also need the `!important` here to be able to override the default hidden behavior on the sphinx rendered scikit-learn.org. See: https://github.com/scikit-learn/scikit-learn/issues/21755 */display: inline-block !important;position: relative;}#sk-container-id-5 div.sk-text-repr-fallback {display: none;}</style><div id=\"sk-container-id-5\" class=\"sk-top-container\"><div class=\"sk-text-repr-fallback\"><pre>TPOTClassifier(generations=15, verbosity=2)</pre><b>In a Jupyter environment, please rerun this cell to show the HTML representation or trust the notebook. <br />On GitHub, the HTML representation is unable to render, please try loading this page with nbviewer.org.</b></div><div class=\"sk-container\" hidden><div class=\"sk-item\"><div class=\"sk-estimator sk-toggleable\"><input class=\"sk-toggleable__control sk-hidden--visually\" id=\"sk-estimator-id-5\" type=\"checkbox\" checked><label for=\"sk-estimator-id-5\" class=\"sk-toggleable__label sk-toggleable__label-arrow\">TPOTClassifier</label><div class=\"sk-toggleable__content\"><pre>TPOTClassifier(generations=15, verbosity=2)</pre></div></div></div></div></div>"
      ],
      "text/plain": [
       "TPOTClassifier(generations=15, verbosity=2)"
      ]
     },
     "execution_count": 185,
     "metadata": {},
     "output_type": "execute_result"
    }
   ],
   "source": [
    "tpot.fit(x_train, y_train)"
   ]
  },
  {
   "cell_type": "code",
   "execution_count": 186,
   "id": "74c3a37c",
   "metadata": {},
   "outputs": [
    {
     "name": "stdout",
     "output_type": "stream",
     "text": [
      "0.7947761194029851\n"
     ]
    }
   ],
   "source": [
    "print(tpot.score(x_test, y_test))"
   ]
  },
  {
   "cell_type": "code",
   "execution_count": 187,
   "id": "ace1015f",
   "metadata": {},
   "outputs": [
    {
     "name": "stdout",
     "output_type": "stream",
     "text": [
      "Checking whether there is an H2O instance running at http://localhost:54321. connected.\n"
     ]
    },
    {
     "data": {
      "text/html": [
       "\n",
       "<style>\n",
       "\n",
       "#h2o-table-20.h2o-container {\n",
       "  overflow-x: auto;\n",
       "}\n",
       "#h2o-table-20 .h2o-table {\n",
       "  /* width: 100%; */\n",
       "  margin-top: 1em;\n",
       "  margin-bottom: 1em;\n",
       "}\n",
       "#h2o-table-20 .h2o-table caption {\n",
       "  white-space: nowrap;\n",
       "  caption-side: top;\n",
       "  text-align: left;\n",
       "  /* margin-left: 1em; */\n",
       "  margin: 0;\n",
       "  font-size: larger;\n",
       "}\n",
       "#h2o-table-20 .h2o-table thead {\n",
       "  white-space: nowrap; \n",
       "  position: sticky;\n",
       "  top: 0;\n",
       "  box-shadow: 0 -1px inset;\n",
       "}\n",
       "#h2o-table-20 .h2o-table tbody {\n",
       "  overflow: auto;\n",
       "}\n",
       "#h2o-table-20 .h2o-table th,\n",
       "#h2o-table-20 .h2o-table td {\n",
       "  text-align: right;\n",
       "  /* border: 1px solid; */\n",
       "}\n",
       "#h2o-table-20 .h2o-table tr:nth-child(even) {\n",
       "  /* background: #F5F5F5 */\n",
       "}\n",
       "\n",
       "</style>      \n",
       "<div id=\"h2o-table-20\" class=\"h2o-container\">\n",
       "  <table class=\"h2o-table\">\n",
       "    <caption></caption>\n",
       "    <thead></thead>\n",
       "    <tbody><tr><td>H2O_cluster_uptime:</td>\n",
       "<td>2 hours 33 mins</td></tr>\n",
       "<tr><td>H2O_cluster_timezone:</td>\n",
       "<td>Africa/Cairo</td></tr>\n",
       "<tr><td>H2O_data_parsing_timezone:</td>\n",
       "<td>UTC</td></tr>\n",
       "<tr><td>H2O_cluster_version:</td>\n",
       "<td>3.42.0.1</td></tr>\n",
       "<tr><td>H2O_cluster_version_age:</td>\n",
       "<td>22 days</td></tr>\n",
       "<tr><td>H2O_cluster_name:</td>\n",
       "<td>H2O_from_python_eid_28c1kp</td></tr>\n",
       "<tr><td>H2O_cluster_total_nodes:</td>\n",
       "<td>1</td></tr>\n",
       "<tr><td>H2O_cluster_free_memory:</td>\n",
       "<td>3.918 Gb</td></tr>\n",
       "<tr><td>H2O_cluster_total_cores:</td>\n",
       "<td>12</td></tr>\n",
       "<tr><td>H2O_cluster_allowed_cores:</td>\n",
       "<td>12</td></tr>\n",
       "<tr><td>H2O_cluster_status:</td>\n",
       "<td>locked, healthy</td></tr>\n",
       "<tr><td>H2O_connection_url:</td>\n",
       "<td>http://localhost:54321</td></tr>\n",
       "<tr><td>H2O_connection_proxy:</td>\n",
       "<td>{\"http\": null, \"https\": null}</td></tr>\n",
       "<tr><td>H2O_internal_security:</td>\n",
       "<td>False</td></tr>\n",
       "<tr><td>Python_version:</td>\n",
       "<td>3.9.13 final</td></tr></tbody>\n",
       "  </table>\n",
       "</div>\n"
      ],
      "text/plain": [
       "--------------------------  -----------------------------\n",
       "H2O_cluster_uptime:         2 hours 33 mins\n",
       "H2O_cluster_timezone:       Africa/Cairo\n",
       "H2O_data_parsing_timezone:  UTC\n",
       "H2O_cluster_version:        3.42.0.1\n",
       "H2O_cluster_version_age:    22 days\n",
       "H2O_cluster_name:           H2O_from_python_eid_28c1kp\n",
       "H2O_cluster_total_nodes:    1\n",
       "H2O_cluster_free_memory:    3.918 Gb\n",
       "H2O_cluster_total_cores:    12\n",
       "H2O_cluster_allowed_cores:  12\n",
       "H2O_cluster_status:         locked, healthy\n",
       "H2O_connection_url:         http://localhost:54321\n",
       "H2O_connection_proxy:       {\"http\": null, \"https\": null}\n",
       "H2O_internal_security:      False\n",
       "Python_version:             3.9.13 final\n",
       "--------------------------  -----------------------------"
      ]
     },
     "metadata": {},
     "output_type": "display_data"
    }
   ],
   "source": [
    "import h2o\n",
    "from h2o.automl import H2OAutoML\n",
    "h2o.init()"
   ]
  },
  {
   "cell_type": "code",
   "execution_count": 188,
   "id": "e79d1500",
   "metadata": {},
   "outputs": [
    {
     "name": "stdout",
     "output_type": "stream",
     "text": [
      "Parse progress: |████████████████████████████████████████████████████████████████| (done) 100%\n"
     ]
    }
   ],
   "source": [
    "data = h2o.H2OFrame(df2, destination_frame = \"hf\")"
   ]
  },
  {
   "cell_type": "code",
   "execution_count": 189,
   "id": "54899a53",
   "metadata": {},
   "outputs": [],
   "source": [
    "train, valid = data.split_frame(ratios=[0.7])"
   ]
  },
  {
   "cell_type": "code",
   "execution_count": 190,
   "id": "3a18ac31",
   "metadata": {},
   "outputs": [],
   "source": [
    "aml = H2OAutoML( max_models=10, nfolds=5,\n",
    "                balance_classes=True, sort_metric=\"AUC\", seed=123)"
   ]
  },
  {
   "cell_type": "code",
   "execution_count": 191,
   "id": "0f62ae5b",
   "metadata": {},
   "outputs": [
    {
     "name": "stdout",
     "output_type": "stream",
     "text": [
      "AutoML progress: |\n",
      "16:13:36.454: User specified a validation frame with cross-validation still enabled. Please note that the models will still be validated using cross-validation only, the validation frame will be used to provide purely informative validation metrics on the trained models.\n",
      "16:13:36.455: AutoML: XGBoost is not available; skipping it.\n",
      "\n",
      "███████████████████████████████████████████████████████████████| (done) 100%\n"
     ]
    },
    {
     "data": {
      "text/html": [
       "<pre style='margin: 1em 0 1em 0;'>Model Details\n",
       "=============\n",
       "H2OStackedEnsembleEstimator : Stacked Ensemble\n",
       "Model Key: StackedEnsemble_BestOfFamily_1_AutoML_4_20230713_161336\n",
       "</pre>\n",
       "<div style='margin: 1em 0 1em 0;'>\n",
       "<style>\n",
       "\n",
       "#h2o-table-21.h2o-container {\n",
       "  overflow-x: auto;\n",
       "}\n",
       "#h2o-table-21 .h2o-table {\n",
       "  /* width: 100%; */\n",
       "  margin-top: 1em;\n",
       "  margin-bottom: 1em;\n",
       "}\n",
       "#h2o-table-21 .h2o-table caption {\n",
       "  white-space: nowrap;\n",
       "  caption-side: top;\n",
       "  text-align: left;\n",
       "  /* margin-left: 1em; */\n",
       "  margin: 0;\n",
       "  font-size: larger;\n",
       "}\n",
       "#h2o-table-21 .h2o-table thead {\n",
       "  white-space: nowrap; \n",
       "  position: sticky;\n",
       "  top: 0;\n",
       "  box-shadow: 0 -1px inset;\n",
       "}\n",
       "#h2o-table-21 .h2o-table tbody {\n",
       "  overflow: auto;\n",
       "}\n",
       "#h2o-table-21 .h2o-table th,\n",
       "#h2o-table-21 .h2o-table td {\n",
       "  text-align: right;\n",
       "  /* border: 1px solid; */\n",
       "}\n",
       "#h2o-table-21 .h2o-table tr:nth-child(even) {\n",
       "  /* background: #F5F5F5 */\n",
       "}\n",
       "\n",
       "</style>      \n",
       "<div id=\"h2o-table-21\" class=\"h2o-container\">\n",
       "  <table class=\"h2o-table\">\n",
       "    <caption>Model Summary for Stacked Ensemble: </caption>\n",
       "    <thead><tr><th>key</th>\n",
       "<th>value</th></tr></thead>\n",
       "    <tbody><tr><td>Stacking strategy</td>\n",
       "<td>cross_validation</td></tr>\n",
       "<tr><td>Number of base models (used / total)</td>\n",
       "<td>5/5</td></tr>\n",
       "<tr><td># GBM base models (used / total)</td>\n",
       "<td>1/1</td></tr>\n",
       "<tr><td># DRF base models (used / total)</td>\n",
       "<td>2/2</td></tr>\n",
       "<tr><td># GLM base models (used / total)</td>\n",
       "<td>1/1</td></tr>\n",
       "<tr><td># DeepLearning base models (used / total)</td>\n",
       "<td>1/1</td></tr>\n",
       "<tr><td>Metalearner algorithm</td>\n",
       "<td>GLM</td></tr>\n",
       "<tr><td>Metalearner fold assignment scheme</td>\n",
       "<td>Random</td></tr>\n",
       "<tr><td>Metalearner nfolds</td>\n",
       "<td>5</td></tr>\n",
       "<tr><td>Metalearner fold_column</td>\n",
       "<td>None</td></tr>\n",
       "<tr><td>Custom metalearner hyperparameters</td>\n",
       "<td>None</td></tr></tbody>\n",
       "  </table>\n",
       "</div>\n",
       "</div>\n",
       "<div style='margin: 1em 0 1em 0;'><pre style='margin: 1em 0 1em 0;'>ModelMetricsBinomialGLM: stackedensemble\n",
       "** Reported on train data. **\n",
       "\n",
       "MSE: 0.06828568758668495\n",
       "RMSE: 0.26131530300899897\n",
       "LogLoss: 0.25027026380801676\n",
       "AUC: 0.9684657924866605\n",
       "AUCPR: 0.9612239697379329\n",
       "Gini: 0.9369315849733211\n",
       "Null degrees of freedom: 626\n",
       "Residual degrees of freedom: 621\n",
       "Null deviance: 832.4813919509097\n",
       "Residual deviance: 313.83891081525303\n",
       "AIC: 325.83891081525303</pre>\n",
       "<div style='margin: 1em 0 1em 0;'>\n",
       "<style>\n",
       "\n",
       "#h2o-table-22.h2o-container {\n",
       "  overflow-x: auto;\n",
       "}\n",
       "#h2o-table-22 .h2o-table {\n",
       "  /* width: 100%; */\n",
       "  margin-top: 1em;\n",
       "  margin-bottom: 1em;\n",
       "}\n",
       "#h2o-table-22 .h2o-table caption {\n",
       "  white-space: nowrap;\n",
       "  caption-side: top;\n",
       "  text-align: left;\n",
       "  /* margin-left: 1em; */\n",
       "  margin: 0;\n",
       "  font-size: larger;\n",
       "}\n",
       "#h2o-table-22 .h2o-table thead {\n",
       "  white-space: nowrap; \n",
       "  position: sticky;\n",
       "  top: 0;\n",
       "  box-shadow: 0 -1px inset;\n",
       "}\n",
       "#h2o-table-22 .h2o-table tbody {\n",
       "  overflow: auto;\n",
       "}\n",
       "#h2o-table-22 .h2o-table th,\n",
       "#h2o-table-22 .h2o-table td {\n",
       "  text-align: right;\n",
       "  /* border: 1px solid; */\n",
       "}\n",
       "#h2o-table-22 .h2o-table tr:nth-child(even) {\n",
       "  /* background: #F5F5F5 */\n",
       "}\n",
       "\n",
       "</style>      \n",
       "<div id=\"h2o-table-22\" class=\"h2o-container\">\n",
       "  <table class=\"h2o-table\">\n",
       "    <caption>Confusion Matrix (Act/Pred) for max f1 @ threshold = 0.5279037872120405</caption>\n",
       "    <thead><tr><th></th>\n",
       "<th>dead</th>\n",
       "<th>survived</th>\n",
       "<th>Error</th>\n",
       "<th>Rate</th></tr></thead>\n",
       "    <tbody><tr><td>dead</td>\n",
       "<td>380.0</td>\n",
       "<td>9.0</td>\n",
       "<td>0.0231</td>\n",
       "<td> (9.0/389.0)</td></tr>\n",
       "<tr><td>survived</td>\n",
       "<td>33.0</td>\n",
       "<td>205.0</td>\n",
       "<td>0.1387</td>\n",
       "<td> (33.0/238.0)</td></tr>\n",
       "<tr><td>Total</td>\n",
       "<td>413.0</td>\n",
       "<td>214.0</td>\n",
       "<td>0.067</td>\n",
       "<td> (42.0/627.0)</td></tr></tbody>\n",
       "  </table>\n",
       "</div>\n",
       "</div>\n",
       "<div style='margin: 1em 0 1em 0;'>\n",
       "<style>\n",
       "\n",
       "#h2o-table-23.h2o-container {\n",
       "  overflow-x: auto;\n",
       "}\n",
       "#h2o-table-23 .h2o-table {\n",
       "  /* width: 100%; */\n",
       "  margin-top: 1em;\n",
       "  margin-bottom: 1em;\n",
       "}\n",
       "#h2o-table-23 .h2o-table caption {\n",
       "  white-space: nowrap;\n",
       "  caption-side: top;\n",
       "  text-align: left;\n",
       "  /* margin-left: 1em; */\n",
       "  margin: 0;\n",
       "  font-size: larger;\n",
       "}\n",
       "#h2o-table-23 .h2o-table thead {\n",
       "  white-space: nowrap; \n",
       "  position: sticky;\n",
       "  top: 0;\n",
       "  box-shadow: 0 -1px inset;\n",
       "}\n",
       "#h2o-table-23 .h2o-table tbody {\n",
       "  overflow: auto;\n",
       "}\n",
       "#h2o-table-23 .h2o-table th,\n",
       "#h2o-table-23 .h2o-table td {\n",
       "  text-align: right;\n",
       "  /* border: 1px solid; */\n",
       "}\n",
       "#h2o-table-23 .h2o-table tr:nth-child(even) {\n",
       "  /* background: #F5F5F5 */\n",
       "}\n",
       "\n",
       "</style>      \n",
       "<div id=\"h2o-table-23\" class=\"h2o-container\">\n",
       "  <table class=\"h2o-table\">\n",
       "    <caption>Maximum Metrics: Maximum metrics at their respective thresholds</caption>\n",
       "    <thead><tr><th>metric</th>\n",
       "<th>threshold</th>\n",
       "<th>value</th>\n",
       "<th>idx</th></tr></thead>\n",
       "    <tbody><tr><td>max f1</td>\n",
       "<td>0.5279038</td>\n",
       "<td>0.9070796</td>\n",
       "<td>151.0</td></tr>\n",
       "<tr><td>max f2</td>\n",
       "<td>0.1755648</td>\n",
       "<td>0.9094457</td>\n",
       "<td>246.0</td></tr>\n",
       "<tr><td>max f0point5</td>\n",
       "<td>0.5279038</td>\n",
       "<td>0.9369287</td>\n",
       "<td>151.0</td></tr>\n",
       "<tr><td>max accuracy</td>\n",
       "<td>0.5279038</td>\n",
       "<td>0.9330144</td>\n",
       "<td>151.0</td></tr>\n",
       "<tr><td>max precision</td>\n",
       "<td>0.9867581</td>\n",
       "<td>1.0</td>\n",
       "<td>0.0</td></tr>\n",
       "<tr><td>max recall</td>\n",
       "<td>0.0773679</td>\n",
       "<td>1.0</td>\n",
       "<td>335.0</td></tr>\n",
       "<tr><td>max specificity</td>\n",
       "<td>0.9867581</td>\n",
       "<td>1.0</td>\n",
       "<td>0.0</td></tr>\n",
       "<tr><td>max absolute_mcc</td>\n",
       "<td>0.5279038</td>\n",
       "<td>0.8578934</td>\n",
       "<td>151.0</td></tr>\n",
       "<tr><td>max min_per_class_accuracy</td>\n",
       "<td>0.3483431</td>\n",
       "<td>0.8907563</td>\n",
       "<td>183.0</td></tr>\n",
       "<tr><td>max mean_per_class_accuracy</td>\n",
       "<td>0.5279038</td>\n",
       "<td>0.9191041</td>\n",
       "<td>151.0</td></tr>\n",
       "<tr><td>max tns</td>\n",
       "<td>0.9867581</td>\n",
       "<td>389.0</td>\n",
       "<td>0.0</td></tr>\n",
       "<tr><td>max fns</td>\n",
       "<td>0.9867581</td>\n",
       "<td>237.0</td>\n",
       "<td>0.0</td></tr>\n",
       "<tr><td>max fps</td>\n",
       "<td>0.0094291</td>\n",
       "<td>389.0</td>\n",
       "<td>399.0</td></tr>\n",
       "<tr><td>max tps</td>\n",
       "<td>0.0773679</td>\n",
       "<td>238.0</td>\n",
       "<td>335.0</td></tr>\n",
       "<tr><td>max tnr</td>\n",
       "<td>0.9867581</td>\n",
       "<td>1.0</td>\n",
       "<td>0.0</td></tr>\n",
       "<tr><td>max fnr</td>\n",
       "<td>0.9867581</td>\n",
       "<td>0.9957983</td>\n",
       "<td>0.0</td></tr>\n",
       "<tr><td>max fpr</td>\n",
       "<td>0.0094291</td>\n",
       "<td>1.0</td>\n",
       "<td>399.0</td></tr>\n",
       "<tr><td>max tpr</td>\n",
       "<td>0.0773679</td>\n",
       "<td>1.0</td>\n",
       "<td>335.0</td></tr></tbody>\n",
       "  </table>\n",
       "</div>\n",
       "</div>\n",
       "<div style='margin: 1em 0 1em 0;'>\n",
       "<style>\n",
       "\n",
       "#h2o-table-24.h2o-container {\n",
       "  overflow-x: auto;\n",
       "}\n",
       "#h2o-table-24 .h2o-table {\n",
       "  /* width: 100%; */\n",
       "  margin-top: 1em;\n",
       "  margin-bottom: 1em;\n",
       "}\n",
       "#h2o-table-24 .h2o-table caption {\n",
       "  white-space: nowrap;\n",
       "  caption-side: top;\n",
       "  text-align: left;\n",
       "  /* margin-left: 1em; */\n",
       "  margin: 0;\n",
       "  font-size: larger;\n",
       "}\n",
       "#h2o-table-24 .h2o-table thead {\n",
       "  white-space: nowrap; \n",
       "  position: sticky;\n",
       "  top: 0;\n",
       "  box-shadow: 0 -1px inset;\n",
       "}\n",
       "#h2o-table-24 .h2o-table tbody {\n",
       "  overflow: auto;\n",
       "}\n",
       "#h2o-table-24 .h2o-table th,\n",
       "#h2o-table-24 .h2o-table td {\n",
       "  text-align: right;\n",
       "  /* border: 1px solid; */\n",
       "}\n",
       "#h2o-table-24 .h2o-table tr:nth-child(even) {\n",
       "  /* background: #F5F5F5 */\n",
       "}\n",
       "\n",
       "</style>      \n",
       "<div id=\"h2o-table-24\" class=\"h2o-container\">\n",
       "  <table class=\"h2o-table\">\n",
       "    <caption>Gains/Lift Table: Avg response rate: 37.96 %, avg score: 38.43 %</caption>\n",
       "    <thead><tr><th>group</th>\n",
       "<th>cumulative_data_fraction</th>\n",
       "<th>lower_threshold</th>\n",
       "<th>lift</th>\n",
       "<th>cumulative_lift</th>\n",
       "<th>response_rate</th>\n",
       "<th>score</th>\n",
       "<th>cumulative_response_rate</th>\n",
       "<th>cumulative_score</th>\n",
       "<th>capture_rate</th>\n",
       "<th>cumulative_capture_rate</th>\n",
       "<th>gain</th>\n",
       "<th>cumulative_gain</th>\n",
       "<th>kolmogorov_smirnov</th></tr></thead>\n",
       "    <tbody><tr><td>1</td>\n",
       "<td>0.0111643</td>\n",
       "<td>0.9795562</td>\n",
       "<td>2.6344538</td>\n",
       "<td>2.6344538</td>\n",
       "<td>1.0</td>\n",
       "<td>0.9837558</td>\n",
       "<td>1.0</td>\n",
       "<td>0.9837558</td>\n",
       "<td>0.0294118</td>\n",
       "<td>0.0294118</td>\n",
       "<td>163.4453782</td>\n",
       "<td>163.4453782</td>\n",
       "<td>0.0294118</td></tr>\n",
       "<tr><td>2</td>\n",
       "<td>0.0207337</td>\n",
       "<td>0.9766083</td>\n",
       "<td>2.6344538</td>\n",
       "<td>2.6344538</td>\n",
       "<td>1.0</td>\n",
       "<td>0.9785290</td>\n",
       "<td>1.0</td>\n",
       "<td>0.9813434</td>\n",
       "<td>0.0252101</td>\n",
       "<td>0.0546218</td>\n",
       "<td>163.4453782</td>\n",
       "<td>163.4453782</td>\n",
       "<td>0.0546218</td></tr>\n",
       "<tr><td>3</td>\n",
       "<td>0.0303030</td>\n",
       "<td>0.9739042</td>\n",
       "<td>2.6344538</td>\n",
       "<td>2.6344538</td>\n",
       "<td>1.0</td>\n",
       "<td>0.9748852</td>\n",
       "<td>1.0</td>\n",
       "<td>0.9793040</td>\n",
       "<td>0.0252101</td>\n",
       "<td>0.0798319</td>\n",
       "<td>163.4453782</td>\n",
       "<td>163.4453782</td>\n",
       "<td>0.0798319</td></tr>\n",
       "<tr><td>4</td>\n",
       "<td>0.0414673</td>\n",
       "<td>0.9728088</td>\n",
       "<td>2.6344538</td>\n",
       "<td>2.6344538</td>\n",
       "<td>1.0</td>\n",
       "<td>0.9733942</td>\n",
       "<td>1.0</td>\n",
       "<td>0.9777129</td>\n",
       "<td>0.0294118</td>\n",
       "<td>0.1092437</td>\n",
       "<td>163.4453782</td>\n",
       "<td>163.4453782</td>\n",
       "<td>0.1092437</td></tr>\n",
       "<tr><td>5</td>\n",
       "<td>0.0510367</td>\n",
       "<td>0.9707255</td>\n",
       "<td>2.6344538</td>\n",
       "<td>2.6344538</td>\n",
       "<td>1.0</td>\n",
       "<td>0.9714820</td>\n",
       "<td>1.0</td>\n",
       "<td>0.9765446</td>\n",
       "<td>0.0252101</td>\n",
       "<td>0.1344538</td>\n",
       "<td>163.4453782</td>\n",
       "<td>163.4453782</td>\n",
       "<td>0.1344538</td></tr>\n",
       "<tr><td>6</td>\n",
       "<td>0.1004785</td>\n",
       "<td>0.9406816</td>\n",
       "<td>2.6344538</td>\n",
       "<td>2.6344538</td>\n",
       "<td>1.0</td>\n",
       "<td>0.9612595</td>\n",
       "<td>1.0</td>\n",
       "<td>0.9690234</td>\n",
       "<td>0.1302521</td>\n",
       "<td>0.2647059</td>\n",
       "<td>163.4453782</td>\n",
       "<td>163.4453782</td>\n",
       "<td>0.2647059</td></tr>\n",
       "<tr><td>7</td>\n",
       "<td>0.1499203</td>\n",
       "<td>0.8761829</td>\n",
       "<td>2.6344538</td>\n",
       "<td>2.6344538</td>\n",
       "<td>1.0</td>\n",
       "<td>0.9131846</td>\n",
       "<td>1.0</td>\n",
       "<td>0.9506085</td>\n",
       "<td>0.1302521</td>\n",
       "<td>0.3949580</td>\n",
       "<td>163.4453782</td>\n",
       "<td>163.4453782</td>\n",
       "<td>0.3949580</td></tr>\n",
       "<tr><td>8</td>\n",
       "<td>0.2009569</td>\n",
       "<td>0.8116960</td>\n",
       "<td>2.6344538</td>\n",
       "<td>2.6344538</td>\n",
       "<td>1.0</td>\n",
       "<td>0.8532301</td>\n",
       "<td>1.0</td>\n",
       "<td>0.9258774</td>\n",
       "<td>0.1344538</td>\n",
       "<td>0.5294118</td>\n",
       "<td>163.4453782</td>\n",
       "<td>163.4453782</td>\n",
       "<td>0.5294118</td></tr>\n",
       "<tr><td>9</td>\n",
       "<td>0.2998405</td>\n",
       "<td>0.6401503</td>\n",
       "<td>2.4644890</td>\n",
       "<td>2.5784016</td>\n",
       "<td>0.9354839</td>\n",
       "<td>0.7440079</td>\n",
       "<td>0.9787234</td>\n",
       "<td>0.8658992</td>\n",
       "<td>0.2436975</td>\n",
       "<td>0.7731092</td>\n",
       "<td>146.4489021</td>\n",
       "<td>157.8401573</td>\n",
       "<td>0.7628265</td></tr>\n",
       "<tr><td>10</td>\n",
       "<td>0.4003190</td>\n",
       "<td>0.3480382</td>\n",
       "<td>1.1708683</td>\n",
       "<td>2.2251163</td>\n",
       "<td>0.4444444</td>\n",
       "<td>0.5042025</td>\n",
       "<td>0.8446215</td>\n",
       "<td>0.7751147</td>\n",
       "<td>0.1176471</td>\n",
       "<td>0.8907563</td>\n",
       "<td>17.0868347</td>\n",
       "<td>122.5116341</td>\n",
       "<td>0.7904992</td></tr>\n",
       "<tr><td>11</td>\n",
       "<td>0.5007974</td>\n",
       "<td>0.2005116</td>\n",
       "<td>0.7108844</td>\n",
       "<td>1.9213055</td>\n",
       "<td>0.2698413</td>\n",
       "<td>0.2668531</td>\n",
       "<td>0.7292994</td>\n",
       "<td>0.6731387</td>\n",
       "<td>0.0714286</td>\n",
       "<td>0.9621849</td>\n",
       "<td>-28.9115646</td>\n",
       "<td>92.1305465</td>\n",
       "<td>0.7436759</td></tr>\n",
       "<tr><td>12</td>\n",
       "<td>0.6012759</td>\n",
       "<td>0.1319269</td>\n",
       "<td>0.1672669</td>\n",
       "<td>1.6281903</td>\n",
       "<td>0.0634921</td>\n",
       "<td>0.1596290</td>\n",
       "<td>0.6180371</td>\n",
       "<td>0.5873267</td>\n",
       "<td>0.0168067</td>\n",
       "<td>0.9789916</td>\n",
       "<td>-83.2733093</td>\n",
       "<td>62.8190268</td>\n",
       "<td>0.6088116</td></tr>\n",
       "<tr><td>13</td>\n",
       "<td>0.7049442</td>\n",
       "<td>0.0994397</td>\n",
       "<td>0.1215902</td>\n",
       "<td>1.4066314</td>\n",
       "<td>0.0461538</td>\n",
       "<td>0.1144303</td>\n",
       "<td>0.5339367</td>\n",
       "<td>0.5177831</td>\n",
       "<td>0.0126050</td>\n",
       "<td>0.9915966</td>\n",
       "<td>-87.8409825</td>\n",
       "<td>40.6631431</td>\n",
       "<td>0.4620337</td></tr>\n",
       "<tr><td>14</td>\n",
       "<td>0.7990431</td>\n",
       "<td>0.0746248</td>\n",
       "<td>0.0893035</td>\n",
       "<td>1.2514970</td>\n",
       "<td>0.0338983</td>\n",
       "<td>0.0871049</td>\n",
       "<td>0.4750499</td>\n",
       "<td>0.4670645</td>\n",
       "<td>0.0084034</td>\n",
       "<td>1.0</td>\n",
       "<td>-91.0696482</td>\n",
       "<td>25.1497006</td>\n",
       "<td>0.3239075</td></tr>\n",
       "<tr><td>15</td>\n",
       "<td>0.8995215</td>\n",
       "<td>0.0593619</td>\n",
       "<td>0.0</td>\n",
       "<td>1.1117021</td>\n",
       "<td>0.0</td>\n",
       "<td>0.0673505</td>\n",
       "<td>0.4219858</td>\n",
       "<td>0.4224156</td>\n",
       "<td>0.0</td>\n",
       "<td>1.0</td>\n",
       "<td>-100.0</td>\n",
       "<td>11.1702128</td>\n",
       "<td>0.1619537</td></tr>\n",
       "<tr><td>16</td>\n",
       "<td>1.0</td>\n",
       "<td>0.0094291</td>\n",
       "<td>0.0</td>\n",
       "<td>1.0</td>\n",
       "<td>0.0</td>\n",
       "<td>0.0426261</td>\n",
       "<td>0.3795853</td>\n",
       "<td>0.3842550</td>\n",
       "<td>0.0</td>\n",
       "<td>1.0</td>\n",
       "<td>-100.0</td>\n",
       "<td>0.0</td>\n",
       "<td>0.0</td></tr></tbody>\n",
       "  </table>\n",
       "</div>\n",
       "</div></div>\n",
       "<div style='margin: 1em 0 1em 0;'><pre style='margin: 1em 0 1em 0;'>ModelMetricsBinomialGLM: stackedensemble\n",
       "** Reported on validation data. **\n",
       "\n",
       "MSE: 0.11695123856834898\n",
       "RMSE: 0.34198134242725725\n",
       "LogLoss: 0.3831283798913398\n",
       "AUC: 0.8951923076923076\n",
       "AUCPR: 0.8779230486386086\n",
       "Gini: 0.7903846153846152\n",
       "Null degrees of freedom: 263\n",
       "Residual degrees of freedom: 258\n",
       "Null deviance: 354.2420833726118\n",
       "Residual deviance: 202.29178458262743\n",
       "AIC: 214.29178458262743</pre>\n",
       "<div style='margin: 1em 0 1em 0;'>\n",
       "<style>\n",
       "\n",
       "#h2o-table-25.h2o-container {\n",
       "  overflow-x: auto;\n",
       "}\n",
       "#h2o-table-25 .h2o-table {\n",
       "  /* width: 100%; */\n",
       "  margin-top: 1em;\n",
       "  margin-bottom: 1em;\n",
       "}\n",
       "#h2o-table-25 .h2o-table caption {\n",
       "  white-space: nowrap;\n",
       "  caption-side: top;\n",
       "  text-align: left;\n",
       "  /* margin-left: 1em; */\n",
       "  margin: 0;\n",
       "  font-size: larger;\n",
       "}\n",
       "#h2o-table-25 .h2o-table thead {\n",
       "  white-space: nowrap; \n",
       "  position: sticky;\n",
       "  top: 0;\n",
       "  box-shadow: 0 -1px inset;\n",
       "}\n",
       "#h2o-table-25 .h2o-table tbody {\n",
       "  overflow: auto;\n",
       "}\n",
       "#h2o-table-25 .h2o-table th,\n",
       "#h2o-table-25 .h2o-table td {\n",
       "  text-align: right;\n",
       "  /* border: 1px solid; */\n",
       "}\n",
       "#h2o-table-25 .h2o-table tr:nth-child(even) {\n",
       "  /* background: #F5F5F5 */\n",
       "}\n",
       "\n",
       "</style>      \n",
       "<div id=\"h2o-table-25\" class=\"h2o-container\">\n",
       "  <table class=\"h2o-table\">\n",
       "    <caption>Confusion Matrix (Act/Pred) for max f1 @ threshold = 0.2931417855038173</caption>\n",
       "    <thead><tr><th></th>\n",
       "<th>dead</th>\n",
       "<th>survived</th>\n",
       "<th>Error</th>\n",
       "<th>Rate</th></tr></thead>\n",
       "    <tbody><tr><td>dead</td>\n",
       "<td>127.0</td>\n",
       "<td>33.0</td>\n",
       "<td>0.2062</td>\n",
       "<td> (33.0/160.0)</td></tr>\n",
       "<tr><td>survived</td>\n",
       "<td>12.0</td>\n",
       "<td>92.0</td>\n",
       "<td>0.1154</td>\n",
       "<td> (12.0/104.0)</td></tr>\n",
       "<tr><td>Total</td>\n",
       "<td>139.0</td>\n",
       "<td>125.0</td>\n",
       "<td>0.1705</td>\n",
       "<td> (45.0/264.0)</td></tr></tbody>\n",
       "  </table>\n",
       "</div>\n",
       "</div>\n",
       "<div style='margin: 1em 0 1em 0;'>\n",
       "<style>\n",
       "\n",
       "#h2o-table-26.h2o-container {\n",
       "  overflow-x: auto;\n",
       "}\n",
       "#h2o-table-26 .h2o-table {\n",
       "  /* width: 100%; */\n",
       "  margin-top: 1em;\n",
       "  margin-bottom: 1em;\n",
       "}\n",
       "#h2o-table-26 .h2o-table caption {\n",
       "  white-space: nowrap;\n",
       "  caption-side: top;\n",
       "  text-align: left;\n",
       "  /* margin-left: 1em; */\n",
       "  margin: 0;\n",
       "  font-size: larger;\n",
       "}\n",
       "#h2o-table-26 .h2o-table thead {\n",
       "  white-space: nowrap; \n",
       "  position: sticky;\n",
       "  top: 0;\n",
       "  box-shadow: 0 -1px inset;\n",
       "}\n",
       "#h2o-table-26 .h2o-table tbody {\n",
       "  overflow: auto;\n",
       "}\n",
       "#h2o-table-26 .h2o-table th,\n",
       "#h2o-table-26 .h2o-table td {\n",
       "  text-align: right;\n",
       "  /* border: 1px solid; */\n",
       "}\n",
       "#h2o-table-26 .h2o-table tr:nth-child(even) {\n",
       "  /* background: #F5F5F5 */\n",
       "}\n",
       "\n",
       "</style>      \n",
       "<div id=\"h2o-table-26\" class=\"h2o-container\">\n",
       "  <table class=\"h2o-table\">\n",
       "    <caption>Maximum Metrics: Maximum metrics at their respective thresholds</caption>\n",
       "    <thead><tr><th>metric</th>\n",
       "<th>threshold</th>\n",
       "<th>value</th>\n",
       "<th>idx</th></tr></thead>\n",
       "    <tbody><tr><td>max f1</td>\n",
       "<td>0.2931418</td>\n",
       "<td>0.8034934</td>\n",
       "<td>122.0</td></tr>\n",
       "<tr><td>max f2</td>\n",
       "<td>0.2272444</td>\n",
       "<td>0.8529946</td>\n",
       "<td>132.0</td></tr>\n",
       "<tr><td>max f0point5</td>\n",
       "<td>0.7797391</td>\n",
       "<td>0.8559783</td>\n",
       "<td>63.0</td></tr>\n",
       "<tr><td>max accuracy</td>\n",
       "<td>0.6066668</td>\n",
       "<td>0.8446970</td>\n",
       "<td>86.0</td></tr>\n",
       "<tr><td>max precision</td>\n",
       "<td>0.9907321</td>\n",
       "<td>1.0</td>\n",
       "<td>0.0</td></tr>\n",
       "<tr><td>max recall</td>\n",
       "<td>0.0404013</td>\n",
       "<td>1.0</td>\n",
       "<td>241.0</td></tr>\n",
       "<tr><td>max specificity</td>\n",
       "<td>0.9907321</td>\n",
       "<td>1.0</td>\n",
       "<td>0.0</td></tr>\n",
       "<tr><td>max absolute_mcc</td>\n",
       "<td>0.6066668</td>\n",
       "<td>0.6713587</td>\n",
       "<td>86.0</td></tr>\n",
       "<tr><td>max min_per_class_accuracy</td>\n",
       "<td>0.3705560</td>\n",
       "<td>0.83125</td>\n",
       "<td>111.0</td></tr>\n",
       "<tr><td>max mean_per_class_accuracy</td>\n",
       "<td>0.2931418</td>\n",
       "<td>0.8391827</td>\n",
       "<td>122.0</td></tr>\n",
       "<tr><td>max tns</td>\n",
       "<td>0.9907321</td>\n",
       "<td>160.0</td>\n",
       "<td>0.0</td></tr>\n",
       "<tr><td>max fns</td>\n",
       "<td>0.9907321</td>\n",
       "<td>103.0</td>\n",
       "<td>0.0</td></tr>\n",
       "<tr><td>max fps</td>\n",
       "<td>0.0094291</td>\n",
       "<td>160.0</td>\n",
       "<td>246.0</td></tr>\n",
       "<tr><td>max tps</td>\n",
       "<td>0.0404013</td>\n",
       "<td>104.0</td>\n",
       "<td>241.0</td></tr>\n",
       "<tr><td>max tnr</td>\n",
       "<td>0.9907321</td>\n",
       "<td>1.0</td>\n",
       "<td>0.0</td></tr>\n",
       "<tr><td>max fnr</td>\n",
       "<td>0.9907321</td>\n",
       "<td>0.9903846</td>\n",
       "<td>0.0</td></tr>\n",
       "<tr><td>max fpr</td>\n",
       "<td>0.0094291</td>\n",
       "<td>1.0</td>\n",
       "<td>246.0</td></tr>\n",
       "<tr><td>max tpr</td>\n",
       "<td>0.0404013</td>\n",
       "<td>1.0</td>\n",
       "<td>241.0</td></tr></tbody>\n",
       "  </table>\n",
       "</div>\n",
       "</div>\n",
       "<div style='margin: 1em 0 1em 0;'>\n",
       "<style>\n",
       "\n",
       "#h2o-table-27.h2o-container {\n",
       "  overflow-x: auto;\n",
       "}\n",
       "#h2o-table-27 .h2o-table {\n",
       "  /* width: 100%; */\n",
       "  margin-top: 1em;\n",
       "  margin-bottom: 1em;\n",
       "}\n",
       "#h2o-table-27 .h2o-table caption {\n",
       "  white-space: nowrap;\n",
       "  caption-side: top;\n",
       "  text-align: left;\n",
       "  /* margin-left: 1em; */\n",
       "  margin: 0;\n",
       "  font-size: larger;\n",
       "}\n",
       "#h2o-table-27 .h2o-table thead {\n",
       "  white-space: nowrap; \n",
       "  position: sticky;\n",
       "  top: 0;\n",
       "  box-shadow: 0 -1px inset;\n",
       "}\n",
       "#h2o-table-27 .h2o-table tbody {\n",
       "  overflow: auto;\n",
       "}\n",
       "#h2o-table-27 .h2o-table th,\n",
       "#h2o-table-27 .h2o-table td {\n",
       "  text-align: right;\n",
       "  /* border: 1px solid; */\n",
       "}\n",
       "#h2o-table-27 .h2o-table tr:nth-child(even) {\n",
       "  /* background: #F5F5F5 */\n",
       "}\n",
       "\n",
       "</style>      \n",
       "<div id=\"h2o-table-27\" class=\"h2o-container\">\n",
       "  <table class=\"h2o-table\">\n",
       "    <caption>Gains/Lift Table: Avg response rate: 39.39 %, avg score: 41.08 %</caption>\n",
       "    <thead><tr><th>group</th>\n",
       "<th>cumulative_data_fraction</th>\n",
       "<th>lower_threshold</th>\n",
       "<th>lift</th>\n",
       "<th>cumulative_lift</th>\n",
       "<th>response_rate</th>\n",
       "<th>score</th>\n",
       "<th>cumulative_response_rate</th>\n",
       "<th>cumulative_score</th>\n",
       "<th>capture_rate</th>\n",
       "<th>cumulative_capture_rate</th>\n",
       "<th>gain</th>\n",
       "<th>cumulative_gain</th>\n",
       "<th>kolmogorov_smirnov</th></tr></thead>\n",
       "    <tbody><tr><td>1</td>\n",
       "<td>0.0113636</td>\n",
       "<td>0.9777282</td>\n",
       "<td>2.5384615</td>\n",
       "<td>2.5384615</td>\n",
       "<td>1.0</td>\n",
       "<td>0.9824828</td>\n",
       "<td>1.0</td>\n",
       "<td>0.9824828</td>\n",
       "<td>0.0288462</td>\n",
       "<td>0.0288462</td>\n",
       "<td>153.8461538</td>\n",
       "<td>153.8461538</td>\n",
       "<td>0.0288462</td></tr>\n",
       "<tr><td>2</td>\n",
       "<td>0.0227273</td>\n",
       "<td>0.9755924</td>\n",
       "<td>2.5384615</td>\n",
       "<td>2.5384615</td>\n",
       "<td>1.0</td>\n",
       "<td>0.9772338</td>\n",
       "<td>1.0</td>\n",
       "<td>0.9798583</td>\n",
       "<td>0.0288462</td>\n",
       "<td>0.0576923</td>\n",
       "<td>153.8461538</td>\n",
       "<td>153.8461538</td>\n",
       "<td>0.0576923</td></tr>\n",
       "<tr><td>3</td>\n",
       "<td>0.0303030</td>\n",
       "<td>0.9669796</td>\n",
       "<td>2.5384615</td>\n",
       "<td>2.5384615</td>\n",
       "<td>1.0</td>\n",
       "<td>0.9706682</td>\n",
       "<td>1.0</td>\n",
       "<td>0.9775608</td>\n",
       "<td>0.0192308</td>\n",
       "<td>0.0769231</td>\n",
       "<td>153.8461538</td>\n",
       "<td>153.8461538</td>\n",
       "<td>0.0769231</td></tr>\n",
       "<tr><td>4</td>\n",
       "<td>0.0416667</td>\n",
       "<td>0.9599093</td>\n",
       "<td>2.5384615</td>\n",
       "<td>2.5384615</td>\n",
       "<td>1.0</td>\n",
       "<td>0.9629581</td>\n",
       "<td>1.0</td>\n",
       "<td>0.9735782</td>\n",
       "<td>0.0288462</td>\n",
       "<td>0.1057692</td>\n",
       "<td>153.8461538</td>\n",
       "<td>153.8461538</td>\n",
       "<td>0.1057692</td></tr>\n",
       "<tr><td>5</td>\n",
       "<td>0.0530303</td>\n",
       "<td>0.9568732</td>\n",
       "<td>2.5384615</td>\n",
       "<td>2.5384615</td>\n",
       "<td>1.0</td>\n",
       "<td>0.9586436</td>\n",
       "<td>1.0</td>\n",
       "<td>0.9703780</td>\n",
       "<td>0.0288462</td>\n",
       "<td>0.1346154</td>\n",
       "<td>153.8461538</td>\n",
       "<td>153.8461538</td>\n",
       "<td>0.1346154</td></tr>\n",
       "<tr><td>6</td>\n",
       "<td>0.1022727</td>\n",
       "<td>0.9227501</td>\n",
       "<td>2.3431953</td>\n",
       "<td>2.4444444</td>\n",
       "<td>0.9230769</td>\n",
       "<td>0.9409277</td>\n",
       "<td>0.9629630</td>\n",
       "<td>0.9561982</td>\n",
       "<td>0.1153846</td>\n",
       "<td>0.25</td>\n",
       "<td>134.3195266</td>\n",
       "<td>144.4444444</td>\n",
       "<td>0.24375</td></tr>\n",
       "<tr><td>7</td>\n",
       "<td>0.1515152</td>\n",
       "<td>0.8801334</td>\n",
       "<td>2.3431953</td>\n",
       "<td>2.4115385</td>\n",
       "<td>0.9230769</td>\n",
       "<td>0.9028663</td>\n",
       "<td>0.95</td>\n",
       "<td>0.9388653</td>\n",
       "<td>0.1153846</td>\n",
       "<td>0.3653846</td>\n",
       "<td>134.3195266</td>\n",
       "<td>141.1538462</td>\n",
       "<td>0.3528846</td></tr>\n",
       "<tr><td>8</td>\n",
       "<td>0.2007576</td>\n",
       "<td>0.8301895</td>\n",
       "<td>2.3431953</td>\n",
       "<td>2.3947750</td>\n",
       "<td>0.9230769</td>\n",
       "<td>0.8627106</td>\n",
       "<td>0.9433962</td>\n",
       "<td>0.9201859</td>\n",
       "<td>0.1153846</td>\n",
       "<td>0.4807692</td>\n",
       "<td>134.3195266</td>\n",
       "<td>139.4775036</td>\n",
       "<td>0.4620192</td></tr>\n",
       "<tr><td>9</td>\n",
       "<td>0.2992424</td>\n",
       "<td>0.6589575</td>\n",
       "<td>1.8550296</td>\n",
       "<td>2.2171373</td>\n",
       "<td>0.7307692</td>\n",
       "<td>0.7583699</td>\n",
       "<td>0.8734177</td>\n",
       "<td>0.8669300</td>\n",
       "<td>0.1826923</td>\n",
       "<td>0.6634615</td>\n",
       "<td>85.5029586</td>\n",
       "<td>121.7137293</td>\n",
       "<td>0.6009615</td></tr>\n",
       "<tr><td>10</td>\n",
       "<td>0.4015152</td>\n",
       "<td>0.4817194</td>\n",
       "<td>1.4102564</td>\n",
       "<td>2.0116110</td>\n",
       "<td>0.5555556</td>\n",
       "<td>0.5829714</td>\n",
       "<td>0.7924528</td>\n",
       "<td>0.7946009</td>\n",
       "<td>0.1442308</td>\n",
       "<td>0.8076923</td>\n",
       "<td>41.0256410</td>\n",
       "<td>101.1611030</td>\n",
       "<td>0.6701923</td></tr>\n",
       "<tr><td>11</td>\n",
       "<td>0.5</td>\n",
       "<td>0.2305079</td>\n",
       "<td>0.8786982</td>\n",
       "<td>1.7884615</td>\n",
       "<td>0.3461538</td>\n",
       "<td>0.3415230</td>\n",
       "<td>0.7045455</td>\n",
       "<td>0.7053583</td>\n",
       "<td>0.0865385</td>\n",
       "<td>0.8942308</td>\n",
       "<td>-12.1301775</td>\n",
       "<td>78.8461538</td>\n",
       "<td>0.6504808</td></tr>\n",
       "<tr><td>12</td>\n",
       "<td>0.5984848</td>\n",
       "<td>0.1670126</td>\n",
       "<td>0.2928994</td>\n",
       "<td>1.5423564</td>\n",
       "<td>0.1153846</td>\n",
       "<td>0.1985932</td>\n",
       "<td>0.6075949</td>\n",
       "<td>0.6219666</td>\n",
       "<td>0.0288462</td>\n",
       "<td>0.9230769</td>\n",
       "<td>-70.7100592</td>\n",
       "<td>54.2356378</td>\n",
       "<td>0.5355769</td></tr>\n",
       "<tr><td>13</td>\n",
       "<td>0.7007576</td>\n",
       "<td>0.1244345</td>\n",
       "<td>0.0940171</td>\n",
       "<td>1.3309771</td>\n",
       "<td>0.0370370</td>\n",
       "<td>0.1412746</td>\n",
       "<td>0.5243243</td>\n",
       "<td>0.5518115</td>\n",
       "<td>0.0096154</td>\n",
       "<td>0.9326923</td>\n",
       "<td>-90.5982906</td>\n",
       "<td>33.0977131</td>\n",
       "<td>0.3826923</td></tr>\n",
       "<tr><td>14</td>\n",
       "<td>0.7992424</td>\n",
       "<td>0.0963007</td>\n",
       "<td>0.2928994</td>\n",
       "<td>1.2030623</td>\n",
       "<td>0.1153846</td>\n",
       "<td>0.1113542</td>\n",
       "<td>0.4739336</td>\n",
       "<td>0.4975372</td>\n",
       "<td>0.0288462</td>\n",
       "<td>0.9615385</td>\n",
       "<td>-70.7100592</td>\n",
       "<td>20.3062341</td>\n",
       "<td>0.2677885</td></tr>\n",
       "<tr><td>15</td>\n",
       "<td>0.8977273</td>\n",
       "<td>0.0678385</td>\n",
       "<td>0.0976331</td>\n",
       "<td>1.0817916</td>\n",
       "<td>0.0384615</td>\n",
       "<td>0.0829168</td>\n",
       "<td>0.4261603</td>\n",
       "<td>0.4520514</td>\n",
       "<td>0.0096154</td>\n",
       "<td>0.9711538</td>\n",
       "<td>-90.2366864</td>\n",
       "<td>8.1791626</td>\n",
       "<td>0.1211538</td></tr>\n",
       "<tr><td>16</td>\n",
       "<td>1.0</td>\n",
       "<td>0.0094291</td>\n",
       "<td>0.2820513</td>\n",
       "<td>1.0</td>\n",
       "<td>0.1111111</td>\n",
       "<td>0.0489294</td>\n",
       "<td>0.3939394</td>\n",
       "<td>0.4108230</td>\n",
       "<td>0.0288462</td>\n",
       "<td>1.0</td>\n",
       "<td>-71.7948718</td>\n",
       "<td>0.0</td>\n",
       "<td>0.0</td></tr></tbody>\n",
       "  </table>\n",
       "</div>\n",
       "</div></div>\n",
       "<div style='margin: 1em 0 1em 0;'><pre style='margin: 1em 0 1em 0;'>ModelMetricsBinomialGLM: stackedensemble\n",
       "** Reported on cross-validation data. **\n",
       "\n",
       "MSE: 0.13272522153395813\n",
       "RMSE: 0.3643147286810652\n",
       "LogLoss: 0.4264689485566126\n",
       "AUC: 0.8653301937741678\n",
       "AUCPR: 0.8322680304818909\n",
       "Gini: 0.7306603875483355\n",
       "Null degrees of freedom: 626\n",
       "Residual degrees of freedom: 621\n",
       "Null deviance: 833.3657398583638\n",
       "Residual deviance: 534.7920614899922\n",
       "AIC: 546.7920614899922</pre>\n",
       "<div style='margin: 1em 0 1em 0;'>\n",
       "<style>\n",
       "\n",
       "#h2o-table-28.h2o-container {\n",
       "  overflow-x: auto;\n",
       "}\n",
       "#h2o-table-28 .h2o-table {\n",
       "  /* width: 100%; */\n",
       "  margin-top: 1em;\n",
       "  margin-bottom: 1em;\n",
       "}\n",
       "#h2o-table-28 .h2o-table caption {\n",
       "  white-space: nowrap;\n",
       "  caption-side: top;\n",
       "  text-align: left;\n",
       "  /* margin-left: 1em; */\n",
       "  margin: 0;\n",
       "  font-size: larger;\n",
       "}\n",
       "#h2o-table-28 .h2o-table thead {\n",
       "  white-space: nowrap; \n",
       "  position: sticky;\n",
       "  top: 0;\n",
       "  box-shadow: 0 -1px inset;\n",
       "}\n",
       "#h2o-table-28 .h2o-table tbody {\n",
       "  overflow: auto;\n",
       "}\n",
       "#h2o-table-28 .h2o-table th,\n",
       "#h2o-table-28 .h2o-table td {\n",
       "  text-align: right;\n",
       "  /* border: 1px solid; */\n",
       "}\n",
       "#h2o-table-28 .h2o-table tr:nth-child(even) {\n",
       "  /* background: #F5F5F5 */\n",
       "}\n",
       "\n",
       "</style>      \n",
       "<div id=\"h2o-table-28\" class=\"h2o-container\">\n",
       "  <table class=\"h2o-table\">\n",
       "    <caption>Confusion Matrix (Act/Pred) for max f1 @ threshold = 0.4379500306048243</caption>\n",
       "    <thead><tr><th></th>\n",
       "<th>dead</th>\n",
       "<th>survived</th>\n",
       "<th>Error</th>\n",
       "<th>Rate</th></tr></thead>\n",
       "    <tbody><tr><td>dead</td>\n",
       "<td>331.0</td>\n",
       "<td>58.0</td>\n",
       "<td>0.1491</td>\n",
       "<td> (58.0/389.0)</td></tr>\n",
       "<tr><td>survived</td>\n",
       "<td>51.0</td>\n",
       "<td>187.0</td>\n",
       "<td>0.2143</td>\n",
       "<td> (51.0/238.0)</td></tr>\n",
       "<tr><td>Total</td>\n",
       "<td>382.0</td>\n",
       "<td>245.0</td>\n",
       "<td>0.1738</td>\n",
       "<td> (109.0/627.0)</td></tr></tbody>\n",
       "  </table>\n",
       "</div>\n",
       "</div>\n",
       "<div style='margin: 1em 0 1em 0;'>\n",
       "<style>\n",
       "\n",
       "#h2o-table-29.h2o-container {\n",
       "  overflow-x: auto;\n",
       "}\n",
       "#h2o-table-29 .h2o-table {\n",
       "  /* width: 100%; */\n",
       "  margin-top: 1em;\n",
       "  margin-bottom: 1em;\n",
       "}\n",
       "#h2o-table-29 .h2o-table caption {\n",
       "  white-space: nowrap;\n",
       "  caption-side: top;\n",
       "  text-align: left;\n",
       "  /* margin-left: 1em; */\n",
       "  margin: 0;\n",
       "  font-size: larger;\n",
       "}\n",
       "#h2o-table-29 .h2o-table thead {\n",
       "  white-space: nowrap; \n",
       "  position: sticky;\n",
       "  top: 0;\n",
       "  box-shadow: 0 -1px inset;\n",
       "}\n",
       "#h2o-table-29 .h2o-table tbody {\n",
       "  overflow: auto;\n",
       "}\n",
       "#h2o-table-29 .h2o-table th,\n",
       "#h2o-table-29 .h2o-table td {\n",
       "  text-align: right;\n",
       "  /* border: 1px solid; */\n",
       "}\n",
       "#h2o-table-29 .h2o-table tr:nth-child(even) {\n",
       "  /* background: #F5F5F5 */\n",
       "}\n",
       "\n",
       "</style>      \n",
       "<div id=\"h2o-table-29\" class=\"h2o-container\">\n",
       "  <table class=\"h2o-table\">\n",
       "    <caption>Maximum Metrics: Maximum metrics at their respective thresholds</caption>\n",
       "    <thead><tr><th>metric</th>\n",
       "<th>threshold</th>\n",
       "<th>value</th>\n",
       "<th>idx</th></tr></thead>\n",
       "    <tbody><tr><td>max f1</td>\n",
       "<td>0.4379500</td>\n",
       "<td>0.7743271</td>\n",
       "<td>185.0</td></tr>\n",
       "<tr><td>max f2</td>\n",
       "<td>0.2891956</td>\n",
       "<td>0.7971014</td>\n",
       "<td>224.0</td></tr>\n",
       "<tr><td>max f0point5</td>\n",
       "<td>0.6192069</td>\n",
       "<td>0.8000000</td>\n",
       "<td>130.0</td></tr>\n",
       "<tr><td>max accuracy</td>\n",
       "<td>0.5187920</td>\n",
       "<td>0.8309410</td>\n",
       "<td>163.0</td></tr>\n",
       "<tr><td>max precision</td>\n",
       "<td>0.9899004</td>\n",
       "<td>1.0</td>\n",
       "<td>0.0</td></tr>\n",
       "<tr><td>max recall</td>\n",
       "<td>0.0351315</td>\n",
       "<td>1.0</td>\n",
       "<td>389.0</td></tr>\n",
       "<tr><td>max specificity</td>\n",
       "<td>0.9899004</td>\n",
       "<td>1.0</td>\n",
       "<td>0.0</td></tr>\n",
       "<tr><td>max absolute_mcc</td>\n",
       "<td>0.5187920</td>\n",
       "<td>0.6366234</td>\n",
       "<td>163.0</td></tr>\n",
       "<tr><td>max min_per_class_accuracy</td>\n",
       "<td>0.3443688</td>\n",
       "<td>0.8046272</td>\n",
       "<td>206.0</td></tr>\n",
       "<tr><td>max mean_per_class_accuracy</td>\n",
       "<td>0.4379500</td>\n",
       "<td>0.8183070</td>\n",
       "<td>185.0</td></tr>\n",
       "<tr><td>max tns</td>\n",
       "<td>0.9899004</td>\n",
       "<td>389.0</td>\n",
       "<td>0.0</td></tr>\n",
       "<tr><td>max fns</td>\n",
       "<td>0.9899004</td>\n",
       "<td>237.0</td>\n",
       "<td>0.0</td></tr>\n",
       "<tr><td>max fps</td>\n",
       "<td>0.0101146</td>\n",
       "<td>389.0</td>\n",
       "<td>399.0</td></tr>\n",
       "<tr><td>max tps</td>\n",
       "<td>0.0351315</td>\n",
       "<td>238.0</td>\n",
       "<td>389.0</td></tr>\n",
       "<tr><td>max tnr</td>\n",
       "<td>0.9899004</td>\n",
       "<td>1.0</td>\n",
       "<td>0.0</td></tr>\n",
       "<tr><td>max fnr</td>\n",
       "<td>0.9899004</td>\n",
       "<td>0.9957983</td>\n",
       "<td>0.0</td></tr>\n",
       "<tr><td>max fpr</td>\n",
       "<td>0.0101146</td>\n",
       "<td>1.0</td>\n",
       "<td>399.0</td></tr>\n",
       "<tr><td>max tpr</td>\n",
       "<td>0.0351315</td>\n",
       "<td>1.0</td>\n",
       "<td>389.0</td></tr></tbody>\n",
       "  </table>\n",
       "</div>\n",
       "</div>\n",
       "<div style='margin: 1em 0 1em 0;'>\n",
       "<style>\n",
       "\n",
       "#h2o-table-30.h2o-container {\n",
       "  overflow-x: auto;\n",
       "}\n",
       "#h2o-table-30 .h2o-table {\n",
       "  /* width: 100%; */\n",
       "  margin-top: 1em;\n",
       "  margin-bottom: 1em;\n",
       "}\n",
       "#h2o-table-30 .h2o-table caption {\n",
       "  white-space: nowrap;\n",
       "  caption-side: top;\n",
       "  text-align: left;\n",
       "  /* margin-left: 1em; */\n",
       "  margin: 0;\n",
       "  font-size: larger;\n",
       "}\n",
       "#h2o-table-30 .h2o-table thead {\n",
       "  white-space: nowrap; \n",
       "  position: sticky;\n",
       "  top: 0;\n",
       "  box-shadow: 0 -1px inset;\n",
       "}\n",
       "#h2o-table-30 .h2o-table tbody {\n",
       "  overflow: auto;\n",
       "}\n",
       "#h2o-table-30 .h2o-table th,\n",
       "#h2o-table-30 .h2o-table td {\n",
       "  text-align: right;\n",
       "  /* border: 1px solid; */\n",
       "}\n",
       "#h2o-table-30 .h2o-table tr:nth-child(even) {\n",
       "  /* background: #F5F5F5 */\n",
       "}\n",
       "\n",
       "</style>      \n",
       "<div id=\"h2o-table-30\" class=\"h2o-container\">\n",
       "  <table class=\"h2o-table\">\n",
       "    <caption>Gains/Lift Table: Avg response rate: 37.96 %, avg score: 37.85 %</caption>\n",
       "    <thead><tr><th>group</th>\n",
       "<th>cumulative_data_fraction</th>\n",
       "<th>lower_threshold</th>\n",
       "<th>lift</th>\n",
       "<th>cumulative_lift</th>\n",
       "<th>response_rate</th>\n",
       "<th>score</th>\n",
       "<th>cumulative_response_rate</th>\n",
       "<th>cumulative_score</th>\n",
       "<th>capture_rate</th>\n",
       "<th>cumulative_capture_rate</th>\n",
       "<th>gain</th>\n",
       "<th>cumulative_gain</th>\n",
       "<th>kolmogorov_smirnov</th></tr></thead>\n",
       "    <tbody><tr><td>1</td>\n",
       "<td>0.0111643</td>\n",
       "<td>0.9778269</td>\n",
       "<td>2.6344538</td>\n",
       "<td>2.6344538</td>\n",
       "<td>1.0</td>\n",
       "<td>0.9833883</td>\n",
       "<td>1.0</td>\n",
       "<td>0.9833883</td>\n",
       "<td>0.0294118</td>\n",
       "<td>0.0294118</td>\n",
       "<td>163.4453782</td>\n",
       "<td>163.4453782</td>\n",
       "<td>0.0294118</td></tr>\n",
       "<tr><td>2</td>\n",
       "<td>0.0207337</td>\n",
       "<td>0.9686538</td>\n",
       "<td>2.6344538</td>\n",
       "<td>2.6344538</td>\n",
       "<td>1.0</td>\n",
       "<td>0.9728840</td>\n",
       "<td>1.0</td>\n",
       "<td>0.9785401</td>\n",
       "<td>0.0252101</td>\n",
       "<td>0.0546218</td>\n",
       "<td>163.4453782</td>\n",
       "<td>163.4453782</td>\n",
       "<td>0.0546218</td></tr>\n",
       "<tr><td>3</td>\n",
       "<td>0.0303030</td>\n",
       "<td>0.9618736</td>\n",
       "<td>2.1953782</td>\n",
       "<td>2.4957983</td>\n",
       "<td>0.8333333</td>\n",
       "<td>0.9641508</td>\n",
       "<td>0.9473684</td>\n",
       "<td>0.9739961</td>\n",
       "<td>0.0210084</td>\n",
       "<td>0.0756303</td>\n",
       "<td>119.5378151</td>\n",
       "<td>149.5798319</td>\n",
       "<td>0.0730596</td></tr>\n",
       "<tr><td>4</td>\n",
       "<td>0.0414673</td>\n",
       "<td>0.9534174</td>\n",
       "<td>2.6344538</td>\n",
       "<td>2.5331286</td>\n",
       "<td>1.0</td>\n",
       "<td>0.9566398</td>\n",
       "<td>0.9615385</td>\n",
       "<td>0.9693233</td>\n",
       "<td>0.0294118</td>\n",
       "<td>0.1050420</td>\n",
       "<td>163.4453782</td>\n",
       "<td>153.3128636</td>\n",
       "<td>0.1024713</td></tr>\n",
       "<tr><td>5</td>\n",
       "<td>0.0510367</td>\n",
       "<td>0.9505272</td>\n",
       "<td>2.6344538</td>\n",
       "<td>2.5521271</td>\n",
       "<td>1.0</td>\n",
       "<td>0.9519230</td>\n",
       "<td>0.96875</td>\n",
       "<td>0.9660607</td>\n",
       "<td>0.0252101</td>\n",
       "<td>0.1302521</td>\n",
       "<td>163.4453782</td>\n",
       "<td>155.2127101</td>\n",
       "<td>0.1276814</td></tr>\n",
       "<tr><td>6</td>\n",
       "<td>0.1004785</td>\n",
       "<td>0.8990864</td>\n",
       "<td>2.5494714</td>\n",
       "<td>2.5508203</td>\n",
       "<td>0.9677419</td>\n",
       "<td>0.9291922</td>\n",
       "<td>0.9682540</td>\n",
       "<td>0.9479191</td>\n",
       "<td>0.1260504</td>\n",
       "<td>0.2563025</td>\n",
       "<td>154.9471401</td>\n",
       "<td>155.0820328</td>\n",
       "<td>0.2511611</td></tr>\n",
       "<tr><td>7</td>\n",
       "<td>0.1499203</td>\n",
       "<td>0.8301753</td>\n",
       "<td>2.0395771</td>\n",
       "<td>2.3822188</td>\n",
       "<td>0.7741935</td>\n",
       "<td>0.8621366</td>\n",
       "<td>0.9042553</td>\n",
       "<td>0.9196291</td>\n",
       "<td>0.1008403</td>\n",
       "<td>0.3571429</td>\n",
       "<td>103.9577121</td>\n",
       "<td>138.2218845</td>\n",
       "<td>0.3340066</td></tr>\n",
       "<tr><td>8</td>\n",
       "<td>0.2009569</td>\n",
       "<td>0.7470218</td>\n",
       "<td>2.4698004</td>\n",
       "<td>2.4044618</td>\n",
       "<td>0.9375</td>\n",
       "<td>0.7927541</td>\n",
       "<td>0.9126984</td>\n",
       "<td>0.8874069</td>\n",
       "<td>0.1260504</td>\n",
       "<td>0.4831933</td>\n",
       "<td>146.9800420</td>\n",
       "<td>140.4461785</td>\n",
       "<td>0.4549156</td></tr>\n",
       "<tr><td>9</td>\n",
       "<td>0.2998405</td>\n",
       "<td>0.5863905</td>\n",
       "<td>1.7846300</td>\n",
       "<td>2.2000492</td>\n",
       "<td>0.6774194</td>\n",
       "<td>0.6706118</td>\n",
       "<td>0.8351064</td>\n",
       "<td>0.8159106</td>\n",
       "<td>0.1764706</td>\n",
       "<td>0.6596639</td>\n",
       "<td>78.4629981</td>\n",
       "<td>120.0049169</td>\n",
       "<td>0.5799723</td></tr>\n",
       "<tr><td>10</td>\n",
       "<td>0.4003190</td>\n",
       "<td>0.4057616</td>\n",
       "<td>1.2963185</td>\n",
       "<td>1.9732164</td>\n",
       "<td>0.4920635</td>\n",
       "<td>0.5023825</td>\n",
       "<td>0.7490040</td>\n",
       "<td>0.7372163</td>\n",
       "<td>0.1302521</td>\n",
       "<td>0.7899160</td>\n",
       "<td>29.6318527</td>\n",
       "<td>97.3216378</td>\n",
       "<td>0.6279622</td></tr>\n",
       "<tr><td>11</td>\n",
       "<td>0.5007974</td>\n",
       "<td>0.2387240</td>\n",
       "<td>0.5018007</td>\n",
       "<td>1.6779960</td>\n",
       "<td>0.1904762</td>\n",
       "<td>0.3102355</td>\n",
       "<td>0.6369427</td>\n",
       "<td>0.6515482</td>\n",
       "<td>0.0504202</td>\n",
       "<td>0.8403361</td>\n",
       "<td>-49.8199280</td>\n",
       "<td>67.7996039</td>\n",
       "<td>0.5472770</td></tr>\n",
       "<tr><td>12</td>\n",
       "<td>0.5996810</td>\n",
       "<td>0.1481168</td>\n",
       "<td>0.3399295</td>\n",
       "<td>1.4573574</td>\n",
       "<td>0.1290323</td>\n",
       "<td>0.1936453</td>\n",
       "<td>0.5531915</td>\n",
       "<td>0.5760429</td>\n",
       "<td>0.0336134</td>\n",
       "<td>0.8739496</td>\n",
       "<td>-66.0070480</td>\n",
       "<td>45.7357411</td>\n",
       "<td>0.4420730</td></tr>\n",
       "<tr><td>13</td>\n",
       "<td>0.7001595</td>\n",
       "<td>0.1078735</td>\n",
       "<td>0.4599840</td>\n",
       "<td>1.3142264</td>\n",
       "<td>0.1746032</td>\n",
       "<td>0.1271293</td>\n",
       "<td>0.4988610</td>\n",
       "<td>0.5116202</td>\n",
       "<td>0.0462185</td>\n",
       "<td>0.9201681</td>\n",
       "<td>-54.0016006</td>\n",
       "<td>31.4226374</td>\n",
       "<td>0.3546154</td></tr>\n",
       "<tr><td>14</td>\n",
       "<td>0.7990431</td>\n",
       "<td>0.0798343</td>\n",
       "<td>0.2124560</td>\n",
       "<td>1.1778795</td>\n",
       "<td>0.0806452</td>\n",
       "<td>0.0923680</td>\n",
       "<td>0.4471058</td>\n",
       "<td>0.4597367</td>\n",
       "<td>0.0210084</td>\n",
       "<td>0.9411765</td>\n",
       "<td>-78.7544050</td>\n",
       "<td>17.7879535</td>\n",
       "<td>0.2290942</td></tr>\n",
       "<tr><td>15</td>\n",
       "<td>0.8995215</td>\n",
       "<td>0.0558779</td>\n",
       "<td>0.4599840</td>\n",
       "<td>1.0976891</td>\n",
       "<td>0.1746032</td>\n",
       "<td>0.0686788</td>\n",
       "<td>0.4166667</td>\n",
       "<td>0.4160547</td>\n",
       "<td>0.0462185</td>\n",
       "<td>0.9873950</td>\n",
       "<td>-54.0016006</td>\n",
       "<td>9.7689076</td>\n",
       "<td>0.1416366</td></tr>\n",
       "<tr><td>16</td>\n",
       "<td>1.0</td>\n",
       "<td>0.0101146</td>\n",
       "<td>0.1254502</td>\n",
       "<td>1.0</td>\n",
       "<td>0.0476190</td>\n",
       "<td>0.0423169</td>\n",
       "<td>0.3795853</td>\n",
       "<td>0.3785021</td>\n",
       "<td>0.0126050</td>\n",
       "<td>1.0</td>\n",
       "<td>-87.4549820</td>\n",
       "<td>0.0</td>\n",
       "<td>0.0</td></tr></tbody>\n",
       "  </table>\n",
       "</div>\n",
       "</div></div>\n",
       "<div style='margin: 1em 0 1em 0;'>\n",
       "<style>\n",
       "\n",
       "#h2o-table-31.h2o-container {\n",
       "  overflow-x: auto;\n",
       "}\n",
       "#h2o-table-31 .h2o-table {\n",
       "  /* width: 100%; */\n",
       "  margin-top: 1em;\n",
       "  margin-bottom: 1em;\n",
       "}\n",
       "#h2o-table-31 .h2o-table caption {\n",
       "  white-space: nowrap;\n",
       "  caption-side: top;\n",
       "  text-align: left;\n",
       "  /* margin-left: 1em; */\n",
       "  margin: 0;\n",
       "  font-size: larger;\n",
       "}\n",
       "#h2o-table-31 .h2o-table thead {\n",
       "  white-space: nowrap; \n",
       "  position: sticky;\n",
       "  top: 0;\n",
       "  box-shadow: 0 -1px inset;\n",
       "}\n",
       "#h2o-table-31 .h2o-table tbody {\n",
       "  overflow: auto;\n",
       "}\n",
       "#h2o-table-31 .h2o-table th,\n",
       "#h2o-table-31 .h2o-table td {\n",
       "  text-align: right;\n",
       "  /* border: 1px solid; */\n",
       "}\n",
       "#h2o-table-31 .h2o-table tr:nth-child(even) {\n",
       "  /* background: #F5F5F5 */\n",
       "}\n",
       "\n",
       "</style>      \n",
       "<div id=\"h2o-table-31\" class=\"h2o-container\">\n",
       "  <table class=\"h2o-table\">\n",
       "    <caption>Cross-Validation Metrics Summary: </caption>\n",
       "    <thead><tr><th></th>\n",
       "<th>mean</th>\n",
       "<th>sd</th>\n",
       "<th>cv_1_valid</th>\n",
       "<th>cv_2_valid</th>\n",
       "<th>cv_3_valid</th>\n",
       "<th>cv_4_valid</th>\n",
       "<th>cv_5_valid</th></tr></thead>\n",
       "    <tbody><tr><td>accuracy</td>\n",
       "<td>0.8404364</td>\n",
       "<td>0.0553732</td>\n",
       "<td>0.7846154</td>\n",
       "<td>0.9322034</td>\n",
       "<td>0.8211382</td>\n",
       "<td>0.8217054</td>\n",
       "<td>0.8425197</td></tr>\n",
       "<tr><td>auc</td>\n",
       "<td>0.8709638</td>\n",
       "<td>0.0454386</td>\n",
       "<td>0.8423927</td>\n",
       "<td>0.9423248</td>\n",
       "<td>0.8780130</td>\n",
       "<td>0.823041</td>\n",
       "<td>0.8690476</td></tr>\n",
       "<tr><td>err</td>\n",
       "<td>0.1595636</td>\n",
       "<td>0.0553732</td>\n",
       "<td>0.2153846</td>\n",
       "<td>0.0677966</td>\n",
       "<td>0.1788618</td>\n",
       "<td>0.1782946</td>\n",
       "<td>0.1574803</td></tr>\n",
       "<tr><td>err_count</td>\n",
       "<td>20.2</td>\n",
       "<td>7.4296703</td>\n",
       "<td>28.0</td>\n",
       "<td>8.0</td>\n",
       "<td>22.0</td>\n",
       "<td>23.0</td>\n",
       "<td>20.0</td></tr>\n",
       "<tr><td>f0point5</td>\n",
       "<td>0.7849761</td>\n",
       "<td>0.0865028</td>\n",
       "<td>0.7118644</td>\n",
       "<td>0.9282700</td>\n",
       "<td>0.7264957</td>\n",
       "<td>0.7623318</td>\n",
       "<td>0.7959183</td></tr>\n",
       "<tr><td>f1</td>\n",
       "<td>0.7930787</td>\n",
       "<td>0.0718433</td>\n",
       "<td>0.75</td>\n",
       "<td>0.9166667</td>\n",
       "<td>0.7555556</td>\n",
       "<td>0.7472528</td>\n",
       "<td>0.7959183</td></tr>\n",
       "<tr><td>f2</td>\n",
       "<td>0.8027033</td>\n",
       "<td>0.0628989</td>\n",
       "<td>0.7924528</td>\n",
       "<td>0.9053498</td>\n",
       "<td>0.787037</td>\n",
       "<td>0.7327586</td>\n",
       "<td>0.7959183</td></tr>\n",
       "<tr><td>lift_top_group</td>\n",
       "<td>2.6444545</td>\n",
       "<td>0.1990463</td>\n",
       "<td>2.5490196</td>\n",
       "<td>2.4081633</td>\n",
       "<td>2.9285715</td>\n",
       "<td>2.744681</td>\n",
       "<td>2.5918367</td></tr>\n",
       "<tr><td>logloss</td>\n",
       "<td>0.4224690</td>\n",
       "<td>0.0631478</td>\n",
       "<td>0.4593432</td>\n",
       "<td>0.3329987</td>\n",
       "<td>0.4037572</td>\n",
       "<td>0.5010963</td>\n",
       "<td>0.4151497</td></tr>\n",
       "<tr><td>max_per_class_error</td>\n",
       "<td>0.2027402</td>\n",
       "<td>0.0655238</td>\n",
       "<td>0.2405063</td>\n",
       "<td>0.1020408</td>\n",
       "<td>0.1904762</td>\n",
       "<td>0.2765957</td>\n",
       "<td>0.2040816</td></tr>\n",
       "<tr><td>---</td>\n",
       "<td>---</td>\n",
       "<td>---</td>\n",
       "<td>---</td>\n",
       "<td>---</td>\n",
       "<td>---</td>\n",
       "<td>---</td>\n",
       "<td>---</td></tr>\n",
       "<tr><td>mean_per_class_error</td>\n",
       "<td>0.1656645</td>\n",
       "<td>0.0544307</td>\n",
       "<td>0.2084885</td>\n",
       "<td>0.0727595</td>\n",
       "<td>0.1816579</td>\n",
       "<td>0.1992735</td>\n",
       "<td>0.1661434</td></tr>\n",
       "<tr><td>mse</td>\n",
       "<td>0.1314204</td>\n",
       "<td>0.0251987</td>\n",
       "<td>0.1486880</td>\n",
       "<td>0.0932341</td>\n",
       "<td>0.1278423</td>\n",
       "<td>0.1590095</td>\n",
       "<td>0.1283282</td></tr>\n",
       "<tr><td>null_deviance</td>\n",
       "<td>166.67314</td>\n",
       "<td>6.337845</td>\n",
       "<td>174.2819</td>\n",
       "<td>161.13823</td>\n",
       "<td>159.11597</td>\n",
       "<td>169.41809</td>\n",
       "<td>169.41156</td></tr>\n",
       "<tr><td>pr_auc</td>\n",
       "<td>0.8413665</td>\n",
       "<td>0.0702476</td>\n",
       "<td>0.8247703</td>\n",
       "<td>0.9508917</td>\n",
       "<td>0.8235104</td>\n",
       "<td>0.7572956</td>\n",
       "<td>0.8503646</td></tr>\n",
       "<tr><td>precision</td>\n",
       "<td>0.7803348</td>\n",
       "<td>0.0977225</td>\n",
       "<td>0.6885246</td>\n",
       "<td>0.9361702</td>\n",
       "<td>0.7083333</td>\n",
       "<td>0.7727272</td>\n",
       "<td>0.7959183</td></tr>\n",
       "<tr><td>r2</td>\n",
       "<td>0.4391384</td>\n",
       "<td>0.1134408</td>\n",
       "<td>0.3763148</td>\n",
       "<td>0.6160333</td>\n",
       "<td>0.4314739</td>\n",
       "<td>0.3134205</td>\n",
       "<td>0.4584497</td></tr>\n",
       "<tr><td>recall</td>\n",
       "<td>0.810067</td>\n",
       "<td>0.0624844</td>\n",
       "<td>0.8235294</td>\n",
       "<td>0.8979592</td>\n",
       "<td>0.8095238</td>\n",
       "<td>0.7234042</td>\n",
       "<td>0.7959183</td></tr>\n",
       "<tr><td>residual_deviance</td>\n",
       "<td>106.41441</td>\n",
       "<td>19.479992</td>\n",
       "<td>119.42923</td>\n",
       "<td>78.5877</td>\n",
       "<td>99.32428</td>\n",
       "<td>129.28284</td>\n",
       "<td>105.44802</td></tr>\n",
       "<tr><td>rmse</td>\n",
       "<td>0.3610966</td>\n",
       "<td>0.0358758</td>\n",
       "<td>0.3856009</td>\n",
       "<td>0.3053426</td>\n",
       "<td>0.3575504</td>\n",
       "<td>0.3987600</td>\n",
       "<td>0.3582292</td></tr>\n",
       "<tr><td>specificity</td>\n",
       "<td>0.8586039</td>\n",
       "<td>0.0723732</td>\n",
       "<td>0.7594937</td>\n",
       "<td>0.9565217</td>\n",
       "<td>0.8271605</td>\n",
       "<td>0.8780488</td>\n",
       "<td>0.8717949</td></tr></tbody>\n",
       "  </table>\n",
       "</div>\n",
       "<pre style='font-size: smaller; margin-bottom: 1em;'>[22 rows x 8 columns]</pre></div><pre style=\"font-size: smaller; margin: 1em 0 0 0;\">\n",
       "\n",
       "[tips]\n",
       "Use `model.explain()` to inspect the model.\n",
       "--\n",
       "Use `h2o.display.toggle_user_tips()` to switch on/off this section.</pre>"
      ],
      "text/plain": [
       "Model Details\n",
       "=============\n",
       "H2OStackedEnsembleEstimator : Stacked Ensemble\n",
       "Model Key: StackedEnsemble_BestOfFamily_1_AutoML_4_20230713_161336\n",
       "\n",
       "\n",
       "Model Summary for Stacked Ensemble: \n",
       "key                                        value\n",
       "-----------------------------------------  ----------------\n",
       "Stacking strategy                          cross_validation\n",
       "Number of base models (used / total)       5/5\n",
       "# GBM base models (used / total)           1/1\n",
       "# DRF base models (used / total)           2/2\n",
       "# GLM base models (used / total)           1/1\n",
       "# DeepLearning base models (used / total)  1/1\n",
       "Metalearner algorithm                      GLM\n",
       "Metalearner fold assignment scheme         Random\n",
       "Metalearner nfolds                         5\n",
       "Metalearner fold_column\n",
       "Custom metalearner hyperparameters         None\n",
       "\n",
       "ModelMetricsBinomialGLM: stackedensemble\n",
       "** Reported on train data. **\n",
       "\n",
       "MSE: 0.06828568758668495\n",
       "RMSE: 0.26131530300899897\n",
       "LogLoss: 0.25027026380801676\n",
       "AUC: 0.9684657924866605\n",
       "AUCPR: 0.9612239697379329\n",
       "Gini: 0.9369315849733211\n",
       "Null degrees of freedom: 626\n",
       "Residual degrees of freedom: 621\n",
       "Null deviance: 832.4813919509097\n",
       "Residual deviance: 313.83891081525303\n",
       "AIC: 325.83891081525303\n",
       "\n",
       "Confusion Matrix (Act/Pred) for max f1 @ threshold = 0.5279037872120405\n",
       "          dead    survived    Error    Rate\n",
       "--------  ------  ----------  -------  ------------\n",
       "dead      380     9           0.0231   (9.0/389.0)\n",
       "survived  33      205         0.1387   (33.0/238.0)\n",
       "Total     413     214         0.067    (42.0/627.0)\n",
       "\n",
       "Maximum Metrics: Maximum metrics at their respective thresholds\n",
       "metric                       threshold    value     idx\n",
       "---------------------------  -----------  --------  -----\n",
       "max f1                       0.527904     0.90708   151\n",
       "max f2                       0.175565     0.909446  246\n",
       "max f0point5                 0.527904     0.936929  151\n",
       "max accuracy                 0.527904     0.933014  151\n",
       "max precision                0.986758     1         0\n",
       "max recall                   0.0773679    1         335\n",
       "max specificity              0.986758     1         0\n",
       "max absolute_mcc             0.527904     0.857893  151\n",
       "max min_per_class_accuracy   0.348343     0.890756  183\n",
       "max mean_per_class_accuracy  0.527904     0.919104  151\n",
       "max tns                      0.986758     389       0\n",
       "max fns                      0.986758     237       0\n",
       "max fps                      0.00942909   389       399\n",
       "max tps                      0.0773679    238       335\n",
       "max tnr                      0.986758     1         0\n",
       "max fnr                      0.986758     0.995798  0\n",
       "max fpr                      0.00942909   1         399\n",
       "max tpr                      0.0773679    1         335\n",
       "\n",
       "Gains/Lift Table: Avg response rate: 37.96 %, avg score: 38.43 %\n",
       "group    cumulative_data_fraction    lower_threshold    lift       cumulative_lift    response_rate    score      cumulative_response_rate    cumulative_score    capture_rate    cumulative_capture_rate    gain      cumulative_gain    kolmogorov_smirnov\n",
       "-------  --------------------------  -----------------  ---------  -----------------  ---------------  ---------  --------------------------  ------------------  --------------  -------------------------  --------  -----------------  --------------------\n",
       "1        0.0111643                   0.979556           2.63445    2.63445            1                0.983756   1                           0.983756            0.0294118       0.0294118                  163.445   163.445            0.0294118\n",
       "2        0.0207337                   0.976608           2.63445    2.63445            1                0.978529   1                           0.981343            0.0252101       0.0546218                  163.445   163.445            0.0546218\n",
       "3        0.030303                    0.973904           2.63445    2.63445            1                0.974885   1                           0.979304            0.0252101       0.0798319                  163.445   163.445            0.0798319\n",
       "4        0.0414673                   0.972809           2.63445    2.63445            1                0.973394   1                           0.977713            0.0294118       0.109244                   163.445   163.445            0.109244\n",
       "5        0.0510367                   0.970726           2.63445    2.63445            1                0.971482   1                           0.976545            0.0252101       0.134454                   163.445   163.445            0.134454\n",
       "6        0.100478                    0.940682           2.63445    2.63445            1                0.96126    1                           0.969023            0.130252        0.264706                   163.445   163.445            0.264706\n",
       "7        0.14992                     0.876183           2.63445    2.63445            1                0.913185   1                           0.950608            0.130252        0.394958                   163.445   163.445            0.394958\n",
       "8        0.200957                    0.811696           2.63445    2.63445            1                0.85323    1                           0.925877            0.134454        0.529412                   163.445   163.445            0.529412\n",
       "9        0.299841                    0.64015            2.46449    2.5784             0.935484         0.744008   0.978723                    0.865899            0.243697        0.773109                   146.449   157.84             0.762826\n",
       "10       0.400319                    0.348038           1.17087    2.22512            0.444444         0.504202   0.844622                    0.775115            0.117647        0.890756                   17.0868   122.512            0.790499\n",
       "11       0.500797                    0.200512           0.710884   1.92131            0.269841         0.266853   0.729299                    0.673139            0.0714286       0.962185                   -28.9116  92.1305            0.743676\n",
       "12       0.601276                    0.131927           0.167267   1.62819            0.0634921        0.159629   0.618037                    0.587327            0.0168067       0.978992                   -83.2733  62.819             0.608812\n",
       "13       0.704944                    0.0994397          0.12159    1.40663            0.0461538        0.11443    0.533937                    0.517783            0.012605        0.991597                   -87.841   40.6631            0.462034\n",
       "14       0.799043                    0.0746248          0.0893035  1.2515             0.0338983        0.0871049  0.47505                     0.467065            0.00840336      1                          -91.0696  25.1497            0.323907\n",
       "15       0.899522                    0.0593619          0          1.1117             0                0.0673505  0.421986                    0.422416            0               1                          -100      11.1702            0.161954\n",
       "16       1                           0.00942909         0          1                  0                0.0426261  0.379585                    0.384255            0               1                          -100      0                  0\n",
       "\n",
       "ModelMetricsBinomialGLM: stackedensemble\n",
       "** Reported on validation data. **\n",
       "\n",
       "MSE: 0.11695123856834898\n",
       "RMSE: 0.34198134242725725\n",
       "LogLoss: 0.3831283798913398\n",
       "AUC: 0.8951923076923076\n",
       "AUCPR: 0.8779230486386086\n",
       "Gini: 0.7903846153846152\n",
       "Null degrees of freedom: 263\n",
       "Residual degrees of freedom: 258\n",
       "Null deviance: 354.2420833726118\n",
       "Residual deviance: 202.29178458262743\n",
       "AIC: 214.29178458262743\n",
       "\n",
       "Confusion Matrix (Act/Pred) for max f1 @ threshold = 0.2931417855038173\n",
       "          dead    survived    Error    Rate\n",
       "--------  ------  ----------  -------  ------------\n",
       "dead      127     33          0.2062   (33.0/160.0)\n",
       "survived  12      92          0.1154   (12.0/104.0)\n",
       "Total     139     125         0.1705   (45.0/264.0)\n",
       "\n",
       "Maximum Metrics: Maximum metrics at their respective thresholds\n",
       "metric                       threshold    value     idx\n",
       "---------------------------  -----------  --------  -----\n",
       "max f1                       0.293142     0.803493  122\n",
       "max f2                       0.227244     0.852995  132\n",
       "max f0point5                 0.779739     0.855978  63\n",
       "max accuracy                 0.606667     0.844697  86\n",
       "max precision                0.990732     1         0\n",
       "max recall                   0.0404013    1         241\n",
       "max specificity              0.990732     1         0\n",
       "max absolute_mcc             0.606667     0.671359  86\n",
       "max min_per_class_accuracy   0.370556     0.83125   111\n",
       "max mean_per_class_accuracy  0.293142     0.839183  122\n",
       "max tns                      0.990732     160       0\n",
       "max fns                      0.990732     103       0\n",
       "max fps                      0.00942909   160       246\n",
       "max tps                      0.0404013    104       241\n",
       "max tnr                      0.990732     1         0\n",
       "max fnr                      0.990732     0.990385  0\n",
       "max fpr                      0.00942909   1         246\n",
       "max tpr                      0.0404013    1         241\n",
       "\n",
       "Gains/Lift Table: Avg response rate: 39.39 %, avg score: 41.08 %\n",
       "group    cumulative_data_fraction    lower_threshold    lift       cumulative_lift    response_rate    score      cumulative_response_rate    cumulative_score    capture_rate    cumulative_capture_rate    gain      cumulative_gain    kolmogorov_smirnov\n",
       "-------  --------------------------  -----------------  ---------  -----------------  ---------------  ---------  --------------------------  ------------------  --------------  -------------------------  --------  -----------------  --------------------\n",
       "1        0.0113636                   0.977728           2.53846    2.53846            1                0.982483   1                           0.982483            0.0288462       0.0288462                  153.846   153.846            0.0288462\n",
       "2        0.0227273                   0.975592           2.53846    2.53846            1                0.977234   1                           0.979858            0.0288462       0.0576923                  153.846   153.846            0.0576923\n",
       "3        0.030303                    0.96698            2.53846    2.53846            1                0.970668   1                           0.977561            0.0192308       0.0769231                  153.846   153.846            0.0769231\n",
       "4        0.0416667                   0.959909           2.53846    2.53846            1                0.962958   1                           0.973578            0.0288462       0.105769                   153.846   153.846            0.105769\n",
       "5        0.0530303                   0.956873           2.53846    2.53846            1                0.958644   1                           0.970378            0.0288462       0.134615                   153.846   153.846            0.134615\n",
       "6        0.102273                    0.92275            2.3432     2.44444            0.923077         0.940928   0.962963                    0.956198            0.115385        0.25                       134.32    144.444            0.24375\n",
       "7        0.151515                    0.880133           2.3432     2.41154            0.923077         0.902866   0.95                        0.938865            0.115385        0.365385                   134.32    141.154            0.352885\n",
       "8        0.200758                    0.83019            2.3432     2.39478            0.923077         0.862711   0.943396                    0.920186            0.115385        0.480769                   134.32    139.478            0.462019\n",
       "9        0.299242                    0.658957           1.85503    2.21714            0.730769         0.75837    0.873418                    0.86693             0.182692        0.663462                   85.503    121.714            0.600962\n",
       "10       0.401515                    0.481719           1.41026    2.01161            0.555556         0.582971   0.792453                    0.794601            0.144231        0.807692                   41.0256   101.161            0.670192\n",
       "11       0.5                         0.230508           0.878698   1.78846            0.346154         0.341523   0.704545                    0.705358            0.0865385       0.894231                   -12.1302  78.8462            0.650481\n",
       "12       0.598485                    0.167013           0.292899   1.54236            0.115385         0.198593   0.607595                    0.621967            0.0288462       0.923077                   -70.7101  54.2356            0.535577\n",
       "13       0.700758                    0.124434           0.0940171  1.33098            0.037037         0.141275   0.524324                    0.551812            0.00961538      0.932692                   -90.5983  33.0977            0.382692\n",
       "14       0.799242                    0.0963007          0.292899   1.20306            0.115385         0.111354   0.473934                    0.497537            0.0288462       0.961538                   -70.7101  20.3062            0.267788\n",
       "15       0.897727                    0.0678385          0.0976331  1.08179            0.0384615        0.0829168  0.42616                     0.452051            0.00961538      0.971154                   -90.2367  8.17916            0.121154\n",
       "16       1                           0.00942909         0.282051   1                  0.111111         0.0489294  0.393939                    0.410823            0.0288462       1                          -71.7949  0                  0\n",
       "\n",
       "ModelMetricsBinomialGLM: stackedensemble\n",
       "** Reported on cross-validation data. **\n",
       "\n",
       "MSE: 0.13272522153395813\n",
       "RMSE: 0.3643147286810652\n",
       "LogLoss: 0.4264689485566126\n",
       "AUC: 0.8653301937741678\n",
       "AUCPR: 0.8322680304818909\n",
       "Gini: 0.7306603875483355\n",
       "Null degrees of freedom: 626\n",
       "Residual degrees of freedom: 621\n",
       "Null deviance: 833.3657398583638\n",
       "Residual deviance: 534.7920614899922\n",
       "AIC: 546.7920614899922\n",
       "\n",
       "Confusion Matrix (Act/Pred) for max f1 @ threshold = 0.4379500306048243\n",
       "          dead    survived    Error    Rate\n",
       "--------  ------  ----------  -------  -------------\n",
       "dead      331     58          0.1491   (58.0/389.0)\n",
       "survived  51      187         0.2143   (51.0/238.0)\n",
       "Total     382     245         0.1738   (109.0/627.0)\n",
       "\n",
       "Maximum Metrics: Maximum metrics at their respective thresholds\n",
       "metric                       threshold    value     idx\n",
       "---------------------------  -----------  --------  -----\n",
       "max f1                       0.43795      0.774327  185\n",
       "max f2                       0.289196     0.797101  224\n",
       "max f0point5                 0.619207     0.8       130\n",
       "max accuracy                 0.518792     0.830941  163\n",
       "max precision                0.9899       1         0\n",
       "max recall                   0.0351315    1         389\n",
       "max specificity              0.9899       1         0\n",
       "max absolute_mcc             0.518792     0.636623  163\n",
       "max min_per_class_accuracy   0.344369     0.804627  206\n",
       "max mean_per_class_accuracy  0.43795      0.818307  185\n",
       "max tns                      0.9899       389       0\n",
       "max fns                      0.9899       237       0\n",
       "max fps                      0.0101146    389       399\n",
       "max tps                      0.0351315    238       389\n",
       "max tnr                      0.9899       1         0\n",
       "max fnr                      0.9899       0.995798  0\n",
       "max fpr                      0.0101146    1         399\n",
       "max tpr                      0.0351315    1         389\n",
       "\n",
       "Gains/Lift Table: Avg response rate: 37.96 %, avg score: 37.85 %\n",
       "group    cumulative_data_fraction    lower_threshold    lift      cumulative_lift    response_rate    score      cumulative_response_rate    cumulative_score    capture_rate    cumulative_capture_rate    gain      cumulative_gain    kolmogorov_smirnov\n",
       "-------  --------------------------  -----------------  --------  -----------------  ---------------  ---------  --------------------------  ------------------  --------------  -------------------------  --------  -----------------  --------------------\n",
       "1        0.0111643                   0.977827           2.63445   2.63445            1                0.983388   1                           0.983388            0.0294118       0.0294118                  163.445   163.445            0.0294118\n",
       "2        0.0207337                   0.968654           2.63445   2.63445            1                0.972884   1                           0.97854             0.0252101       0.0546218                  163.445   163.445            0.0546218\n",
       "3        0.030303                    0.961874           2.19538   2.4958             0.833333         0.964151   0.947368                    0.973996            0.0210084       0.0756303                  119.538   149.58             0.0730596\n",
       "4        0.0414673                   0.953417           2.63445   2.53313            1                0.95664    0.961538                    0.969323            0.0294118       0.105042                   163.445   153.313            0.102471\n",
       "5        0.0510367                   0.950527           2.63445   2.55213            1                0.951923   0.96875                     0.966061            0.0252101       0.130252                   163.445   155.213            0.127681\n",
       "6        0.100478                    0.899086           2.54947   2.55082            0.967742         0.929192   0.968254                    0.947919            0.12605         0.256303                   154.947   155.082            0.251161\n",
       "7        0.14992                     0.830175           2.03958   2.38222            0.774194         0.862137   0.904255                    0.919629            0.10084         0.357143                   103.958   138.222            0.334007\n",
       "8        0.200957                    0.747022           2.4698    2.40446            0.9375           0.792754   0.912698                    0.887407            0.12605         0.483193                   146.98    140.446            0.454916\n",
       "9        0.299841                    0.586391           1.78463   2.20005            0.677419         0.670612   0.835106                    0.815911            0.176471        0.659664                   78.463    120.005            0.579972\n",
       "10       0.400319                    0.405762           1.29632   1.97322            0.492063         0.502382   0.749004                    0.737216            0.130252        0.789916                   29.6319   97.3216            0.627962\n",
       "11       0.500797                    0.238724           0.501801  1.678              0.190476         0.310236   0.636943                    0.651548            0.0504202       0.840336                   -49.8199  67.7996            0.547277\n",
       "12       0.599681                    0.148117           0.33993   1.45736            0.129032         0.193645   0.553191                    0.576043            0.0336134       0.87395                    -66.007   45.7357            0.442073\n",
       "13       0.700159                    0.107873           0.459984  1.31423            0.174603         0.127129   0.498861                    0.51162             0.0462185       0.920168                   -54.0016  31.4226            0.354615\n",
       "14       0.799043                    0.0798343          0.212456  1.17788            0.0806452        0.092368   0.447106                    0.459737            0.0210084       0.941176                   -78.7544  17.788             0.229094\n",
       "15       0.899522                    0.0558779          0.459984  1.09769            0.174603         0.0686788  0.416667                    0.416055            0.0462185       0.987395                   -54.0016  9.76891            0.141637\n",
       "16       1                           0.0101146          0.12545   1                  0.047619         0.0423169  0.379585                    0.378502            0.012605        1                          -87.455   0                  0\n",
       "\n",
       "Cross-Validation Metrics Summary: \n",
       "                      mean        sd           cv_1_valid    cv_2_valid    cv_3_valid    cv_4_valid    cv_5_valid\n",
       "--------------------  ----------  -----------  ------------  ------------  ------------  ------------  ------------\n",
       "accuracy              0.8404364   0.055373225  0.7846154     0.9322034     0.8211382     0.8217054     0.8425197\n",
       "auc                   0.8709638   0.04543857   0.8423927     0.94232476    0.87801296    0.823041      0.86904764\n",
       "err                   0.15956359  0.055373225  0.21538462    0.06779661    0.17886178    0.17829457    0.15748031\n",
       "err_count             20.2        7.4296703    28.0          8.0           22.0          23.0          20.0\n",
       "f0point5              0.78497607  0.08650278   0.7118644     0.92827004    0.72649574    0.76233184    0.79591835\n",
       "f1                    0.79307866  0.07184328   0.75          0.9166667     0.75555557    0.74725276    0.79591835\n",
       "f2                    0.8027033   0.06289893   0.7924528     0.9053498     0.787037      0.73275864    0.79591835\n",
       "lift_top_group        2.6444545   0.19904631   2.5490196     2.4081633     2.9285715     2.744681      2.5918367\n",
       "logloss               0.42246902  0.06314782   0.4593432     0.33299872    0.4037572     0.5010963     0.4151497\n",
       "max_per_class_error   0.20274015  0.06552384   0.24050634    0.10204082    0.1904762     0.27659574    0.20408164\n",
       "---                   ---         ---          ---           ---           ---           ---           ---\n",
       "mean_per_class_error  0.16566454  0.054430697  0.20848846    0.07275954    0.18165785    0.19927348    0.16614339\n",
       "mse                   0.13142042  0.02519866   0.14868803    0.093234085   0.12784228    0.15900952    0.12832817\n",
       "null_deviance         166.67314   6.337845     174.2819      161.13823     159.11597     169.41809     169.41156\n",
       "pr_auc                0.8413665   0.07024762   0.82477033    0.9508917     0.8235104     0.7572956     0.8503646\n",
       "precision             0.7803348   0.09772247   0.6885246     0.9361702     0.7083333     0.77272725    0.79591835\n",
       "r2                    0.43913844  0.11344082   0.37631476    0.6160333     0.43147388    0.3134205     0.4584497\n",
       "recall                0.810067    0.062484365  0.8235294     0.8979592     0.8095238     0.7234042     0.79591835\n",
       "residual_deviance     106.41441   19.479992    119.42923     78.5877       99.32428      129.28284     105.44802\n",
       "rmse                  0.36109662  0.035875823  0.3856009     0.30534256    0.35755038    0.39875996    0.35822922\n",
       "specificity           0.8586039   0.07237323   0.75949365    0.95652175    0.8271605     0.8780488     0.8717949\n",
       "[22 rows x 8 columns]\n",
       "\n",
       "\n",
       "[tips]\n",
       "Use `model.explain()` to inspect the model.\n",
       "--\n",
       "Use `h2o.display.toggle_user_tips()` to switch on/off this section."
      ]
     },
     "execution_count": 191,
     "metadata": {},
     "output_type": "execute_result"
    }
   ],
   "source": [
    "aml.train(x=coulmns, y='Survived', training_frame=train, validation_frame=valid)"
   ]
  },
  {
   "cell_type": "code",
   "execution_count": 192,
   "id": "b3b5953b",
   "metadata": {
    "scrolled": true
   },
   "outputs": [
    {
     "data": {
      "text/html": [
       "<table class='dataframe'>\n",
       "<thead>\n",
       "<tr><th>model_id                                               </th><th style=\"text-align: right;\">     auc</th><th style=\"text-align: right;\">  logloss</th><th style=\"text-align: right;\">   aucpr</th><th style=\"text-align: right;\">  mean_per_class_error</th><th style=\"text-align: right;\">    rmse</th><th style=\"text-align: right;\">     mse</th></tr>\n",
       "</thead>\n",
       "<tbody>\n",
       "<tr><td>StackedEnsemble_BestOfFamily_1_AutoML_4_20230713_161336</td><td style=\"text-align: right;\">0.86533 </td><td style=\"text-align: right;\"> 0.426469</td><td style=\"text-align: right;\">0.832268</td><td style=\"text-align: right;\">              0.181693</td><td style=\"text-align: right;\">0.364315</td><td style=\"text-align: right;\">0.132725</td></tr>\n",
       "<tr><td>StackedEnsemble_AllModels_1_AutoML_4_20230713_161336   </td><td style=\"text-align: right;\">0.859881</td><td style=\"text-align: right;\"> 0.430212</td><td style=\"text-align: right;\">0.822767</td><td style=\"text-align: right;\">              0.184955</td><td style=\"text-align: right;\">0.365287</td><td style=\"text-align: right;\">0.133435</td></tr>\n",
       "<tr><td>GBM_5_AutoML_4_20230713_161336                         </td><td style=\"text-align: right;\">0.858142</td><td style=\"text-align: right;\"> 0.434748</td><td style=\"text-align: right;\">0.833821</td><td style=\"text-align: right;\">              0.189502</td><td style=\"text-align: right;\">0.367447</td><td style=\"text-align: right;\">0.135017</td></tr>\n",
       "<tr><td>GBM_2_AutoML_4_20230713_161336                         </td><td style=\"text-align: right;\">0.85657 </td><td style=\"text-align: right;\"> 0.438217</td><td style=\"text-align: right;\">0.821596</td><td style=\"text-align: right;\">              0.178307</td><td style=\"text-align: right;\">0.368111</td><td style=\"text-align: right;\">0.135506</td></tr>\n",
       "<tr><td>GBM_4_AutoML_4_20230713_161336                         </td><td style=\"text-align: right;\">0.855793</td><td style=\"text-align: right;\"> 0.437136</td><td style=\"text-align: right;\">0.8278  </td><td style=\"text-align: right;\">              0.178652</td><td style=\"text-align: right;\">0.367008</td><td style=\"text-align: right;\">0.134695</td></tr>\n",
       "<tr><td>GBM_grid_1_AutoML_4_20230713_161336_model_1            </td><td style=\"text-align: right;\">0.854259</td><td style=\"text-align: right;\"> 0.436486</td><td style=\"text-align: right;\">0.825854</td><td style=\"text-align: right;\">              0.194768</td><td style=\"text-align: right;\">0.367127</td><td style=\"text-align: right;\">0.134783</td></tr>\n",
       "<tr><td>XRT_1_AutoML_4_20230713_161336                         </td><td style=\"text-align: right;\">0.852882</td><td style=\"text-align: right;\"> 0.469225</td><td style=\"text-align: right;\">0.803228</td><td style=\"text-align: right;\">              0.198181</td><td style=\"text-align: right;\">0.387166</td><td style=\"text-align: right;\">0.149897</td></tr>\n",
       "<tr><td>GBM_3_AutoML_4_20230713_161336                         </td><td style=\"text-align: right;\">0.849317</td><td style=\"text-align: right;\"> 0.446357</td><td style=\"text-align: right;\">0.818971</td><td style=\"text-align: right;\">              0.184139</td><td style=\"text-align: right;\">0.372269</td><td style=\"text-align: right;\">0.138584</td></tr>\n",
       "<tr><td>DRF_1_AutoML_4_20230713_161336                         </td><td style=\"text-align: right;\">0.845278</td><td style=\"text-align: right;\"> 0.547401</td><td style=\"text-align: right;\">0.809646</td><td style=\"text-align: right;\">              0.209128</td><td style=\"text-align: right;\">0.377514</td><td style=\"text-align: right;\">0.142517</td></tr>\n",
       "<tr><td>GLM_1_AutoML_4_20230713_161336                         </td><td style=\"text-align: right;\">0.844997</td><td style=\"text-align: right;\"> 0.456614</td><td style=\"text-align: right;\">0.807079</td><td style=\"text-align: right;\">              0.224012</td><td style=\"text-align: right;\">0.381608</td><td style=\"text-align: right;\">0.145624</td></tr>\n",
       "<tr><td>DeepLearning_1_AutoML_4_20230713_161336                </td><td style=\"text-align: right;\">0.84046 </td><td style=\"text-align: right;\"> 0.462657</td><td style=\"text-align: right;\">0.813233</td><td style=\"text-align: right;\">              0.214297</td><td style=\"text-align: right;\">0.383862</td><td style=\"text-align: right;\">0.14735 </td></tr>\n",
       "<tr><td>GBM_1_AutoML_4_20230713_161336                         </td><td style=\"text-align: right;\">0.837004</td><td style=\"text-align: right;\"> 0.467933</td><td style=\"text-align: right;\">0.806593</td><td style=\"text-align: right;\">              0.230066</td><td style=\"text-align: right;\">0.387322</td><td style=\"text-align: right;\">0.150018</td></tr>\n",
       "</tbody>\n",
       "</table><pre style='font-size: smaller; margin-bottom: 1em;'>[12 rows x 7 columns]</pre>"
      ],
      "text/plain": [
       "model_id                                                      auc    logloss     aucpr    mean_per_class_error      rmse       mse\n",
       "-------------------------------------------------------  --------  ---------  --------  ----------------------  --------  --------\n",
       "StackedEnsemble_BestOfFamily_1_AutoML_4_20230713_161336  0.86533    0.426469  0.832268                0.181693  0.364315  0.132725\n",
       "StackedEnsemble_AllModels_1_AutoML_4_20230713_161336     0.859881   0.430212  0.822767                0.184955  0.365287  0.133435\n",
       "GBM_5_AutoML_4_20230713_161336                           0.858142   0.434748  0.833821                0.189502  0.367447  0.135017\n",
       "GBM_2_AutoML_4_20230713_161336                           0.85657    0.438217  0.821596                0.178307  0.368111  0.135506\n",
       "GBM_4_AutoML_4_20230713_161336                           0.855793   0.437136  0.8278                  0.178652  0.367008  0.134695\n",
       "GBM_grid_1_AutoML_4_20230713_161336_model_1              0.854259   0.436486  0.825854                0.194768  0.367127  0.134783\n",
       "XRT_1_AutoML_4_20230713_161336                           0.852882   0.469225  0.803228                0.198181  0.387166  0.149897\n",
       "GBM_3_AutoML_4_20230713_161336                           0.849317   0.446357  0.818971                0.184139  0.372269  0.138584\n",
       "DRF_1_AutoML_4_20230713_161336                           0.845278   0.547401  0.809646                0.209128  0.377514  0.142517\n",
       "GLM_1_AutoML_4_20230713_161336                           0.844997   0.456614  0.807079                0.224012  0.381608  0.145624\n",
       "DeepLearning_1_AutoML_4_20230713_161336                  0.84046    0.462657  0.813233                0.214297  0.383862  0.14735\n",
       "GBM_1_AutoML_4_20230713_161336                           0.837004   0.467933  0.806593                0.230066  0.387322  0.150018\n",
       "[12 rows x 7 columns]\n"
      ]
     },
     "execution_count": 192,
     "metadata": {},
     "output_type": "execute_result"
    }
   ],
   "source": [
    "aml.leaderboard.head(20)"
   ]
  },
  {
   "cell_type": "code",
   "execution_count": null,
   "id": "484abcb1",
   "metadata": {},
   "outputs": [],
   "source": []
  }
 ],
 "metadata": {
  "kernelspec": {
   "display_name": "Python 3 (ipykernel)",
   "language": "python",
   "name": "python3"
  },
  "language_info": {
   "codemirror_mode": {
    "name": "ipython",
    "version": 3
   },
   "file_extension": ".py",
   "mimetype": "text/x-python",
   "name": "python",
   "nbconvert_exporter": "python",
   "pygments_lexer": "ipython3",
   "version": "3.9.13"
  }
 },
 "nbformat": 4,
 "nbformat_minor": 5
}
